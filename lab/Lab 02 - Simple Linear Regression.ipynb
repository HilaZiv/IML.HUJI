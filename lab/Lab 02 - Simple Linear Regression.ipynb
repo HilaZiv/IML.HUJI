{
 "cells": [
  {
   "cell_type": "markdown",
   "metadata": {
    "collapsed": true,
    "pycharm": {
     "name": "#%% md\n"
    }
   },
   "source": [
    "# Lab 02 - Simple Linear Regression\n",
    "\n",
    "Regressions are any learning problem that aim to describe the relation between a set of explanatory \n",
    "variables (i.e. features) and a continuous response (or a set of responses). Therefore our dataset is of the form:\n",
    "\n",
    "$$S=\\left\\{\\left(\\mathbf{x}_i, y_i\\right)\\right\\}^m_{i=1} \\quad s.t. \\quad \\mathbf{x}_i\\in\\mathbb{R^d},\\,\\,y_i\\in\\mathbb{R}$$\n",
    "\n",
    "In the case of Linear Regression the relation learned is a linear one. That is, we search for a linear function to map \n",
    "$\\mathcal{X}$ to $\\mathcal{Y}$. So the hypothesis class of linear regression is:\n",
    "\n",
    "$$ \\mathcal{H}_{reg} = \\left\\{h:h\\left(x_1,\\ldots,x_d\\right)=w_0 + \\sum w_i x_i\\right\\} $$\n",
    "\n",
    "Note that the linear function is linear in the parameters $w_0,w_1,\\ldots,w_d$. Let us simulate a dataset fitting the case of a simple linear regression: \n",
    "\n",
    "$$ y_i = w_1 x_i + w_0 \\quad i=1,\\ldots,m $$\n",
    "\n",
    "So each hypothesis in the class $\\mathcal{H}_{reg}$ is defined by two parameters $w_0,w_1$ - the intercept and slope of\n",
    "the line. Suppose the data is generated from the following line: $Y=2X+1$. So $w_0=1$ and $w_2=2$. Let us draw and plot \n",
    "samples from this function."
   ]
  },
  {
   "cell_type": "code",
   "execution_count": 12,
   "metadata": {
    "pycharm": {
     "is_executing": false
    }
   },
   "outputs": [],
   "source": [
    "import sys\n",
    "sys.path.append(\"../\")\n",
    "from utils import *"
   ]
  },
  {
   "cell_type": "markdown",
   "metadata": {},
   "source": [
    "## Linear Regression"
   ]
  },
  {
   "cell_type": "code",
   "execution_count": 13,
   "metadata": {
    "pycharm": {
     "is_executing": false,
     "name": "#%%\n"
    }
   },
   "outputs": [],
   "source": [
    "w0, w1 = 1, 2    \n",
    "\n",
    "x = np.linspace(0, 100, 10)\n",
    "y = w1*x + w0"
   ]
  },
  {
   "cell_type": "code",
   "execution_count": 14,
   "metadata": {
    "pycharm": {
     "is_executing": false,
     "name": "#%%\n"
    }
   },
   "outputs": [
    {
     "data": {
      "application/vnd.plotly.v1+json": {
       "config": {
        "plotlyServerURL": "https://plot.ly"
       },
       "data": [
        {
         "line": {
          "color": "black",
          "dash": "dash",
          "width": 1
         },
         "marker": {
          "color": "black",
          "opacity": 0.7
         },
         "name": "Real Model",
         "showlegend": true,
         "type": "scatter",
         "x": [
          0,
          11.11111111111111,
          22.22222222222222,
          33.33333333333333,
          44.44444444444444,
          55.55555555555556,
          66.66666666666666,
          77.77777777777777,
          88.88888888888889,
          100
         ],
         "y": [
          1,
          23.22222222222222,
          45.44444444444444,
          67.66666666666666,
          89.88888888888889,
          112.11111111111111,
          134.33333333333331,
          156.55555555555554,
          178.77777777777777,
          201
         ]
        }
       ],
       "layout": {
        "height": 400,
        "template": {
         "data": {
          "bar": [
           {
            "error_x": {
             "color": "rgb(36,36,36)"
            },
            "error_y": {
             "color": "rgb(36,36,36)"
            },
            "marker": {
             "line": {
              "color": "white",
              "width": 0.5
             },
             "pattern": {
              "fillmode": "overlay",
              "size": 10,
              "solidity": 0.2
             }
            },
            "type": "bar"
           }
          ],
          "barpolar": [
           {
            "marker": {
             "line": {
              "color": "white",
              "width": 0.5
             },
             "pattern": {
              "fillmode": "overlay",
              "size": 10,
              "solidity": 0.2
             }
            },
            "type": "barpolar"
           }
          ],
          "carpet": [
           {
            "aaxis": {
             "endlinecolor": "rgb(36,36,36)",
             "gridcolor": "white",
             "linecolor": "white",
             "minorgridcolor": "white",
             "startlinecolor": "rgb(36,36,36)"
            },
            "baxis": {
             "endlinecolor": "rgb(36,36,36)",
             "gridcolor": "white",
             "linecolor": "white",
             "minorgridcolor": "white",
             "startlinecolor": "rgb(36,36,36)"
            },
            "type": "carpet"
           }
          ],
          "choropleth": [
           {
            "colorbar": {
             "outlinewidth": 1,
             "tickcolor": "rgb(36,36,36)",
             "ticks": "outside"
            },
            "type": "choropleth"
           }
          ],
          "contour": [
           {
            "colorbar": {
             "outlinewidth": 1,
             "tickcolor": "rgb(36,36,36)",
             "ticks": "outside"
            },
            "colorscale": [
             [
              0,
              "#440154"
             ],
             [
              0.1111111111111111,
              "#482878"
             ],
             [
              0.2222222222222222,
              "#3e4989"
             ],
             [
              0.3333333333333333,
              "#31688e"
             ],
             [
              0.4444444444444444,
              "#26828e"
             ],
             [
              0.5555555555555556,
              "#1f9e89"
             ],
             [
              0.6666666666666666,
              "#35b779"
             ],
             [
              0.7777777777777778,
              "#6ece58"
             ],
             [
              0.8888888888888888,
              "#b5de2b"
             ],
             [
              1,
              "#fde725"
             ]
            ],
            "type": "contour"
           }
          ],
          "contourcarpet": [
           {
            "colorbar": {
             "outlinewidth": 1,
             "tickcolor": "rgb(36,36,36)",
             "ticks": "outside"
            },
            "type": "contourcarpet"
           }
          ],
          "heatmap": [
           {
            "colorbar": {
             "outlinewidth": 1,
             "tickcolor": "rgb(36,36,36)",
             "ticks": "outside"
            },
            "colorscale": [
             [
              0,
              "#440154"
             ],
             [
              0.1111111111111111,
              "#482878"
             ],
             [
              0.2222222222222222,
              "#3e4989"
             ],
             [
              0.3333333333333333,
              "#31688e"
             ],
             [
              0.4444444444444444,
              "#26828e"
             ],
             [
              0.5555555555555556,
              "#1f9e89"
             ],
             [
              0.6666666666666666,
              "#35b779"
             ],
             [
              0.7777777777777778,
              "#6ece58"
             ],
             [
              0.8888888888888888,
              "#b5de2b"
             ],
             [
              1,
              "#fde725"
             ]
            ],
            "type": "heatmap"
           }
          ],
          "heatmapgl": [
           {
            "colorbar": {
             "outlinewidth": 1,
             "tickcolor": "rgb(36,36,36)",
             "ticks": "outside"
            },
            "colorscale": [
             [
              0,
              "#440154"
             ],
             [
              0.1111111111111111,
              "#482878"
             ],
             [
              0.2222222222222222,
              "#3e4989"
             ],
             [
              0.3333333333333333,
              "#31688e"
             ],
             [
              0.4444444444444444,
              "#26828e"
             ],
             [
              0.5555555555555556,
              "#1f9e89"
             ],
             [
              0.6666666666666666,
              "#35b779"
             ],
             [
              0.7777777777777778,
              "#6ece58"
             ],
             [
              0.8888888888888888,
              "#b5de2b"
             ],
             [
              1,
              "#fde725"
             ]
            ],
            "type": "heatmapgl"
           }
          ],
          "histogram": [
           {
            "marker": {
             "line": {
              "color": "white",
              "width": 0.6
             }
            },
            "type": "histogram"
           }
          ],
          "histogram2d": [
           {
            "colorbar": {
             "outlinewidth": 1,
             "tickcolor": "rgb(36,36,36)",
             "ticks": "outside"
            },
            "colorscale": [
             [
              0,
              "#440154"
             ],
             [
              0.1111111111111111,
              "#482878"
             ],
             [
              0.2222222222222222,
              "#3e4989"
             ],
             [
              0.3333333333333333,
              "#31688e"
             ],
             [
              0.4444444444444444,
              "#26828e"
             ],
             [
              0.5555555555555556,
              "#1f9e89"
             ],
             [
              0.6666666666666666,
              "#35b779"
             ],
             [
              0.7777777777777778,
              "#6ece58"
             ],
             [
              0.8888888888888888,
              "#b5de2b"
             ],
             [
              1,
              "#fde725"
             ]
            ],
            "type": "histogram2d"
           }
          ],
          "histogram2dcontour": [
           {
            "colorbar": {
             "outlinewidth": 1,
             "tickcolor": "rgb(36,36,36)",
             "ticks": "outside"
            },
            "colorscale": [
             [
              0,
              "#440154"
             ],
             [
              0.1111111111111111,
              "#482878"
             ],
             [
              0.2222222222222222,
              "#3e4989"
             ],
             [
              0.3333333333333333,
              "#31688e"
             ],
             [
              0.4444444444444444,
              "#26828e"
             ],
             [
              0.5555555555555556,
              "#1f9e89"
             ],
             [
              0.6666666666666666,
              "#35b779"
             ],
             [
              0.7777777777777778,
              "#6ece58"
             ],
             [
              0.8888888888888888,
              "#b5de2b"
             ],
             [
              1,
              "#fde725"
             ]
            ],
            "type": "histogram2dcontour"
           }
          ],
          "mesh3d": [
           {
            "colorbar": {
             "outlinewidth": 1,
             "tickcolor": "rgb(36,36,36)",
             "ticks": "outside"
            },
            "type": "mesh3d"
           }
          ],
          "parcoords": [
           {
            "line": {
             "colorbar": {
              "outlinewidth": 1,
              "tickcolor": "rgb(36,36,36)",
              "ticks": "outside"
             }
            },
            "type": "parcoords"
           }
          ],
          "pie": [
           {
            "automargin": true,
            "type": "pie"
           }
          ],
          "scatter": [
           {
            "marker": {
             "colorbar": {
              "outlinewidth": 1,
              "tickcolor": "rgb(36,36,36)",
              "ticks": "outside"
             }
            },
            "type": "scatter"
           }
          ],
          "scatter3d": [
           {
            "line": {
             "colorbar": {
              "outlinewidth": 1,
              "tickcolor": "rgb(36,36,36)",
              "ticks": "outside"
             }
            },
            "marker": {
             "colorbar": {
              "outlinewidth": 1,
              "tickcolor": "rgb(36,36,36)",
              "ticks": "outside"
             }
            },
            "type": "scatter3d"
           }
          ],
          "scattercarpet": [
           {
            "marker": {
             "colorbar": {
              "outlinewidth": 1,
              "tickcolor": "rgb(36,36,36)",
              "ticks": "outside"
             }
            },
            "type": "scattercarpet"
           }
          ],
          "scattergeo": [
           {
            "marker": {
             "colorbar": {
              "outlinewidth": 1,
              "tickcolor": "rgb(36,36,36)",
              "ticks": "outside"
             }
            },
            "type": "scattergeo"
           }
          ],
          "scattergl": [
           {
            "marker": {
             "colorbar": {
              "outlinewidth": 1,
              "tickcolor": "rgb(36,36,36)",
              "ticks": "outside"
             }
            },
            "type": "scattergl"
           }
          ],
          "scattermapbox": [
           {
            "marker": {
             "colorbar": {
              "outlinewidth": 1,
              "tickcolor": "rgb(36,36,36)",
              "ticks": "outside"
             }
            },
            "type": "scattermapbox"
           }
          ],
          "scatterpolar": [
           {
            "marker": {
             "colorbar": {
              "outlinewidth": 1,
              "tickcolor": "rgb(36,36,36)",
              "ticks": "outside"
             }
            },
            "type": "scatterpolar"
           }
          ],
          "scatterpolargl": [
           {
            "marker": {
             "colorbar": {
              "outlinewidth": 1,
              "tickcolor": "rgb(36,36,36)",
              "ticks": "outside"
             }
            },
            "type": "scatterpolargl"
           }
          ],
          "scatterternary": [
           {
            "marker": {
             "colorbar": {
              "outlinewidth": 1,
              "tickcolor": "rgb(36,36,36)",
              "ticks": "outside"
             }
            },
            "type": "scatterternary"
           }
          ],
          "surface": [
           {
            "colorbar": {
             "outlinewidth": 1,
             "tickcolor": "rgb(36,36,36)",
             "ticks": "outside"
            },
            "colorscale": [
             [
              0,
              "#440154"
             ],
             [
              0.1111111111111111,
              "#482878"
             ],
             [
              0.2222222222222222,
              "#3e4989"
             ],
             [
              0.3333333333333333,
              "#31688e"
             ],
             [
              0.4444444444444444,
              "#26828e"
             ],
             [
              0.5555555555555556,
              "#1f9e89"
             ],
             [
              0.6666666666666666,
              "#35b779"
             ],
             [
              0.7777777777777778,
              "#6ece58"
             ],
             [
              0.8888888888888888,
              "#b5de2b"
             ],
             [
              1,
              "#fde725"
             ]
            ],
            "type": "surface"
           }
          ],
          "table": [
           {
            "cells": {
             "fill": {
              "color": "rgb(237,237,237)"
             },
             "line": {
              "color": "white"
             }
            },
            "header": {
             "fill": {
              "color": "rgb(217,217,217)"
             },
             "line": {
              "color": "white"
             }
            },
            "type": "table"
           }
          ]
         },
         "layout": {
          "annotationdefaults": {
           "arrowhead": 0,
           "arrowwidth": 1
          },
          "autotypenumbers": "strict",
          "coloraxis": {
           "colorbar": {
            "outlinewidth": 1,
            "tickcolor": "rgb(36,36,36)",
            "ticks": "outside"
           }
          },
          "colorscale": {
           "diverging": [
            [
             0,
             "rgb(103,0,31)"
            ],
            [
             0.1,
             "rgb(178,24,43)"
            ],
            [
             0.2,
             "rgb(214,96,77)"
            ],
            [
             0.3,
             "rgb(244,165,130)"
            ],
            [
             0.4,
             "rgb(253,219,199)"
            ],
            [
             0.5,
             "rgb(247,247,247)"
            ],
            [
             0.6,
             "rgb(209,229,240)"
            ],
            [
             0.7,
             "rgb(146,197,222)"
            ],
            [
             0.8,
             "rgb(67,147,195)"
            ],
            [
             0.9,
             "rgb(33,102,172)"
            ],
            [
             1,
             "rgb(5,48,97)"
            ]
           ],
           "sequential": [
            [
             0,
             "#440154"
            ],
            [
             0.1111111111111111,
             "#482878"
            ],
            [
             0.2222222222222222,
             "#3e4989"
            ],
            [
             0.3333333333333333,
             "#31688e"
            ],
            [
             0.4444444444444444,
             "#26828e"
            ],
            [
             0.5555555555555556,
             "#1f9e89"
            ],
            [
             0.6666666666666666,
             "#35b779"
            ],
            [
             0.7777777777777778,
             "#6ece58"
            ],
            [
             0.8888888888888888,
             "#b5de2b"
            ],
            [
             1,
             "#fde725"
            ]
           ],
           "sequentialminus": [
            [
             0,
             "#440154"
            ],
            [
             0.1111111111111111,
             "#482878"
            ],
            [
             0.2222222222222222,
             "#3e4989"
            ],
            [
             0.3333333333333333,
             "#31688e"
            ],
            [
             0.4444444444444444,
             "#26828e"
            ],
            [
             0.5555555555555556,
             "#1f9e89"
            ],
            [
             0.6666666666666666,
             "#35b779"
            ],
            [
             0.7777777777777778,
             "#6ece58"
            ],
            [
             0.8888888888888888,
             "#b5de2b"
            ],
            [
             1,
             "#fde725"
            ]
           ]
          },
          "colorway": [
           "#1F77B4",
           "#FF7F0E",
           "#2CA02C",
           "#D62728",
           "#9467BD",
           "#8C564B",
           "#E377C2",
           "#7F7F7F",
           "#BCBD22",
           "#17BECF"
          ],
          "font": {
           "color": "rgb(36,36,36)"
          },
          "geo": {
           "bgcolor": "white",
           "lakecolor": "white",
           "landcolor": "white",
           "showlakes": true,
           "showland": true,
           "subunitcolor": "white"
          },
          "hoverlabel": {
           "align": "left"
          },
          "hovermode": "closest",
          "mapbox": {
           "style": "light"
          },
          "margin": {
           "b": 0,
           "l": 20,
           "r": 20,
           "t": 40
          },
          "paper_bgcolor": "white",
          "plot_bgcolor": "white",
          "polar": {
           "angularaxis": {
            "gridcolor": "rgb(232,232,232)",
            "linecolor": "rgb(36,36,36)",
            "showgrid": false,
            "showline": true,
            "ticks": "outside"
           },
           "bgcolor": "white",
           "radialaxis": {
            "gridcolor": "rgb(232,232,232)",
            "linecolor": "rgb(36,36,36)",
            "showgrid": false,
            "showline": true,
            "ticks": "outside"
           }
          },
          "scene": {
           "xaxis": {
            "backgroundcolor": "white",
            "gridcolor": "rgb(232,232,232)",
            "gridwidth": 2,
            "linecolor": "rgb(36,36,36)",
            "showbackground": true,
            "showgrid": false,
            "showline": true,
            "ticks": "outside",
            "zeroline": false,
            "zerolinecolor": "rgb(36,36,36)"
           },
           "yaxis": {
            "backgroundcolor": "white",
            "gridcolor": "rgb(232,232,232)",
            "gridwidth": 2,
            "linecolor": "rgb(36,36,36)",
            "showbackground": true,
            "showgrid": false,
            "showline": true,
            "ticks": "outside",
            "zeroline": false,
            "zerolinecolor": "rgb(36,36,36)"
           },
           "zaxis": {
            "backgroundcolor": "white",
            "gridcolor": "rgb(232,232,232)",
            "gridwidth": 2,
            "linecolor": "rgb(36,36,36)",
            "showbackground": true,
            "showgrid": false,
            "showline": true,
            "ticks": "outside",
            "zeroline": false,
            "zerolinecolor": "rgb(36,36,36)"
           }
          },
          "shapedefaults": {
           "fillcolor": "black",
           "line": {
            "width": 0
           },
           "opacity": 0.3
          },
          "ternary": {
           "aaxis": {
            "gridcolor": "rgb(232,232,232)",
            "linecolor": "rgb(36,36,36)",
            "showgrid": false,
            "showline": true,
            "ticks": "outside"
           },
           "baxis": {
            "gridcolor": "rgb(232,232,232)",
            "linecolor": "rgb(36,36,36)",
            "showgrid": false,
            "showline": true,
            "ticks": "outside"
           },
           "bgcolor": "white",
           "caxis": {
            "gridcolor": "rgb(232,232,232)",
            "linecolor": "rgb(36,36,36)",
            "showgrid": false,
            "showline": true,
            "ticks": "outside"
           }
          },
          "title": {
           "x": 0.05
          },
          "xaxis": {
           "automargin": true,
           "gridcolor": "rgb(232,232,232)",
           "linecolor": "rgb(36,36,36)",
           "showgrid": false,
           "showline": true,
           "ticks": "outside",
           "title": {
            "standoff": 15
           },
           "zeroline": false,
           "zerolinecolor": "rgb(36,36,36)"
          },
          "yaxis": {
           "automargin": true,
           "gridcolor": "rgb(232,232,232)",
           "linecolor": "rgb(36,36,36)",
           "showgrid": false,
           "showline": true,
           "ticks": "outside",
           "title": {
            "standoff": 15
           },
           "zeroline": false,
           "zerolinecolor": "rgb(36,36,36)"
          }
         }
        },
        "title": {
         "text": "$\\text{(1) Simulated Data}$"
        },
        "xaxis": {
         "title": {
          "text": "x - Explanatory Variable"
         }
        },
        "yaxis": {
         "title": {
          "text": "y - Response"
         }
        }
       }
      },
      "text/html": [
       "<div>                            <div id=\"63fa32e4-3bf4-4a6a-a2e3-84d402101202\" class=\"plotly-graph-div\" style=\"height:400px; width:100%;\"></div>            <script type=\"text/javascript\">                require([\"plotly\"], function(Plotly) {                    window.PLOTLYENV=window.PLOTLYENV || {};                                    if (document.getElementById(\"63fa32e4-3bf4-4a6a-a2e3-84d402101202\")) {                    Plotly.newPlot(                        \"63fa32e4-3bf4-4a6a-a2e3-84d402101202\",                        [{\"line\":{\"color\":\"black\",\"dash\":\"dash\",\"width\":1},\"marker\":{\"color\":\"black\",\"opacity\":0.7},\"name\":\"Real Model\",\"showlegend\":true,\"x\":[0.0,11.11111111111111,22.22222222222222,33.33333333333333,44.44444444444444,55.55555555555556,66.66666666666666,77.77777777777777,88.88888888888889,100.0],\"y\":[1.0,23.22222222222222,45.44444444444444,67.66666666666666,89.88888888888889,112.11111111111111,134.33333333333331,156.55555555555554,178.77777777777777,201.0],\"type\":\"scatter\"}],                        {\"height\":400,\"title\":{\"text\":\"$\\\\text{(1) Simulated Data}$\"},\"xaxis\":{\"title\":{\"text\":\"x - Explanatory Variable\"}},\"yaxis\":{\"title\":{\"text\":\"y - Response\"}},\"template\":{\"data\":{\"barpolar\":[{\"marker\":{\"line\":{\"color\":\"white\",\"width\":0.5},\"pattern\":{\"fillmode\":\"overlay\",\"size\":10,\"solidity\":0.2}},\"type\":\"barpolar\"}],\"bar\":[{\"error_x\":{\"color\":\"rgb(36,36,36)\"},\"error_y\":{\"color\":\"rgb(36,36,36)\"},\"marker\":{\"line\":{\"color\":\"white\",\"width\":0.5},\"pattern\":{\"fillmode\":\"overlay\",\"size\":10,\"solidity\":0.2}},\"type\":\"bar\"}],\"carpet\":[{\"aaxis\":{\"endlinecolor\":\"rgb(36,36,36)\",\"gridcolor\":\"white\",\"linecolor\":\"white\",\"minorgridcolor\":\"white\",\"startlinecolor\":\"rgb(36,36,36)\"},\"baxis\":{\"endlinecolor\":\"rgb(36,36,36)\",\"gridcolor\":\"white\",\"linecolor\":\"white\",\"minorgridcolor\":\"white\",\"startlinecolor\":\"rgb(36,36,36)\"},\"type\":\"carpet\"}],\"choropleth\":[{\"colorbar\":{\"outlinewidth\":1,\"tickcolor\":\"rgb(36,36,36)\",\"ticks\":\"outside\"},\"type\":\"choropleth\"}],\"contourcarpet\":[{\"colorbar\":{\"outlinewidth\":1,\"tickcolor\":\"rgb(36,36,36)\",\"ticks\":\"outside\"},\"type\":\"contourcarpet\"}],\"contour\":[{\"colorbar\":{\"outlinewidth\":1,\"tickcolor\":\"rgb(36,36,36)\",\"ticks\":\"outside\"},\"colorscale\":[[0.0,\"#440154\"],[0.1111111111111111,\"#482878\"],[0.2222222222222222,\"#3e4989\"],[0.3333333333333333,\"#31688e\"],[0.4444444444444444,\"#26828e\"],[0.5555555555555556,\"#1f9e89\"],[0.6666666666666666,\"#35b779\"],[0.7777777777777778,\"#6ece58\"],[0.8888888888888888,\"#b5de2b\"],[1.0,\"#fde725\"]],\"type\":\"contour\"}],\"heatmapgl\":[{\"colorbar\":{\"outlinewidth\":1,\"tickcolor\":\"rgb(36,36,36)\",\"ticks\":\"outside\"},\"colorscale\":[[0.0,\"#440154\"],[0.1111111111111111,\"#482878\"],[0.2222222222222222,\"#3e4989\"],[0.3333333333333333,\"#31688e\"],[0.4444444444444444,\"#26828e\"],[0.5555555555555556,\"#1f9e89\"],[0.6666666666666666,\"#35b779\"],[0.7777777777777778,\"#6ece58\"],[0.8888888888888888,\"#b5de2b\"],[1.0,\"#fde725\"]],\"type\":\"heatmapgl\"}],\"heatmap\":[{\"colorbar\":{\"outlinewidth\":1,\"tickcolor\":\"rgb(36,36,36)\",\"ticks\":\"outside\"},\"colorscale\":[[0.0,\"#440154\"],[0.1111111111111111,\"#482878\"],[0.2222222222222222,\"#3e4989\"],[0.3333333333333333,\"#31688e\"],[0.4444444444444444,\"#26828e\"],[0.5555555555555556,\"#1f9e89\"],[0.6666666666666666,\"#35b779\"],[0.7777777777777778,\"#6ece58\"],[0.8888888888888888,\"#b5de2b\"],[1.0,\"#fde725\"]],\"type\":\"heatmap\"}],\"histogram2dcontour\":[{\"colorbar\":{\"outlinewidth\":1,\"tickcolor\":\"rgb(36,36,36)\",\"ticks\":\"outside\"},\"colorscale\":[[0.0,\"#440154\"],[0.1111111111111111,\"#482878\"],[0.2222222222222222,\"#3e4989\"],[0.3333333333333333,\"#31688e\"],[0.4444444444444444,\"#26828e\"],[0.5555555555555556,\"#1f9e89\"],[0.6666666666666666,\"#35b779\"],[0.7777777777777778,\"#6ece58\"],[0.8888888888888888,\"#b5de2b\"],[1.0,\"#fde725\"]],\"type\":\"histogram2dcontour\"}],\"histogram2d\":[{\"colorbar\":{\"outlinewidth\":1,\"tickcolor\":\"rgb(36,36,36)\",\"ticks\":\"outside\"},\"colorscale\":[[0.0,\"#440154\"],[0.1111111111111111,\"#482878\"],[0.2222222222222222,\"#3e4989\"],[0.3333333333333333,\"#31688e\"],[0.4444444444444444,\"#26828e\"],[0.5555555555555556,\"#1f9e89\"],[0.6666666666666666,\"#35b779\"],[0.7777777777777778,\"#6ece58\"],[0.8888888888888888,\"#b5de2b\"],[1.0,\"#fde725\"]],\"type\":\"histogram2d\"}],\"histogram\":[{\"marker\":{\"line\":{\"color\":\"white\",\"width\":0.6}},\"type\":\"histogram\"}],\"mesh3d\":[{\"colorbar\":{\"outlinewidth\":1,\"tickcolor\":\"rgb(36,36,36)\",\"ticks\":\"outside\"},\"type\":\"mesh3d\"}],\"parcoords\":[{\"line\":{\"colorbar\":{\"outlinewidth\":1,\"tickcolor\":\"rgb(36,36,36)\",\"ticks\":\"outside\"}},\"type\":\"parcoords\"}],\"pie\":[{\"automargin\":true,\"type\":\"pie\"}],\"scatter3d\":[{\"line\":{\"colorbar\":{\"outlinewidth\":1,\"tickcolor\":\"rgb(36,36,36)\",\"ticks\":\"outside\"}},\"marker\":{\"colorbar\":{\"outlinewidth\":1,\"tickcolor\":\"rgb(36,36,36)\",\"ticks\":\"outside\"}},\"type\":\"scatter3d\"}],\"scattercarpet\":[{\"marker\":{\"colorbar\":{\"outlinewidth\":1,\"tickcolor\":\"rgb(36,36,36)\",\"ticks\":\"outside\"}},\"type\":\"scattercarpet\"}],\"scattergeo\":[{\"marker\":{\"colorbar\":{\"outlinewidth\":1,\"tickcolor\":\"rgb(36,36,36)\",\"ticks\":\"outside\"}},\"type\":\"scattergeo\"}],\"scattergl\":[{\"marker\":{\"colorbar\":{\"outlinewidth\":1,\"tickcolor\":\"rgb(36,36,36)\",\"ticks\":\"outside\"}},\"type\":\"scattergl\"}],\"scattermapbox\":[{\"marker\":{\"colorbar\":{\"outlinewidth\":1,\"tickcolor\":\"rgb(36,36,36)\",\"ticks\":\"outside\"}},\"type\":\"scattermapbox\"}],\"scatterpolargl\":[{\"marker\":{\"colorbar\":{\"outlinewidth\":1,\"tickcolor\":\"rgb(36,36,36)\",\"ticks\":\"outside\"}},\"type\":\"scatterpolargl\"}],\"scatterpolar\":[{\"marker\":{\"colorbar\":{\"outlinewidth\":1,\"tickcolor\":\"rgb(36,36,36)\",\"ticks\":\"outside\"}},\"type\":\"scatterpolar\"}],\"scatter\":[{\"marker\":{\"colorbar\":{\"outlinewidth\":1,\"tickcolor\":\"rgb(36,36,36)\",\"ticks\":\"outside\"}},\"type\":\"scatter\"}],\"scatterternary\":[{\"marker\":{\"colorbar\":{\"outlinewidth\":1,\"tickcolor\":\"rgb(36,36,36)\",\"ticks\":\"outside\"}},\"type\":\"scatterternary\"}],\"surface\":[{\"colorbar\":{\"outlinewidth\":1,\"tickcolor\":\"rgb(36,36,36)\",\"ticks\":\"outside\"},\"colorscale\":[[0.0,\"#440154\"],[0.1111111111111111,\"#482878\"],[0.2222222222222222,\"#3e4989\"],[0.3333333333333333,\"#31688e\"],[0.4444444444444444,\"#26828e\"],[0.5555555555555556,\"#1f9e89\"],[0.6666666666666666,\"#35b779\"],[0.7777777777777778,\"#6ece58\"],[0.8888888888888888,\"#b5de2b\"],[1.0,\"#fde725\"]],\"type\":\"surface\"}],\"table\":[{\"cells\":{\"fill\":{\"color\":\"rgb(237,237,237)\"},\"line\":{\"color\":\"white\"}},\"header\":{\"fill\":{\"color\":\"rgb(217,217,217)\"},\"line\":{\"color\":\"white\"}},\"type\":\"table\"}]},\"layout\":{\"annotationdefaults\":{\"arrowhead\":0,\"arrowwidth\":1},\"autotypenumbers\":\"strict\",\"coloraxis\":{\"colorbar\":{\"outlinewidth\":1,\"tickcolor\":\"rgb(36,36,36)\",\"ticks\":\"outside\"}},\"colorscale\":{\"diverging\":[[0.0,\"rgb(103,0,31)\"],[0.1,\"rgb(178,24,43)\"],[0.2,\"rgb(214,96,77)\"],[0.3,\"rgb(244,165,130)\"],[0.4,\"rgb(253,219,199)\"],[0.5,\"rgb(247,247,247)\"],[0.6,\"rgb(209,229,240)\"],[0.7,\"rgb(146,197,222)\"],[0.8,\"rgb(67,147,195)\"],[0.9,\"rgb(33,102,172)\"],[1.0,\"rgb(5,48,97)\"]],\"sequential\":[[0.0,\"#440154\"],[0.1111111111111111,\"#482878\"],[0.2222222222222222,\"#3e4989\"],[0.3333333333333333,\"#31688e\"],[0.4444444444444444,\"#26828e\"],[0.5555555555555556,\"#1f9e89\"],[0.6666666666666666,\"#35b779\"],[0.7777777777777778,\"#6ece58\"],[0.8888888888888888,\"#b5de2b\"],[1.0,\"#fde725\"]],\"sequentialminus\":[[0.0,\"#440154\"],[0.1111111111111111,\"#482878\"],[0.2222222222222222,\"#3e4989\"],[0.3333333333333333,\"#31688e\"],[0.4444444444444444,\"#26828e\"],[0.5555555555555556,\"#1f9e89\"],[0.6666666666666666,\"#35b779\"],[0.7777777777777778,\"#6ece58\"],[0.8888888888888888,\"#b5de2b\"],[1.0,\"#fde725\"]]},\"colorway\":[\"#1F77B4\",\"#FF7F0E\",\"#2CA02C\",\"#D62728\",\"#9467BD\",\"#8C564B\",\"#E377C2\",\"#7F7F7F\",\"#BCBD22\",\"#17BECF\"],\"font\":{\"color\":\"rgb(36,36,36)\"},\"geo\":{\"bgcolor\":\"white\",\"lakecolor\":\"white\",\"landcolor\":\"white\",\"showlakes\":true,\"showland\":true,\"subunitcolor\":\"white\"},\"hoverlabel\":{\"align\":\"left\"},\"hovermode\":\"closest\",\"mapbox\":{\"style\":\"light\"},\"paper_bgcolor\":\"white\",\"plot_bgcolor\":\"white\",\"polar\":{\"angularaxis\":{\"gridcolor\":\"rgb(232,232,232)\",\"linecolor\":\"rgb(36,36,36)\",\"showgrid\":false,\"showline\":true,\"ticks\":\"outside\"},\"bgcolor\":\"white\",\"radialaxis\":{\"gridcolor\":\"rgb(232,232,232)\",\"linecolor\":\"rgb(36,36,36)\",\"showgrid\":false,\"showline\":true,\"ticks\":\"outside\"}},\"scene\":{\"xaxis\":{\"backgroundcolor\":\"white\",\"gridcolor\":\"rgb(232,232,232)\",\"gridwidth\":2,\"linecolor\":\"rgb(36,36,36)\",\"showbackground\":true,\"showgrid\":false,\"showline\":true,\"ticks\":\"outside\",\"zeroline\":false,\"zerolinecolor\":\"rgb(36,36,36)\"},\"yaxis\":{\"backgroundcolor\":\"white\",\"gridcolor\":\"rgb(232,232,232)\",\"gridwidth\":2,\"linecolor\":\"rgb(36,36,36)\",\"showbackground\":true,\"showgrid\":false,\"showline\":true,\"ticks\":\"outside\",\"zeroline\":false,\"zerolinecolor\":\"rgb(36,36,36)\"},\"zaxis\":{\"backgroundcolor\":\"white\",\"gridcolor\":\"rgb(232,232,232)\",\"gridwidth\":2,\"linecolor\":\"rgb(36,36,36)\",\"showbackground\":true,\"showgrid\":false,\"showline\":true,\"ticks\":\"outside\",\"zeroline\":false,\"zerolinecolor\":\"rgb(36,36,36)\"}},\"shapedefaults\":{\"fillcolor\":\"black\",\"line\":{\"width\":0},\"opacity\":0.3},\"ternary\":{\"aaxis\":{\"gridcolor\":\"rgb(232,232,232)\",\"linecolor\":\"rgb(36,36,36)\",\"showgrid\":false,\"showline\":true,\"ticks\":\"outside\"},\"baxis\":{\"gridcolor\":\"rgb(232,232,232)\",\"linecolor\":\"rgb(36,36,36)\",\"showgrid\":false,\"showline\":true,\"ticks\":\"outside\"},\"bgcolor\":\"white\",\"caxis\":{\"gridcolor\":\"rgb(232,232,232)\",\"linecolor\":\"rgb(36,36,36)\",\"showgrid\":false,\"showline\":true,\"ticks\":\"outside\"}},\"title\":{\"x\":0.05},\"xaxis\":{\"automargin\":true,\"gridcolor\":\"rgb(232,232,232)\",\"linecolor\":\"rgb(36,36,36)\",\"showgrid\":false,\"showline\":true,\"ticks\":\"outside\",\"title\":{\"standoff\":15},\"zeroline\":false,\"zerolinecolor\":\"rgb(36,36,36)\"},\"yaxis\":{\"automargin\":true,\"gridcolor\":\"rgb(232,232,232)\",\"linecolor\":\"rgb(36,36,36)\",\"showgrid\":false,\"showline\":true,\"ticks\":\"outside\",\"title\":{\"standoff\":15},\"zeroline\":false,\"zerolinecolor\":\"rgb(36,36,36)\"},\"margin\":{\"b\":0,\"l\":20,\"r\":20,\"t\":40}}}},                        {\"responsive\": true}                    ).then(function(){\n",
       "                            \n",
       "var gd = document.getElementById('63fa32e4-3bf4-4a6a-a2e3-84d402101202');\n",
       "var x = new MutationObserver(function (mutations, observer) {{\n",
       "        var display = window.getComputedStyle(gd).display;\n",
       "        if (!display || display === 'none') {{\n",
       "            console.log([gd, 'removed!']);\n",
       "            Plotly.purge(gd);\n",
       "            observer.disconnect();\n",
       "        }}\n",
       "}});\n",
       "\n",
       "// Listen for the removal of the full notebook cells\n",
       "var notebookContainer = gd.closest('#notebook-container');\n",
       "if (notebookContainer) {{\n",
       "    x.observe(notebookContainer, {childList: true});\n",
       "}}\n",
       "\n",
       "// Listen for the clearing of the current output cell\n",
       "var outputEl = gd.closest('.output');\n",
       "if (outputEl) {{\n",
       "    x.observe(outputEl, {childList: true});\n",
       "}}\n",
       "\n",
       "                        })                };                });            </script>        </div>"
      ]
     },
     "metadata": {},
     "output_type": "display_data"
    }
   ],
   "source": [
    "fig = go.Figure([go.Scatter(x=x, y=y, name=\"Real Model\", showlegend=True,\n",
    "                                 marker=dict(color=\"black\", opacity=.7), line=dict(color=\"black\", dash=\"dash\", width=1))], \n",
    "          layout=go.Layout(title=r\"$\\text{(1) Simulated Data}$\",\n",
    "                           xaxis={\"title\": \"x - Explanatory Variable\"},\n",
    "                           yaxis={\"title\": \"y - Response\"},\n",
    "                           height=400))\n",
    "fig.show()"
   ]
  },
  {
   "cell_type": "markdown",
   "metadata": {
    "pycharm": {
     "name": "#%% md\n"
    }
   },
   "source": [
    "Using this sample as a **training set**, let us compute the Ordinary Least Squares (OLS) estimators $\\hat{w_0},\\widehat{w_1}$ of the model. Then, if we are given new samples $x_j$ we can predict its response $\\hat{y}_j$:\n",
    "\n",
    "$$ \\hat{y}_j = \\hat{w_1} x_j + \\hat{w}_0 $$\n",
    "\n",
    "Over the dataset above, try and think what would you expect the output to be?"
   ]
  },
  {
   "cell_type": "code",
   "execution_count": 15,
   "metadata": {
    "pycharm": {
     "is_executing": false,
     "name": "#%%\n"
    }
   },
   "outputs": [
    {
     "name": "stdout",
     "output_type": "stream",
     "text": [
      "Estimated intercept: 0.9999999999999716\n",
      "Estimated coefficient: 2.0000000000000004\n"
     ]
    }
   ],
   "source": [
    "from sklearn.linear_model import LinearRegression\n",
    "noiseless_model = LinearRegression()\n",
    "\n",
    "noiseless_model.fit(x.reshape((-1,1)), y)\n",
    "print(\"Estimated intercept:\", noiseless_model.intercept_)\n",
    "print(\"Estimated coefficient:\", noiseless_model.coef_[0])\n"
   ]
  },
  {
   "cell_type": "markdown",
   "metadata": {
    "pycharm": {
     "name": "#%% md\n"
    }
   },
   "source": [
    "## Linear Regression With Noise\n",
    "As the dataset used to fit the model lays exactly on a straight line, the estimated coefficients are the correct \n",
    "ones (up to floating point precision). Next, let us add some Gaussian noise to the data and see how it influences our \n",
    "estimation. So: \n",
    "\n",
    "$$\\forall i \\in \\left[ m \\right]\\quad y_i=w_1\\cdot x_i + w_0 + \\varepsilon_i \\quad s.t.\\quad \n",
    "\\varepsilon\\sim\\mathcal{N}\\left(0,\\sigma^2I_m\\right)$$\n",
    "\n",
    "Namely, the noise of each sample distributes by a Gaussian with zero mean and $\\sigma^2$ variance, and is uncorrelated between samples.\n",
    "\n",
    "*Notice that from now on we mark the $y$'s generated by the noise-less model with `y_`. This is so it is clear that the \"real\"\n",
    "$y$'s observed in a given sample are noisy.*"
   ]
  },
  {
   "cell_type": "code",
   "execution_count": 16,
   "metadata": {
    "pycharm": {
     "is_executing": false,
     "name": "#%%\n"
    }
   },
   "outputs": [
    {
     "data": {
      "application/vnd.plotly.v1+json": {
       "config": {
        "plotlyServerURL": "https://plot.ly"
       },
       "data": [
        {
         "line": {
          "color": "black",
          "dash": "dash",
          "width": 1
         },
         "marker": {
          "color": "black",
          "opacity": 0.7
         },
         "name": "Real Model",
         "showlegend": true,
         "type": "scatter",
         "x": [
          0,
          11.11111111111111,
          22.22222222222222,
          33.33333333333333,
          44.44444444444444,
          55.55555555555556,
          66.66666666666666,
          77.77777777777777,
          88.88888888888889,
          100
         ],
         "y": [
          1,
          23.22222222222222,
          45.44444444444444,
          67.66666666666666,
          89.88888888888889,
          112.11111111111111,
          134.33333333333331,
          156.55555555555554,
          178.77777777777777,
          201
         ]
        },
        {
         "line": {
          "width": 1
         },
         "mode": "markers",
         "name": "Observed Points",
         "type": "scatter",
         "x": [
          0,
          11.11111111111111,
          22.22222222222222,
          33.33333333333333,
          44.44444444444444,
          55.55555555555556,
          66.66666666666666,
          77.77777777777777,
          88.88888888888889,
          100
         ],
         "y": [
          48.6430435377359,
          -22.529275918019124,
          29.457172892352,
          19.09536728096037,
          -39.12394057887105,
          -6.327363347557746,
          69.77267459198839,
          -5.206174792133771,
          -33.86739802580205,
          -15.81590371022056
         ]
        }
       ],
       "layout": {
        "height": 400,
        "template": {
         "data": {
          "bar": [
           {
            "error_x": {
             "color": "rgb(36,36,36)"
            },
            "error_y": {
             "color": "rgb(36,36,36)"
            },
            "marker": {
             "line": {
              "color": "white",
              "width": 0.5
             },
             "pattern": {
              "fillmode": "overlay",
              "size": 10,
              "solidity": 0.2
             }
            },
            "type": "bar"
           }
          ],
          "barpolar": [
           {
            "marker": {
             "line": {
              "color": "white",
              "width": 0.5
             },
             "pattern": {
              "fillmode": "overlay",
              "size": 10,
              "solidity": 0.2
             }
            },
            "type": "barpolar"
           }
          ],
          "carpet": [
           {
            "aaxis": {
             "endlinecolor": "rgb(36,36,36)",
             "gridcolor": "white",
             "linecolor": "white",
             "minorgridcolor": "white",
             "startlinecolor": "rgb(36,36,36)"
            },
            "baxis": {
             "endlinecolor": "rgb(36,36,36)",
             "gridcolor": "white",
             "linecolor": "white",
             "minorgridcolor": "white",
             "startlinecolor": "rgb(36,36,36)"
            },
            "type": "carpet"
           }
          ],
          "choropleth": [
           {
            "colorbar": {
             "outlinewidth": 1,
             "tickcolor": "rgb(36,36,36)",
             "ticks": "outside"
            },
            "type": "choropleth"
           }
          ],
          "contour": [
           {
            "colorbar": {
             "outlinewidth": 1,
             "tickcolor": "rgb(36,36,36)",
             "ticks": "outside"
            },
            "colorscale": [
             [
              0,
              "#440154"
             ],
             [
              0.1111111111111111,
              "#482878"
             ],
             [
              0.2222222222222222,
              "#3e4989"
             ],
             [
              0.3333333333333333,
              "#31688e"
             ],
             [
              0.4444444444444444,
              "#26828e"
             ],
             [
              0.5555555555555556,
              "#1f9e89"
             ],
             [
              0.6666666666666666,
              "#35b779"
             ],
             [
              0.7777777777777778,
              "#6ece58"
             ],
             [
              0.8888888888888888,
              "#b5de2b"
             ],
             [
              1,
              "#fde725"
             ]
            ],
            "type": "contour"
           }
          ],
          "contourcarpet": [
           {
            "colorbar": {
             "outlinewidth": 1,
             "tickcolor": "rgb(36,36,36)",
             "ticks": "outside"
            },
            "type": "contourcarpet"
           }
          ],
          "heatmap": [
           {
            "colorbar": {
             "outlinewidth": 1,
             "tickcolor": "rgb(36,36,36)",
             "ticks": "outside"
            },
            "colorscale": [
             [
              0,
              "#440154"
             ],
             [
              0.1111111111111111,
              "#482878"
             ],
             [
              0.2222222222222222,
              "#3e4989"
             ],
             [
              0.3333333333333333,
              "#31688e"
             ],
             [
              0.4444444444444444,
              "#26828e"
             ],
             [
              0.5555555555555556,
              "#1f9e89"
             ],
             [
              0.6666666666666666,
              "#35b779"
             ],
             [
              0.7777777777777778,
              "#6ece58"
             ],
             [
              0.8888888888888888,
              "#b5de2b"
             ],
             [
              1,
              "#fde725"
             ]
            ],
            "type": "heatmap"
           }
          ],
          "heatmapgl": [
           {
            "colorbar": {
             "outlinewidth": 1,
             "tickcolor": "rgb(36,36,36)",
             "ticks": "outside"
            },
            "colorscale": [
             [
              0,
              "#440154"
             ],
             [
              0.1111111111111111,
              "#482878"
             ],
             [
              0.2222222222222222,
              "#3e4989"
             ],
             [
              0.3333333333333333,
              "#31688e"
             ],
             [
              0.4444444444444444,
              "#26828e"
             ],
             [
              0.5555555555555556,
              "#1f9e89"
             ],
             [
              0.6666666666666666,
              "#35b779"
             ],
             [
              0.7777777777777778,
              "#6ece58"
             ],
             [
              0.8888888888888888,
              "#b5de2b"
             ],
             [
              1,
              "#fde725"
             ]
            ],
            "type": "heatmapgl"
           }
          ],
          "histogram": [
           {
            "marker": {
             "line": {
              "color": "white",
              "width": 0.6
             }
            },
            "type": "histogram"
           }
          ],
          "histogram2d": [
           {
            "colorbar": {
             "outlinewidth": 1,
             "tickcolor": "rgb(36,36,36)",
             "ticks": "outside"
            },
            "colorscale": [
             [
              0,
              "#440154"
             ],
             [
              0.1111111111111111,
              "#482878"
             ],
             [
              0.2222222222222222,
              "#3e4989"
             ],
             [
              0.3333333333333333,
              "#31688e"
             ],
             [
              0.4444444444444444,
              "#26828e"
             ],
             [
              0.5555555555555556,
              "#1f9e89"
             ],
             [
              0.6666666666666666,
              "#35b779"
             ],
             [
              0.7777777777777778,
              "#6ece58"
             ],
             [
              0.8888888888888888,
              "#b5de2b"
             ],
             [
              1,
              "#fde725"
             ]
            ],
            "type": "histogram2d"
           }
          ],
          "histogram2dcontour": [
           {
            "colorbar": {
             "outlinewidth": 1,
             "tickcolor": "rgb(36,36,36)",
             "ticks": "outside"
            },
            "colorscale": [
             [
              0,
              "#440154"
             ],
             [
              0.1111111111111111,
              "#482878"
             ],
             [
              0.2222222222222222,
              "#3e4989"
             ],
             [
              0.3333333333333333,
              "#31688e"
             ],
             [
              0.4444444444444444,
              "#26828e"
             ],
             [
              0.5555555555555556,
              "#1f9e89"
             ],
             [
              0.6666666666666666,
              "#35b779"
             ],
             [
              0.7777777777777778,
              "#6ece58"
             ],
             [
              0.8888888888888888,
              "#b5de2b"
             ],
             [
              1,
              "#fde725"
             ]
            ],
            "type": "histogram2dcontour"
           }
          ],
          "mesh3d": [
           {
            "colorbar": {
             "outlinewidth": 1,
             "tickcolor": "rgb(36,36,36)",
             "ticks": "outside"
            },
            "type": "mesh3d"
           }
          ],
          "parcoords": [
           {
            "line": {
             "colorbar": {
              "outlinewidth": 1,
              "tickcolor": "rgb(36,36,36)",
              "ticks": "outside"
             }
            },
            "type": "parcoords"
           }
          ],
          "pie": [
           {
            "automargin": true,
            "type": "pie"
           }
          ],
          "scatter": [
           {
            "marker": {
             "colorbar": {
              "outlinewidth": 1,
              "tickcolor": "rgb(36,36,36)",
              "ticks": "outside"
             }
            },
            "type": "scatter"
           }
          ],
          "scatter3d": [
           {
            "line": {
             "colorbar": {
              "outlinewidth": 1,
              "tickcolor": "rgb(36,36,36)",
              "ticks": "outside"
             }
            },
            "marker": {
             "colorbar": {
              "outlinewidth": 1,
              "tickcolor": "rgb(36,36,36)",
              "ticks": "outside"
             }
            },
            "type": "scatter3d"
           }
          ],
          "scattercarpet": [
           {
            "marker": {
             "colorbar": {
              "outlinewidth": 1,
              "tickcolor": "rgb(36,36,36)",
              "ticks": "outside"
             }
            },
            "type": "scattercarpet"
           }
          ],
          "scattergeo": [
           {
            "marker": {
             "colorbar": {
              "outlinewidth": 1,
              "tickcolor": "rgb(36,36,36)",
              "ticks": "outside"
             }
            },
            "type": "scattergeo"
           }
          ],
          "scattergl": [
           {
            "marker": {
             "colorbar": {
              "outlinewidth": 1,
              "tickcolor": "rgb(36,36,36)",
              "ticks": "outside"
             }
            },
            "type": "scattergl"
           }
          ],
          "scattermapbox": [
           {
            "marker": {
             "colorbar": {
              "outlinewidth": 1,
              "tickcolor": "rgb(36,36,36)",
              "ticks": "outside"
             }
            },
            "type": "scattermapbox"
           }
          ],
          "scatterpolar": [
           {
            "marker": {
             "colorbar": {
              "outlinewidth": 1,
              "tickcolor": "rgb(36,36,36)",
              "ticks": "outside"
             }
            },
            "type": "scatterpolar"
           }
          ],
          "scatterpolargl": [
           {
            "marker": {
             "colorbar": {
              "outlinewidth": 1,
              "tickcolor": "rgb(36,36,36)",
              "ticks": "outside"
             }
            },
            "type": "scatterpolargl"
           }
          ],
          "scatterternary": [
           {
            "marker": {
             "colorbar": {
              "outlinewidth": 1,
              "tickcolor": "rgb(36,36,36)",
              "ticks": "outside"
             }
            },
            "type": "scatterternary"
           }
          ],
          "surface": [
           {
            "colorbar": {
             "outlinewidth": 1,
             "tickcolor": "rgb(36,36,36)",
             "ticks": "outside"
            },
            "colorscale": [
             [
              0,
              "#440154"
             ],
             [
              0.1111111111111111,
              "#482878"
             ],
             [
              0.2222222222222222,
              "#3e4989"
             ],
             [
              0.3333333333333333,
              "#31688e"
             ],
             [
              0.4444444444444444,
              "#26828e"
             ],
             [
              0.5555555555555556,
              "#1f9e89"
             ],
             [
              0.6666666666666666,
              "#35b779"
             ],
             [
              0.7777777777777778,
              "#6ece58"
             ],
             [
              0.8888888888888888,
              "#b5de2b"
             ],
             [
              1,
              "#fde725"
             ]
            ],
            "type": "surface"
           }
          ],
          "table": [
           {
            "cells": {
             "fill": {
              "color": "rgb(237,237,237)"
             },
             "line": {
              "color": "white"
             }
            },
            "header": {
             "fill": {
              "color": "rgb(217,217,217)"
             },
             "line": {
              "color": "white"
             }
            },
            "type": "table"
           }
          ]
         },
         "layout": {
          "annotationdefaults": {
           "arrowhead": 0,
           "arrowwidth": 1
          },
          "autotypenumbers": "strict",
          "coloraxis": {
           "colorbar": {
            "outlinewidth": 1,
            "tickcolor": "rgb(36,36,36)",
            "ticks": "outside"
           }
          },
          "colorscale": {
           "diverging": [
            [
             0,
             "rgb(103,0,31)"
            ],
            [
             0.1,
             "rgb(178,24,43)"
            ],
            [
             0.2,
             "rgb(214,96,77)"
            ],
            [
             0.3,
             "rgb(244,165,130)"
            ],
            [
             0.4,
             "rgb(253,219,199)"
            ],
            [
             0.5,
             "rgb(247,247,247)"
            ],
            [
             0.6,
             "rgb(209,229,240)"
            ],
            [
             0.7,
             "rgb(146,197,222)"
            ],
            [
             0.8,
             "rgb(67,147,195)"
            ],
            [
             0.9,
             "rgb(33,102,172)"
            ],
            [
             1,
             "rgb(5,48,97)"
            ]
           ],
           "sequential": [
            [
             0,
             "#440154"
            ],
            [
             0.1111111111111111,
             "#482878"
            ],
            [
             0.2222222222222222,
             "#3e4989"
            ],
            [
             0.3333333333333333,
             "#31688e"
            ],
            [
             0.4444444444444444,
             "#26828e"
            ],
            [
             0.5555555555555556,
             "#1f9e89"
            ],
            [
             0.6666666666666666,
             "#35b779"
            ],
            [
             0.7777777777777778,
             "#6ece58"
            ],
            [
             0.8888888888888888,
             "#b5de2b"
            ],
            [
             1,
             "#fde725"
            ]
           ],
           "sequentialminus": [
            [
             0,
             "#440154"
            ],
            [
             0.1111111111111111,
             "#482878"
            ],
            [
             0.2222222222222222,
             "#3e4989"
            ],
            [
             0.3333333333333333,
             "#31688e"
            ],
            [
             0.4444444444444444,
             "#26828e"
            ],
            [
             0.5555555555555556,
             "#1f9e89"
            ],
            [
             0.6666666666666666,
             "#35b779"
            ],
            [
             0.7777777777777778,
             "#6ece58"
            ],
            [
             0.8888888888888888,
             "#b5de2b"
            ],
            [
             1,
             "#fde725"
            ]
           ]
          },
          "colorway": [
           "#1F77B4",
           "#FF7F0E",
           "#2CA02C",
           "#D62728",
           "#9467BD",
           "#8C564B",
           "#E377C2",
           "#7F7F7F",
           "#BCBD22",
           "#17BECF"
          ],
          "font": {
           "color": "rgb(36,36,36)"
          },
          "geo": {
           "bgcolor": "white",
           "lakecolor": "white",
           "landcolor": "white",
           "showlakes": true,
           "showland": true,
           "subunitcolor": "white"
          },
          "hoverlabel": {
           "align": "left"
          },
          "hovermode": "closest",
          "mapbox": {
           "style": "light"
          },
          "margin": {
           "b": 0,
           "l": 20,
           "r": 20,
           "t": 40
          },
          "paper_bgcolor": "white",
          "plot_bgcolor": "white",
          "polar": {
           "angularaxis": {
            "gridcolor": "rgb(232,232,232)",
            "linecolor": "rgb(36,36,36)",
            "showgrid": false,
            "showline": true,
            "ticks": "outside"
           },
           "bgcolor": "white",
           "radialaxis": {
            "gridcolor": "rgb(232,232,232)",
            "linecolor": "rgb(36,36,36)",
            "showgrid": false,
            "showline": true,
            "ticks": "outside"
           }
          },
          "scene": {
           "xaxis": {
            "backgroundcolor": "white",
            "gridcolor": "rgb(232,232,232)",
            "gridwidth": 2,
            "linecolor": "rgb(36,36,36)",
            "showbackground": true,
            "showgrid": false,
            "showline": true,
            "ticks": "outside",
            "zeroline": false,
            "zerolinecolor": "rgb(36,36,36)"
           },
           "yaxis": {
            "backgroundcolor": "white",
            "gridcolor": "rgb(232,232,232)",
            "gridwidth": 2,
            "linecolor": "rgb(36,36,36)",
            "showbackground": true,
            "showgrid": false,
            "showline": true,
            "ticks": "outside",
            "zeroline": false,
            "zerolinecolor": "rgb(36,36,36)"
           },
           "zaxis": {
            "backgroundcolor": "white",
            "gridcolor": "rgb(232,232,232)",
            "gridwidth": 2,
            "linecolor": "rgb(36,36,36)",
            "showbackground": true,
            "showgrid": false,
            "showline": true,
            "ticks": "outside",
            "zeroline": false,
            "zerolinecolor": "rgb(36,36,36)"
           }
          },
          "shapedefaults": {
           "fillcolor": "black",
           "line": {
            "width": 0
           },
           "opacity": 0.3
          },
          "ternary": {
           "aaxis": {
            "gridcolor": "rgb(232,232,232)",
            "linecolor": "rgb(36,36,36)",
            "showgrid": false,
            "showline": true,
            "ticks": "outside"
           },
           "baxis": {
            "gridcolor": "rgb(232,232,232)",
            "linecolor": "rgb(36,36,36)",
            "showgrid": false,
            "showline": true,
            "ticks": "outside"
           },
           "bgcolor": "white",
           "caxis": {
            "gridcolor": "rgb(232,232,232)",
            "linecolor": "rgb(36,36,36)",
            "showgrid": false,
            "showline": true,
            "ticks": "outside"
           }
          },
          "title": {
           "x": 0.05
          },
          "xaxis": {
           "automargin": true,
           "gridcolor": "rgb(232,232,232)",
           "linecolor": "rgb(36,36,36)",
           "showgrid": false,
           "showline": true,
           "ticks": "outside",
           "title": {
            "standoff": 15
           },
           "zeroline": false,
           "zerolinecolor": "rgb(36,36,36)"
          },
          "yaxis": {
           "automargin": true,
           "gridcolor": "rgb(232,232,232)",
           "linecolor": "rgb(36,36,36)",
           "showgrid": false,
           "showline": true,
           "ticks": "outside",
           "title": {
            "standoff": 15
           },
           "zeroline": false,
           "zerolinecolor": "rgb(36,36,36)"
          }
         }
        },
        "title": {
         "text": "$\\text{(2) Simulated Data - With Noise}$"
        },
        "xaxis": {
         "title": {
          "text": "x - Explanatory Variable"
         }
        },
        "yaxis": {
         "title": {
          "text": "y - Response"
         }
        }
       }
      },
      "text/html": [
       "<div>                            <div id=\"86be4518-d72a-454c-b82b-a7ec9e6403cb\" class=\"plotly-graph-div\" style=\"height:400px; width:100%;\"></div>            <script type=\"text/javascript\">                require([\"plotly\"], function(Plotly) {                    window.PLOTLYENV=window.PLOTLYENV || {};                                    if (document.getElementById(\"86be4518-d72a-454c-b82b-a7ec9e6403cb\")) {                    Plotly.newPlot(                        \"86be4518-d72a-454c-b82b-a7ec9e6403cb\",                        [{\"line\":{\"color\":\"black\",\"dash\":\"dash\",\"width\":1},\"marker\":{\"color\":\"black\",\"opacity\":0.7},\"name\":\"Real Model\",\"showlegend\":true,\"x\":[0.0,11.11111111111111,22.22222222222222,33.33333333333333,44.44444444444444,55.55555555555556,66.66666666666666,77.77777777777777,88.88888888888889,100.0],\"y\":[1.0,23.22222222222222,45.44444444444444,67.66666666666666,89.88888888888889,112.11111111111111,134.33333333333331,156.55555555555554,178.77777777777777,201.0],\"type\":\"scatter\"},{\"line\":{\"width\":1},\"mode\":\"markers\",\"name\":\"Observed Points\",\"x\":[0.0,11.11111111111111,22.22222222222222,33.33333333333333,44.44444444444444,55.55555555555556,66.66666666666666,77.77777777777777,88.88888888888889,100.0],\"y\":[48.6430435377359,-22.529275918019124,29.457172892352,19.09536728096037,-39.12394057887105,-6.327363347557746,69.77267459198839,-5.206174792133771,-33.86739802580205,-15.81590371022056],\"type\":\"scatter\"}],                        {\"height\":400,\"title\":{\"text\":\"$\\\\text{(2) Simulated Data - With Noise}$\"},\"xaxis\":{\"title\":{\"text\":\"x - Explanatory Variable\"}},\"yaxis\":{\"title\":{\"text\":\"y - Response\"}},\"template\":{\"data\":{\"barpolar\":[{\"marker\":{\"line\":{\"color\":\"white\",\"width\":0.5},\"pattern\":{\"fillmode\":\"overlay\",\"size\":10,\"solidity\":0.2}},\"type\":\"barpolar\"}],\"bar\":[{\"error_x\":{\"color\":\"rgb(36,36,36)\"},\"error_y\":{\"color\":\"rgb(36,36,36)\"},\"marker\":{\"line\":{\"color\":\"white\",\"width\":0.5},\"pattern\":{\"fillmode\":\"overlay\",\"size\":10,\"solidity\":0.2}},\"type\":\"bar\"}],\"carpet\":[{\"aaxis\":{\"endlinecolor\":\"rgb(36,36,36)\",\"gridcolor\":\"white\",\"linecolor\":\"white\",\"minorgridcolor\":\"white\",\"startlinecolor\":\"rgb(36,36,36)\"},\"baxis\":{\"endlinecolor\":\"rgb(36,36,36)\",\"gridcolor\":\"white\",\"linecolor\":\"white\",\"minorgridcolor\":\"white\",\"startlinecolor\":\"rgb(36,36,36)\"},\"type\":\"carpet\"}],\"choropleth\":[{\"colorbar\":{\"outlinewidth\":1,\"tickcolor\":\"rgb(36,36,36)\",\"ticks\":\"outside\"},\"type\":\"choropleth\"}],\"contourcarpet\":[{\"colorbar\":{\"outlinewidth\":1,\"tickcolor\":\"rgb(36,36,36)\",\"ticks\":\"outside\"},\"type\":\"contourcarpet\"}],\"contour\":[{\"colorbar\":{\"outlinewidth\":1,\"tickcolor\":\"rgb(36,36,36)\",\"ticks\":\"outside\"},\"colorscale\":[[0.0,\"#440154\"],[0.1111111111111111,\"#482878\"],[0.2222222222222222,\"#3e4989\"],[0.3333333333333333,\"#31688e\"],[0.4444444444444444,\"#26828e\"],[0.5555555555555556,\"#1f9e89\"],[0.6666666666666666,\"#35b779\"],[0.7777777777777778,\"#6ece58\"],[0.8888888888888888,\"#b5de2b\"],[1.0,\"#fde725\"]],\"type\":\"contour\"}],\"heatmapgl\":[{\"colorbar\":{\"outlinewidth\":1,\"tickcolor\":\"rgb(36,36,36)\",\"ticks\":\"outside\"},\"colorscale\":[[0.0,\"#440154\"],[0.1111111111111111,\"#482878\"],[0.2222222222222222,\"#3e4989\"],[0.3333333333333333,\"#31688e\"],[0.4444444444444444,\"#26828e\"],[0.5555555555555556,\"#1f9e89\"],[0.6666666666666666,\"#35b779\"],[0.7777777777777778,\"#6ece58\"],[0.8888888888888888,\"#b5de2b\"],[1.0,\"#fde725\"]],\"type\":\"heatmapgl\"}],\"heatmap\":[{\"colorbar\":{\"outlinewidth\":1,\"tickcolor\":\"rgb(36,36,36)\",\"ticks\":\"outside\"},\"colorscale\":[[0.0,\"#440154\"],[0.1111111111111111,\"#482878\"],[0.2222222222222222,\"#3e4989\"],[0.3333333333333333,\"#31688e\"],[0.4444444444444444,\"#26828e\"],[0.5555555555555556,\"#1f9e89\"],[0.6666666666666666,\"#35b779\"],[0.7777777777777778,\"#6ece58\"],[0.8888888888888888,\"#b5de2b\"],[1.0,\"#fde725\"]],\"type\":\"heatmap\"}],\"histogram2dcontour\":[{\"colorbar\":{\"outlinewidth\":1,\"tickcolor\":\"rgb(36,36,36)\",\"ticks\":\"outside\"},\"colorscale\":[[0.0,\"#440154\"],[0.1111111111111111,\"#482878\"],[0.2222222222222222,\"#3e4989\"],[0.3333333333333333,\"#31688e\"],[0.4444444444444444,\"#26828e\"],[0.5555555555555556,\"#1f9e89\"],[0.6666666666666666,\"#35b779\"],[0.7777777777777778,\"#6ece58\"],[0.8888888888888888,\"#b5de2b\"],[1.0,\"#fde725\"]],\"type\":\"histogram2dcontour\"}],\"histogram2d\":[{\"colorbar\":{\"outlinewidth\":1,\"tickcolor\":\"rgb(36,36,36)\",\"ticks\":\"outside\"},\"colorscale\":[[0.0,\"#440154\"],[0.1111111111111111,\"#482878\"],[0.2222222222222222,\"#3e4989\"],[0.3333333333333333,\"#31688e\"],[0.4444444444444444,\"#26828e\"],[0.5555555555555556,\"#1f9e89\"],[0.6666666666666666,\"#35b779\"],[0.7777777777777778,\"#6ece58\"],[0.8888888888888888,\"#b5de2b\"],[1.0,\"#fde725\"]],\"type\":\"histogram2d\"}],\"histogram\":[{\"marker\":{\"line\":{\"color\":\"white\",\"width\":0.6}},\"type\":\"histogram\"}],\"mesh3d\":[{\"colorbar\":{\"outlinewidth\":1,\"tickcolor\":\"rgb(36,36,36)\",\"ticks\":\"outside\"},\"type\":\"mesh3d\"}],\"parcoords\":[{\"line\":{\"colorbar\":{\"outlinewidth\":1,\"tickcolor\":\"rgb(36,36,36)\",\"ticks\":\"outside\"}},\"type\":\"parcoords\"}],\"pie\":[{\"automargin\":true,\"type\":\"pie\"}],\"scatter3d\":[{\"line\":{\"colorbar\":{\"outlinewidth\":1,\"tickcolor\":\"rgb(36,36,36)\",\"ticks\":\"outside\"}},\"marker\":{\"colorbar\":{\"outlinewidth\":1,\"tickcolor\":\"rgb(36,36,36)\",\"ticks\":\"outside\"}},\"type\":\"scatter3d\"}],\"scattercarpet\":[{\"marker\":{\"colorbar\":{\"outlinewidth\":1,\"tickcolor\":\"rgb(36,36,36)\",\"ticks\":\"outside\"}},\"type\":\"scattercarpet\"}],\"scattergeo\":[{\"marker\":{\"colorbar\":{\"outlinewidth\":1,\"tickcolor\":\"rgb(36,36,36)\",\"ticks\":\"outside\"}},\"type\":\"scattergeo\"}],\"scattergl\":[{\"marker\":{\"colorbar\":{\"outlinewidth\":1,\"tickcolor\":\"rgb(36,36,36)\",\"ticks\":\"outside\"}},\"type\":\"scattergl\"}],\"scattermapbox\":[{\"marker\":{\"colorbar\":{\"outlinewidth\":1,\"tickcolor\":\"rgb(36,36,36)\",\"ticks\":\"outside\"}},\"type\":\"scattermapbox\"}],\"scatterpolargl\":[{\"marker\":{\"colorbar\":{\"outlinewidth\":1,\"tickcolor\":\"rgb(36,36,36)\",\"ticks\":\"outside\"}},\"type\":\"scatterpolargl\"}],\"scatterpolar\":[{\"marker\":{\"colorbar\":{\"outlinewidth\":1,\"tickcolor\":\"rgb(36,36,36)\",\"ticks\":\"outside\"}},\"type\":\"scatterpolar\"}],\"scatter\":[{\"marker\":{\"colorbar\":{\"outlinewidth\":1,\"tickcolor\":\"rgb(36,36,36)\",\"ticks\":\"outside\"}},\"type\":\"scatter\"}],\"scatterternary\":[{\"marker\":{\"colorbar\":{\"outlinewidth\":1,\"tickcolor\":\"rgb(36,36,36)\",\"ticks\":\"outside\"}},\"type\":\"scatterternary\"}],\"surface\":[{\"colorbar\":{\"outlinewidth\":1,\"tickcolor\":\"rgb(36,36,36)\",\"ticks\":\"outside\"},\"colorscale\":[[0.0,\"#440154\"],[0.1111111111111111,\"#482878\"],[0.2222222222222222,\"#3e4989\"],[0.3333333333333333,\"#31688e\"],[0.4444444444444444,\"#26828e\"],[0.5555555555555556,\"#1f9e89\"],[0.6666666666666666,\"#35b779\"],[0.7777777777777778,\"#6ece58\"],[0.8888888888888888,\"#b5de2b\"],[1.0,\"#fde725\"]],\"type\":\"surface\"}],\"table\":[{\"cells\":{\"fill\":{\"color\":\"rgb(237,237,237)\"},\"line\":{\"color\":\"white\"}},\"header\":{\"fill\":{\"color\":\"rgb(217,217,217)\"},\"line\":{\"color\":\"white\"}},\"type\":\"table\"}]},\"layout\":{\"annotationdefaults\":{\"arrowhead\":0,\"arrowwidth\":1},\"autotypenumbers\":\"strict\",\"coloraxis\":{\"colorbar\":{\"outlinewidth\":1,\"tickcolor\":\"rgb(36,36,36)\",\"ticks\":\"outside\"}},\"colorscale\":{\"diverging\":[[0.0,\"rgb(103,0,31)\"],[0.1,\"rgb(178,24,43)\"],[0.2,\"rgb(214,96,77)\"],[0.3,\"rgb(244,165,130)\"],[0.4,\"rgb(253,219,199)\"],[0.5,\"rgb(247,247,247)\"],[0.6,\"rgb(209,229,240)\"],[0.7,\"rgb(146,197,222)\"],[0.8,\"rgb(67,147,195)\"],[0.9,\"rgb(33,102,172)\"],[1.0,\"rgb(5,48,97)\"]],\"sequential\":[[0.0,\"#440154\"],[0.1111111111111111,\"#482878\"],[0.2222222222222222,\"#3e4989\"],[0.3333333333333333,\"#31688e\"],[0.4444444444444444,\"#26828e\"],[0.5555555555555556,\"#1f9e89\"],[0.6666666666666666,\"#35b779\"],[0.7777777777777778,\"#6ece58\"],[0.8888888888888888,\"#b5de2b\"],[1.0,\"#fde725\"]],\"sequentialminus\":[[0.0,\"#440154\"],[0.1111111111111111,\"#482878\"],[0.2222222222222222,\"#3e4989\"],[0.3333333333333333,\"#31688e\"],[0.4444444444444444,\"#26828e\"],[0.5555555555555556,\"#1f9e89\"],[0.6666666666666666,\"#35b779\"],[0.7777777777777778,\"#6ece58\"],[0.8888888888888888,\"#b5de2b\"],[1.0,\"#fde725\"]]},\"colorway\":[\"#1F77B4\",\"#FF7F0E\",\"#2CA02C\",\"#D62728\",\"#9467BD\",\"#8C564B\",\"#E377C2\",\"#7F7F7F\",\"#BCBD22\",\"#17BECF\"],\"font\":{\"color\":\"rgb(36,36,36)\"},\"geo\":{\"bgcolor\":\"white\",\"lakecolor\":\"white\",\"landcolor\":\"white\",\"showlakes\":true,\"showland\":true,\"subunitcolor\":\"white\"},\"hoverlabel\":{\"align\":\"left\"},\"hovermode\":\"closest\",\"mapbox\":{\"style\":\"light\"},\"paper_bgcolor\":\"white\",\"plot_bgcolor\":\"white\",\"polar\":{\"angularaxis\":{\"gridcolor\":\"rgb(232,232,232)\",\"linecolor\":\"rgb(36,36,36)\",\"showgrid\":false,\"showline\":true,\"ticks\":\"outside\"},\"bgcolor\":\"white\",\"radialaxis\":{\"gridcolor\":\"rgb(232,232,232)\",\"linecolor\":\"rgb(36,36,36)\",\"showgrid\":false,\"showline\":true,\"ticks\":\"outside\"}},\"scene\":{\"xaxis\":{\"backgroundcolor\":\"white\",\"gridcolor\":\"rgb(232,232,232)\",\"gridwidth\":2,\"linecolor\":\"rgb(36,36,36)\",\"showbackground\":true,\"showgrid\":false,\"showline\":true,\"ticks\":\"outside\",\"zeroline\":false,\"zerolinecolor\":\"rgb(36,36,36)\"},\"yaxis\":{\"backgroundcolor\":\"white\",\"gridcolor\":\"rgb(232,232,232)\",\"gridwidth\":2,\"linecolor\":\"rgb(36,36,36)\",\"showbackground\":true,\"showgrid\":false,\"showline\":true,\"ticks\":\"outside\",\"zeroline\":false,\"zerolinecolor\":\"rgb(36,36,36)\"},\"zaxis\":{\"backgroundcolor\":\"white\",\"gridcolor\":\"rgb(232,232,232)\",\"gridwidth\":2,\"linecolor\":\"rgb(36,36,36)\",\"showbackground\":true,\"showgrid\":false,\"showline\":true,\"ticks\":\"outside\",\"zeroline\":false,\"zerolinecolor\":\"rgb(36,36,36)\"}},\"shapedefaults\":{\"fillcolor\":\"black\",\"line\":{\"width\":0},\"opacity\":0.3},\"ternary\":{\"aaxis\":{\"gridcolor\":\"rgb(232,232,232)\",\"linecolor\":\"rgb(36,36,36)\",\"showgrid\":false,\"showline\":true,\"ticks\":\"outside\"},\"baxis\":{\"gridcolor\":\"rgb(232,232,232)\",\"linecolor\":\"rgb(36,36,36)\",\"showgrid\":false,\"showline\":true,\"ticks\":\"outside\"},\"bgcolor\":\"white\",\"caxis\":{\"gridcolor\":\"rgb(232,232,232)\",\"linecolor\":\"rgb(36,36,36)\",\"showgrid\":false,\"showline\":true,\"ticks\":\"outside\"}},\"title\":{\"x\":0.05},\"xaxis\":{\"automargin\":true,\"gridcolor\":\"rgb(232,232,232)\",\"linecolor\":\"rgb(36,36,36)\",\"showgrid\":false,\"showline\":true,\"ticks\":\"outside\",\"title\":{\"standoff\":15},\"zeroline\":false,\"zerolinecolor\":\"rgb(36,36,36)\"},\"yaxis\":{\"automargin\":true,\"gridcolor\":\"rgb(232,232,232)\",\"linecolor\":\"rgb(36,36,36)\",\"showgrid\":false,\"showline\":true,\"ticks\":\"outside\",\"title\":{\"standoff\":15},\"zeroline\":false,\"zerolinecolor\":\"rgb(36,36,36)\"},\"margin\":{\"b\":0,\"l\":20,\"r\":20,\"t\":40}}}},                        {\"responsive\": true}                    ).then(function(){\n",
       "                            \n",
       "var gd = document.getElementById('86be4518-d72a-454c-b82b-a7ec9e6403cb');\n",
       "var x = new MutationObserver(function (mutations, observer) {{\n",
       "        var display = window.getComputedStyle(gd).display;\n",
       "        if (!display || display === 'none') {{\n",
       "            console.log([gd, 'removed!']);\n",
       "            Plotly.purge(gd);\n",
       "            observer.disconnect();\n",
       "        }}\n",
       "}});\n",
       "\n",
       "// Listen for the removal of the full notebook cells\n",
       "var notebookContainer = gd.closest('#notebook-container');\n",
       "if (notebookContainer) {{\n",
       "    x.observe(notebookContainer, {childList: true});\n",
       "}}\n",
       "\n",
       "// Listen for the clearing of the current output cell\n",
       "var outputEl = gd.closest('.output');\n",
       "if (outputEl) {{\n",
       "    x.observe(outputEl, {childList: true});\n",
       "}}\n",
       "\n",
       "                        })                };                });            </script>        </div>"
      ]
     },
     "metadata": {},
     "output_type": "display_data"
    }
   ],
   "source": [
    "if \"y_\" not in locals(): y_ = y\n",
    "epsilon = np.random.normal(loc=0, scale=40, size=len(x))\n",
    "y = y_ + epsilon\n",
    "\n",
    "fig.add_trace(go.Scatter(x=x, y=y, name=\"Observed Points\", mode=\"markers\", line=dict(width=1)))\n",
    "fig.update_layout(title=r\"$\\text{(2) Simulated Data - With Noise}$\")\n",
    "fig.show()\n"
   ]
  },
  {
   "cell_type": "markdown",
   "metadata": {
    "pycharm": {
     "name": "#%% md\n"
    }
   },
   "source": [
    "Try and execute the block above several times. See how each time the \"Observed Points\" look different. These datasets,\n",
    "though all come from the same model, look very different. Try to think:\n",
    "\n",
    "* What would happen if we attempt fitting a model to these observations (i.e. the ones with the noise)? \n",
    "* How would it influence our estimation of the coefficients $w_0, w_1$? \n",
    "* Where will the regression line be?\n"
   ]
  },
  {
   "cell_type": "code",
   "execution_count": 17,
   "metadata": {
    "pycharm": {
     "is_executing": false,
     "name": "#%%\n"
    }
   },
   "outputs": [
    {
     "data": {
      "text/html": [
       "<div>\n",
       "<style scoped>\n",
       "    .dataframe tbody tr th:only-of-type {\n",
       "        vertical-align: middle;\n",
       "    }\n",
       "\n",
       "    .dataframe tbody tr th {\n",
       "        vertical-align: top;\n",
       "    }\n",
       "\n",
       "    .dataframe thead th {\n",
       "        text-align: right;\n",
       "    }\n",
       "</style>\n",
       "<table border=\"1\" class=\"dataframe\">\n",
       "  <thead>\n",
       "    <tr style=\"text-align: right;\">\n",
       "      <th></th>\n",
       "      <th>Model</th>\n",
       "      <th>Intercept</th>\n",
       "      <th>Slope</th>\n",
       "    </tr>\n",
       "  </thead>\n",
       "  <tbody>\n",
       "    <tr>\n",
       "      <th>0</th>\n",
       "      <td>Noise-less</td>\n",
       "      <td>1.000000</td>\n",
       "      <td>2.000000</td>\n",
       "    </tr>\n",
       "    <tr>\n",
       "      <th>1</th>\n",
       "      <td>Noisy</td>\n",
       "      <td>22.082155</td>\n",
       "      <td>-0.353447</td>\n",
       "    </tr>\n",
       "  </tbody>\n",
       "</table>\n",
       "</div>"
      ],
      "text/plain": [
       "        Model  Intercept     Slope\n",
       "0  Noise-less   1.000000  2.000000\n",
       "1       Noisy  22.082155 -0.353447"
      ]
     },
     "execution_count": 17,
     "metadata": {},
     "output_type": "execute_result"
    }
   ],
   "source": [
    "from pandas import DataFrame \n",
    "model = LinearRegression().fit(x.reshape((-1,1)), y)\n",
    "\n",
    "DataFrame({\"Model\":[\"Noise-less\",\"Noisy\"], \n",
    "           \"Intercept\": [noiseless_model.intercept_, model.intercept_],\n",
    "           \"Slope\": [noiseless_model.coef_[0], model.coef_[0]]})\n"
   ]
  },
  {
   "cell_type": "code",
   "execution_count": 18,
   "metadata": {
    "pycharm": {
     "is_executing": false,
     "name": "#%%\n"
    }
   },
   "outputs": [
    {
     "data": {
      "application/vnd.plotly.v1+json": {
       "config": {
        "plotlyServerURL": "https://plot.ly"
       },
       "data": [
        {
         "line": {
          "color": "black",
          "dash": "dash",
          "width": 1
         },
         "marker": {
          "color": "black",
          "opacity": 0.7
         },
         "name": "Real Model",
         "showlegend": true,
         "type": "scatter",
         "x": [
          0,
          11.11111111111111,
          22.22222222222222,
          33.33333333333333,
          44.44444444444444,
          55.55555555555556,
          66.66666666666666,
          77.77777777777777,
          88.88888888888889,
          100
         ],
         "y": [
          1,
          23.22222222222222,
          45.44444444444444,
          67.66666666666666,
          89.88888888888889,
          112.11111111111111,
          134.33333333333331,
          156.55555555555554,
          178.77777777777777,
          201
         ]
        },
        {
         "line": {
          "width": 1
         },
         "mode": "markers",
         "name": "Observed Points",
         "type": "scatter",
         "x": [
          0,
          11.11111111111111,
          22.22222222222222,
          33.33333333333333,
          44.44444444444444,
          55.55555555555556,
          66.66666666666666,
          77.77777777777777,
          88.88888888888889,
          100
         ],
         "y": [
          48.6430435377359,
          -22.529275918019124,
          29.457172892352,
          19.09536728096037,
          -39.12394057887105,
          -6.327363347557746,
          69.77267459198839,
          -5.206174792133771,
          -33.86739802580205,
          -15.81590371022056
         ]
        },
        {
         "marker": {
          "color": "blue"
         },
         "mode": "markers",
         "name": "Predicted Responses",
         "type": "scatter",
         "x": [
          0,
          11.11111111111111,
          22.22222222222222,
          33.33333333333333,
          44.44444444444444,
          55.55555555555556,
          66.66666666666666,
          77.77777777777777,
          88.88888888888889,
          100
         ],
         "y": [
          22.082155263337434,
          18.154969692160947,
          14.227784120984456,
          10.30059854980797,
          6.37341297863148,
          2.446227407454991,
          -1.4809581637214926,
          -5.408143734897983,
          -9.335329306074474,
          -13.262514877250965
         ]
        },
        {
         "line": {
          "color": "blue",
          "width": 1
         },
         "mode": "lines",
         "name": "Fitted Model",
         "type": "scatter",
         "x": [
          0,
          11.11111111111111,
          22.22222222222222,
          33.33333333333333,
          44.44444444444444,
          55.55555555555556,
          66.66666666666666,
          77.77777777777777,
          88.88888888888889,
          100
         ],
         "y": [
          22.082155263337434,
          18.154969692160947,
          14.227784120984456,
          10.30059854980797,
          6.37341297863148,
          2.446227407454991,
          -1.4809581637214926,
          -5.408143734897983,
          -9.335329306074474,
          -13.262514877250965
         ]
        }
       ],
       "layout": {
        "height": 400,
        "template": {
         "data": {
          "bar": [
           {
            "error_x": {
             "color": "rgb(36,36,36)"
            },
            "error_y": {
             "color": "rgb(36,36,36)"
            },
            "marker": {
             "line": {
              "color": "white",
              "width": 0.5
             },
             "pattern": {
              "fillmode": "overlay",
              "size": 10,
              "solidity": 0.2
             }
            },
            "type": "bar"
           }
          ],
          "barpolar": [
           {
            "marker": {
             "line": {
              "color": "white",
              "width": 0.5
             },
             "pattern": {
              "fillmode": "overlay",
              "size": 10,
              "solidity": 0.2
             }
            },
            "type": "barpolar"
           }
          ],
          "carpet": [
           {
            "aaxis": {
             "endlinecolor": "rgb(36,36,36)",
             "gridcolor": "white",
             "linecolor": "white",
             "minorgridcolor": "white",
             "startlinecolor": "rgb(36,36,36)"
            },
            "baxis": {
             "endlinecolor": "rgb(36,36,36)",
             "gridcolor": "white",
             "linecolor": "white",
             "minorgridcolor": "white",
             "startlinecolor": "rgb(36,36,36)"
            },
            "type": "carpet"
           }
          ],
          "choropleth": [
           {
            "colorbar": {
             "outlinewidth": 1,
             "tickcolor": "rgb(36,36,36)",
             "ticks": "outside"
            },
            "type": "choropleth"
           }
          ],
          "contour": [
           {
            "colorbar": {
             "outlinewidth": 1,
             "tickcolor": "rgb(36,36,36)",
             "ticks": "outside"
            },
            "colorscale": [
             [
              0,
              "#440154"
             ],
             [
              0.1111111111111111,
              "#482878"
             ],
             [
              0.2222222222222222,
              "#3e4989"
             ],
             [
              0.3333333333333333,
              "#31688e"
             ],
             [
              0.4444444444444444,
              "#26828e"
             ],
             [
              0.5555555555555556,
              "#1f9e89"
             ],
             [
              0.6666666666666666,
              "#35b779"
             ],
             [
              0.7777777777777778,
              "#6ece58"
             ],
             [
              0.8888888888888888,
              "#b5de2b"
             ],
             [
              1,
              "#fde725"
             ]
            ],
            "type": "contour"
           }
          ],
          "contourcarpet": [
           {
            "colorbar": {
             "outlinewidth": 1,
             "tickcolor": "rgb(36,36,36)",
             "ticks": "outside"
            },
            "type": "contourcarpet"
           }
          ],
          "heatmap": [
           {
            "colorbar": {
             "outlinewidth": 1,
             "tickcolor": "rgb(36,36,36)",
             "ticks": "outside"
            },
            "colorscale": [
             [
              0,
              "#440154"
             ],
             [
              0.1111111111111111,
              "#482878"
             ],
             [
              0.2222222222222222,
              "#3e4989"
             ],
             [
              0.3333333333333333,
              "#31688e"
             ],
             [
              0.4444444444444444,
              "#26828e"
             ],
             [
              0.5555555555555556,
              "#1f9e89"
             ],
             [
              0.6666666666666666,
              "#35b779"
             ],
             [
              0.7777777777777778,
              "#6ece58"
             ],
             [
              0.8888888888888888,
              "#b5de2b"
             ],
             [
              1,
              "#fde725"
             ]
            ],
            "type": "heatmap"
           }
          ],
          "heatmapgl": [
           {
            "colorbar": {
             "outlinewidth": 1,
             "tickcolor": "rgb(36,36,36)",
             "ticks": "outside"
            },
            "colorscale": [
             [
              0,
              "#440154"
             ],
             [
              0.1111111111111111,
              "#482878"
             ],
             [
              0.2222222222222222,
              "#3e4989"
             ],
             [
              0.3333333333333333,
              "#31688e"
             ],
             [
              0.4444444444444444,
              "#26828e"
             ],
             [
              0.5555555555555556,
              "#1f9e89"
             ],
             [
              0.6666666666666666,
              "#35b779"
             ],
             [
              0.7777777777777778,
              "#6ece58"
             ],
             [
              0.8888888888888888,
              "#b5de2b"
             ],
             [
              1,
              "#fde725"
             ]
            ],
            "type": "heatmapgl"
           }
          ],
          "histogram": [
           {
            "marker": {
             "line": {
              "color": "white",
              "width": 0.6
             }
            },
            "type": "histogram"
           }
          ],
          "histogram2d": [
           {
            "colorbar": {
             "outlinewidth": 1,
             "tickcolor": "rgb(36,36,36)",
             "ticks": "outside"
            },
            "colorscale": [
             [
              0,
              "#440154"
             ],
             [
              0.1111111111111111,
              "#482878"
             ],
             [
              0.2222222222222222,
              "#3e4989"
             ],
             [
              0.3333333333333333,
              "#31688e"
             ],
             [
              0.4444444444444444,
              "#26828e"
             ],
             [
              0.5555555555555556,
              "#1f9e89"
             ],
             [
              0.6666666666666666,
              "#35b779"
             ],
             [
              0.7777777777777778,
              "#6ece58"
             ],
             [
              0.8888888888888888,
              "#b5de2b"
             ],
             [
              1,
              "#fde725"
             ]
            ],
            "type": "histogram2d"
           }
          ],
          "histogram2dcontour": [
           {
            "colorbar": {
             "outlinewidth": 1,
             "tickcolor": "rgb(36,36,36)",
             "ticks": "outside"
            },
            "colorscale": [
             [
              0,
              "#440154"
             ],
             [
              0.1111111111111111,
              "#482878"
             ],
             [
              0.2222222222222222,
              "#3e4989"
             ],
             [
              0.3333333333333333,
              "#31688e"
             ],
             [
              0.4444444444444444,
              "#26828e"
             ],
             [
              0.5555555555555556,
              "#1f9e89"
             ],
             [
              0.6666666666666666,
              "#35b779"
             ],
             [
              0.7777777777777778,
              "#6ece58"
             ],
             [
              0.8888888888888888,
              "#b5de2b"
             ],
             [
              1,
              "#fde725"
             ]
            ],
            "type": "histogram2dcontour"
           }
          ],
          "mesh3d": [
           {
            "colorbar": {
             "outlinewidth": 1,
             "tickcolor": "rgb(36,36,36)",
             "ticks": "outside"
            },
            "type": "mesh3d"
           }
          ],
          "parcoords": [
           {
            "line": {
             "colorbar": {
              "outlinewidth": 1,
              "tickcolor": "rgb(36,36,36)",
              "ticks": "outside"
             }
            },
            "type": "parcoords"
           }
          ],
          "pie": [
           {
            "automargin": true,
            "type": "pie"
           }
          ],
          "scatter": [
           {
            "marker": {
             "colorbar": {
              "outlinewidth": 1,
              "tickcolor": "rgb(36,36,36)",
              "ticks": "outside"
             }
            },
            "type": "scatter"
           }
          ],
          "scatter3d": [
           {
            "line": {
             "colorbar": {
              "outlinewidth": 1,
              "tickcolor": "rgb(36,36,36)",
              "ticks": "outside"
             }
            },
            "marker": {
             "colorbar": {
              "outlinewidth": 1,
              "tickcolor": "rgb(36,36,36)",
              "ticks": "outside"
             }
            },
            "type": "scatter3d"
           }
          ],
          "scattercarpet": [
           {
            "marker": {
             "colorbar": {
              "outlinewidth": 1,
              "tickcolor": "rgb(36,36,36)",
              "ticks": "outside"
             }
            },
            "type": "scattercarpet"
           }
          ],
          "scattergeo": [
           {
            "marker": {
             "colorbar": {
              "outlinewidth": 1,
              "tickcolor": "rgb(36,36,36)",
              "ticks": "outside"
             }
            },
            "type": "scattergeo"
           }
          ],
          "scattergl": [
           {
            "marker": {
             "colorbar": {
              "outlinewidth": 1,
              "tickcolor": "rgb(36,36,36)",
              "ticks": "outside"
             }
            },
            "type": "scattergl"
           }
          ],
          "scattermapbox": [
           {
            "marker": {
             "colorbar": {
              "outlinewidth": 1,
              "tickcolor": "rgb(36,36,36)",
              "ticks": "outside"
             }
            },
            "type": "scattermapbox"
           }
          ],
          "scatterpolar": [
           {
            "marker": {
             "colorbar": {
              "outlinewidth": 1,
              "tickcolor": "rgb(36,36,36)",
              "ticks": "outside"
             }
            },
            "type": "scatterpolar"
           }
          ],
          "scatterpolargl": [
           {
            "marker": {
             "colorbar": {
              "outlinewidth": 1,
              "tickcolor": "rgb(36,36,36)",
              "ticks": "outside"
             }
            },
            "type": "scatterpolargl"
           }
          ],
          "scatterternary": [
           {
            "marker": {
             "colorbar": {
              "outlinewidth": 1,
              "tickcolor": "rgb(36,36,36)",
              "ticks": "outside"
             }
            },
            "type": "scatterternary"
           }
          ],
          "surface": [
           {
            "colorbar": {
             "outlinewidth": 1,
             "tickcolor": "rgb(36,36,36)",
             "ticks": "outside"
            },
            "colorscale": [
             [
              0,
              "#440154"
             ],
             [
              0.1111111111111111,
              "#482878"
             ],
             [
              0.2222222222222222,
              "#3e4989"
             ],
             [
              0.3333333333333333,
              "#31688e"
             ],
             [
              0.4444444444444444,
              "#26828e"
             ],
             [
              0.5555555555555556,
              "#1f9e89"
             ],
             [
              0.6666666666666666,
              "#35b779"
             ],
             [
              0.7777777777777778,
              "#6ece58"
             ],
             [
              0.8888888888888888,
              "#b5de2b"
             ],
             [
              1,
              "#fde725"
             ]
            ],
            "type": "surface"
           }
          ],
          "table": [
           {
            "cells": {
             "fill": {
              "color": "rgb(237,237,237)"
             },
             "line": {
              "color": "white"
             }
            },
            "header": {
             "fill": {
              "color": "rgb(217,217,217)"
             },
             "line": {
              "color": "white"
             }
            },
            "type": "table"
           }
          ]
         },
         "layout": {
          "annotationdefaults": {
           "arrowhead": 0,
           "arrowwidth": 1
          },
          "autotypenumbers": "strict",
          "coloraxis": {
           "colorbar": {
            "outlinewidth": 1,
            "tickcolor": "rgb(36,36,36)",
            "ticks": "outside"
           }
          },
          "colorscale": {
           "diverging": [
            [
             0,
             "rgb(103,0,31)"
            ],
            [
             0.1,
             "rgb(178,24,43)"
            ],
            [
             0.2,
             "rgb(214,96,77)"
            ],
            [
             0.3,
             "rgb(244,165,130)"
            ],
            [
             0.4,
             "rgb(253,219,199)"
            ],
            [
             0.5,
             "rgb(247,247,247)"
            ],
            [
             0.6,
             "rgb(209,229,240)"
            ],
            [
             0.7,
             "rgb(146,197,222)"
            ],
            [
             0.8,
             "rgb(67,147,195)"
            ],
            [
             0.9,
             "rgb(33,102,172)"
            ],
            [
             1,
             "rgb(5,48,97)"
            ]
           ],
           "sequential": [
            [
             0,
             "#440154"
            ],
            [
             0.1111111111111111,
             "#482878"
            ],
            [
             0.2222222222222222,
             "#3e4989"
            ],
            [
             0.3333333333333333,
             "#31688e"
            ],
            [
             0.4444444444444444,
             "#26828e"
            ],
            [
             0.5555555555555556,
             "#1f9e89"
            ],
            [
             0.6666666666666666,
             "#35b779"
            ],
            [
             0.7777777777777778,
             "#6ece58"
            ],
            [
             0.8888888888888888,
             "#b5de2b"
            ],
            [
             1,
             "#fde725"
            ]
           ],
           "sequentialminus": [
            [
             0,
             "#440154"
            ],
            [
             0.1111111111111111,
             "#482878"
            ],
            [
             0.2222222222222222,
             "#3e4989"
            ],
            [
             0.3333333333333333,
             "#31688e"
            ],
            [
             0.4444444444444444,
             "#26828e"
            ],
            [
             0.5555555555555556,
             "#1f9e89"
            ],
            [
             0.6666666666666666,
             "#35b779"
            ],
            [
             0.7777777777777778,
             "#6ece58"
            ],
            [
             0.8888888888888888,
             "#b5de2b"
            ],
            [
             1,
             "#fde725"
            ]
           ]
          },
          "colorway": [
           "#1F77B4",
           "#FF7F0E",
           "#2CA02C",
           "#D62728",
           "#9467BD",
           "#8C564B",
           "#E377C2",
           "#7F7F7F",
           "#BCBD22",
           "#17BECF"
          ],
          "font": {
           "color": "rgb(36,36,36)"
          },
          "geo": {
           "bgcolor": "white",
           "lakecolor": "white",
           "landcolor": "white",
           "showlakes": true,
           "showland": true,
           "subunitcolor": "white"
          },
          "hoverlabel": {
           "align": "left"
          },
          "hovermode": "closest",
          "mapbox": {
           "style": "light"
          },
          "margin": {
           "b": 0,
           "l": 20,
           "r": 20,
           "t": 40
          },
          "paper_bgcolor": "white",
          "plot_bgcolor": "white",
          "polar": {
           "angularaxis": {
            "gridcolor": "rgb(232,232,232)",
            "linecolor": "rgb(36,36,36)",
            "showgrid": false,
            "showline": true,
            "ticks": "outside"
           },
           "bgcolor": "white",
           "radialaxis": {
            "gridcolor": "rgb(232,232,232)",
            "linecolor": "rgb(36,36,36)",
            "showgrid": false,
            "showline": true,
            "ticks": "outside"
           }
          },
          "scene": {
           "xaxis": {
            "backgroundcolor": "white",
            "gridcolor": "rgb(232,232,232)",
            "gridwidth": 2,
            "linecolor": "rgb(36,36,36)",
            "showbackground": true,
            "showgrid": false,
            "showline": true,
            "ticks": "outside",
            "zeroline": false,
            "zerolinecolor": "rgb(36,36,36)"
           },
           "yaxis": {
            "backgroundcolor": "white",
            "gridcolor": "rgb(232,232,232)",
            "gridwidth": 2,
            "linecolor": "rgb(36,36,36)",
            "showbackground": true,
            "showgrid": false,
            "showline": true,
            "ticks": "outside",
            "zeroline": false,
            "zerolinecolor": "rgb(36,36,36)"
           },
           "zaxis": {
            "backgroundcolor": "white",
            "gridcolor": "rgb(232,232,232)",
            "gridwidth": 2,
            "linecolor": "rgb(36,36,36)",
            "showbackground": true,
            "showgrid": false,
            "showline": true,
            "ticks": "outside",
            "zeroline": false,
            "zerolinecolor": "rgb(36,36,36)"
           }
          },
          "shapedefaults": {
           "fillcolor": "black",
           "line": {
            "width": 0
           },
           "opacity": 0.3
          },
          "ternary": {
           "aaxis": {
            "gridcolor": "rgb(232,232,232)",
            "linecolor": "rgb(36,36,36)",
            "showgrid": false,
            "showline": true,
            "ticks": "outside"
           },
           "baxis": {
            "gridcolor": "rgb(232,232,232)",
            "linecolor": "rgb(36,36,36)",
            "showgrid": false,
            "showline": true,
            "ticks": "outside"
           },
           "bgcolor": "white",
           "caxis": {
            "gridcolor": "rgb(232,232,232)",
            "linecolor": "rgb(36,36,36)",
            "showgrid": false,
            "showline": true,
            "ticks": "outside"
           }
          },
          "title": {
           "x": 0.05
          },
          "xaxis": {
           "automargin": true,
           "gridcolor": "rgb(232,232,232)",
           "linecolor": "rgb(36,36,36)",
           "showgrid": false,
           "showline": true,
           "ticks": "outside",
           "title": {
            "standoff": 15
           },
           "zeroline": false,
           "zerolinecolor": "rgb(36,36,36)"
          },
          "yaxis": {
           "automargin": true,
           "gridcolor": "rgb(232,232,232)",
           "linecolor": "rgb(36,36,36)",
           "showgrid": false,
           "showline": true,
           "ticks": "outside",
           "title": {
            "standoff": 15
           },
           "zeroline": false,
           "zerolinecolor": "rgb(36,36,36)"
          }
         }
        },
        "title": {
         "text": "$\\text{(3) Fitted Model Over Noisy Data}$"
        },
        "xaxis": {
         "title": {
          "text": "x - Explanatory Variable"
         }
        },
        "yaxis": {
         "title": {
          "text": "y - Response"
         }
        }
       }
      },
      "text/html": [
       "<div>                            <div id=\"40adf52c-3442-4990-83fe-66f68ba7a9bc\" class=\"plotly-graph-div\" style=\"height:400px; width:100%;\"></div>            <script type=\"text/javascript\">                require([\"plotly\"], function(Plotly) {                    window.PLOTLYENV=window.PLOTLYENV || {};                                    if (document.getElementById(\"40adf52c-3442-4990-83fe-66f68ba7a9bc\")) {                    Plotly.newPlot(                        \"40adf52c-3442-4990-83fe-66f68ba7a9bc\",                        [{\"line\":{\"color\":\"black\",\"dash\":\"dash\",\"width\":1},\"marker\":{\"color\":\"black\",\"opacity\":0.7},\"name\":\"Real Model\",\"showlegend\":true,\"x\":[0.0,11.11111111111111,22.22222222222222,33.33333333333333,44.44444444444444,55.55555555555556,66.66666666666666,77.77777777777777,88.88888888888889,100.0],\"y\":[1.0,23.22222222222222,45.44444444444444,67.66666666666666,89.88888888888889,112.11111111111111,134.33333333333331,156.55555555555554,178.77777777777777,201.0],\"type\":\"scatter\"},{\"line\":{\"width\":1},\"mode\":\"markers\",\"name\":\"Observed Points\",\"x\":[0.0,11.11111111111111,22.22222222222222,33.33333333333333,44.44444444444444,55.55555555555556,66.66666666666666,77.77777777777777,88.88888888888889,100.0],\"y\":[48.6430435377359,-22.529275918019124,29.457172892352,19.09536728096037,-39.12394057887105,-6.327363347557746,69.77267459198839,-5.206174792133771,-33.86739802580205,-15.81590371022056],\"type\":\"scatter\"},{\"marker\":{\"color\":\"blue\"},\"mode\":\"markers\",\"name\":\"Predicted Responses\",\"x\":[0.0,11.11111111111111,22.22222222222222,33.33333333333333,44.44444444444444,55.55555555555556,66.66666666666666,77.77777777777777,88.88888888888889,100.0],\"y\":[22.082155263337434,18.154969692160947,14.227784120984456,10.30059854980797,6.37341297863148,2.446227407454991,-1.4809581637214926,-5.408143734897983,-9.335329306074474,-13.262514877250965],\"type\":\"scatter\"},{\"line\":{\"color\":\"blue\",\"width\":1},\"mode\":\"lines\",\"name\":\"Fitted Model\",\"x\":[0.0,11.11111111111111,22.22222222222222,33.33333333333333,44.44444444444444,55.55555555555556,66.66666666666666,77.77777777777777,88.88888888888889,100.0],\"y\":[22.082155263337434,18.154969692160947,14.227784120984456,10.30059854980797,6.37341297863148,2.446227407454991,-1.4809581637214926,-5.408143734897983,-9.335329306074474,-13.262514877250965],\"type\":\"scatter\"}],                        {\"height\":400,\"title\":{\"text\":\"$\\\\text{(3) Fitted Model Over Noisy Data}$\"},\"xaxis\":{\"title\":{\"text\":\"x - Explanatory Variable\"}},\"yaxis\":{\"title\":{\"text\":\"y - Response\"}},\"template\":{\"data\":{\"barpolar\":[{\"marker\":{\"line\":{\"color\":\"white\",\"width\":0.5},\"pattern\":{\"fillmode\":\"overlay\",\"size\":10,\"solidity\":0.2}},\"type\":\"barpolar\"}],\"bar\":[{\"error_x\":{\"color\":\"rgb(36,36,36)\"},\"error_y\":{\"color\":\"rgb(36,36,36)\"},\"marker\":{\"line\":{\"color\":\"white\",\"width\":0.5},\"pattern\":{\"fillmode\":\"overlay\",\"size\":10,\"solidity\":0.2}},\"type\":\"bar\"}],\"carpet\":[{\"aaxis\":{\"endlinecolor\":\"rgb(36,36,36)\",\"gridcolor\":\"white\",\"linecolor\":\"white\",\"minorgridcolor\":\"white\",\"startlinecolor\":\"rgb(36,36,36)\"},\"baxis\":{\"endlinecolor\":\"rgb(36,36,36)\",\"gridcolor\":\"white\",\"linecolor\":\"white\",\"minorgridcolor\":\"white\",\"startlinecolor\":\"rgb(36,36,36)\"},\"type\":\"carpet\"}],\"choropleth\":[{\"colorbar\":{\"outlinewidth\":1,\"tickcolor\":\"rgb(36,36,36)\",\"ticks\":\"outside\"},\"type\":\"choropleth\"}],\"contourcarpet\":[{\"colorbar\":{\"outlinewidth\":1,\"tickcolor\":\"rgb(36,36,36)\",\"ticks\":\"outside\"},\"type\":\"contourcarpet\"}],\"contour\":[{\"colorbar\":{\"outlinewidth\":1,\"tickcolor\":\"rgb(36,36,36)\",\"ticks\":\"outside\"},\"colorscale\":[[0.0,\"#440154\"],[0.1111111111111111,\"#482878\"],[0.2222222222222222,\"#3e4989\"],[0.3333333333333333,\"#31688e\"],[0.4444444444444444,\"#26828e\"],[0.5555555555555556,\"#1f9e89\"],[0.6666666666666666,\"#35b779\"],[0.7777777777777778,\"#6ece58\"],[0.8888888888888888,\"#b5de2b\"],[1.0,\"#fde725\"]],\"type\":\"contour\"}],\"heatmapgl\":[{\"colorbar\":{\"outlinewidth\":1,\"tickcolor\":\"rgb(36,36,36)\",\"ticks\":\"outside\"},\"colorscale\":[[0.0,\"#440154\"],[0.1111111111111111,\"#482878\"],[0.2222222222222222,\"#3e4989\"],[0.3333333333333333,\"#31688e\"],[0.4444444444444444,\"#26828e\"],[0.5555555555555556,\"#1f9e89\"],[0.6666666666666666,\"#35b779\"],[0.7777777777777778,\"#6ece58\"],[0.8888888888888888,\"#b5de2b\"],[1.0,\"#fde725\"]],\"type\":\"heatmapgl\"}],\"heatmap\":[{\"colorbar\":{\"outlinewidth\":1,\"tickcolor\":\"rgb(36,36,36)\",\"ticks\":\"outside\"},\"colorscale\":[[0.0,\"#440154\"],[0.1111111111111111,\"#482878\"],[0.2222222222222222,\"#3e4989\"],[0.3333333333333333,\"#31688e\"],[0.4444444444444444,\"#26828e\"],[0.5555555555555556,\"#1f9e89\"],[0.6666666666666666,\"#35b779\"],[0.7777777777777778,\"#6ece58\"],[0.8888888888888888,\"#b5de2b\"],[1.0,\"#fde725\"]],\"type\":\"heatmap\"}],\"histogram2dcontour\":[{\"colorbar\":{\"outlinewidth\":1,\"tickcolor\":\"rgb(36,36,36)\",\"ticks\":\"outside\"},\"colorscale\":[[0.0,\"#440154\"],[0.1111111111111111,\"#482878\"],[0.2222222222222222,\"#3e4989\"],[0.3333333333333333,\"#31688e\"],[0.4444444444444444,\"#26828e\"],[0.5555555555555556,\"#1f9e89\"],[0.6666666666666666,\"#35b779\"],[0.7777777777777778,\"#6ece58\"],[0.8888888888888888,\"#b5de2b\"],[1.0,\"#fde725\"]],\"type\":\"histogram2dcontour\"}],\"histogram2d\":[{\"colorbar\":{\"outlinewidth\":1,\"tickcolor\":\"rgb(36,36,36)\",\"ticks\":\"outside\"},\"colorscale\":[[0.0,\"#440154\"],[0.1111111111111111,\"#482878\"],[0.2222222222222222,\"#3e4989\"],[0.3333333333333333,\"#31688e\"],[0.4444444444444444,\"#26828e\"],[0.5555555555555556,\"#1f9e89\"],[0.6666666666666666,\"#35b779\"],[0.7777777777777778,\"#6ece58\"],[0.8888888888888888,\"#b5de2b\"],[1.0,\"#fde725\"]],\"type\":\"histogram2d\"}],\"histogram\":[{\"marker\":{\"line\":{\"color\":\"white\",\"width\":0.6}},\"type\":\"histogram\"}],\"mesh3d\":[{\"colorbar\":{\"outlinewidth\":1,\"tickcolor\":\"rgb(36,36,36)\",\"ticks\":\"outside\"},\"type\":\"mesh3d\"}],\"parcoords\":[{\"line\":{\"colorbar\":{\"outlinewidth\":1,\"tickcolor\":\"rgb(36,36,36)\",\"ticks\":\"outside\"}},\"type\":\"parcoords\"}],\"pie\":[{\"automargin\":true,\"type\":\"pie\"}],\"scatter3d\":[{\"line\":{\"colorbar\":{\"outlinewidth\":1,\"tickcolor\":\"rgb(36,36,36)\",\"ticks\":\"outside\"}},\"marker\":{\"colorbar\":{\"outlinewidth\":1,\"tickcolor\":\"rgb(36,36,36)\",\"ticks\":\"outside\"}},\"type\":\"scatter3d\"}],\"scattercarpet\":[{\"marker\":{\"colorbar\":{\"outlinewidth\":1,\"tickcolor\":\"rgb(36,36,36)\",\"ticks\":\"outside\"}},\"type\":\"scattercarpet\"}],\"scattergeo\":[{\"marker\":{\"colorbar\":{\"outlinewidth\":1,\"tickcolor\":\"rgb(36,36,36)\",\"ticks\":\"outside\"}},\"type\":\"scattergeo\"}],\"scattergl\":[{\"marker\":{\"colorbar\":{\"outlinewidth\":1,\"tickcolor\":\"rgb(36,36,36)\",\"ticks\":\"outside\"}},\"type\":\"scattergl\"}],\"scattermapbox\":[{\"marker\":{\"colorbar\":{\"outlinewidth\":1,\"tickcolor\":\"rgb(36,36,36)\",\"ticks\":\"outside\"}},\"type\":\"scattermapbox\"}],\"scatterpolargl\":[{\"marker\":{\"colorbar\":{\"outlinewidth\":1,\"tickcolor\":\"rgb(36,36,36)\",\"ticks\":\"outside\"}},\"type\":\"scatterpolargl\"}],\"scatterpolar\":[{\"marker\":{\"colorbar\":{\"outlinewidth\":1,\"tickcolor\":\"rgb(36,36,36)\",\"ticks\":\"outside\"}},\"type\":\"scatterpolar\"}],\"scatter\":[{\"marker\":{\"colorbar\":{\"outlinewidth\":1,\"tickcolor\":\"rgb(36,36,36)\",\"ticks\":\"outside\"}},\"type\":\"scatter\"}],\"scatterternary\":[{\"marker\":{\"colorbar\":{\"outlinewidth\":1,\"tickcolor\":\"rgb(36,36,36)\",\"ticks\":\"outside\"}},\"type\":\"scatterternary\"}],\"surface\":[{\"colorbar\":{\"outlinewidth\":1,\"tickcolor\":\"rgb(36,36,36)\",\"ticks\":\"outside\"},\"colorscale\":[[0.0,\"#440154\"],[0.1111111111111111,\"#482878\"],[0.2222222222222222,\"#3e4989\"],[0.3333333333333333,\"#31688e\"],[0.4444444444444444,\"#26828e\"],[0.5555555555555556,\"#1f9e89\"],[0.6666666666666666,\"#35b779\"],[0.7777777777777778,\"#6ece58\"],[0.8888888888888888,\"#b5de2b\"],[1.0,\"#fde725\"]],\"type\":\"surface\"}],\"table\":[{\"cells\":{\"fill\":{\"color\":\"rgb(237,237,237)\"},\"line\":{\"color\":\"white\"}},\"header\":{\"fill\":{\"color\":\"rgb(217,217,217)\"},\"line\":{\"color\":\"white\"}},\"type\":\"table\"}]},\"layout\":{\"annotationdefaults\":{\"arrowhead\":0,\"arrowwidth\":1},\"autotypenumbers\":\"strict\",\"coloraxis\":{\"colorbar\":{\"outlinewidth\":1,\"tickcolor\":\"rgb(36,36,36)\",\"ticks\":\"outside\"}},\"colorscale\":{\"diverging\":[[0.0,\"rgb(103,0,31)\"],[0.1,\"rgb(178,24,43)\"],[0.2,\"rgb(214,96,77)\"],[0.3,\"rgb(244,165,130)\"],[0.4,\"rgb(253,219,199)\"],[0.5,\"rgb(247,247,247)\"],[0.6,\"rgb(209,229,240)\"],[0.7,\"rgb(146,197,222)\"],[0.8,\"rgb(67,147,195)\"],[0.9,\"rgb(33,102,172)\"],[1.0,\"rgb(5,48,97)\"]],\"sequential\":[[0.0,\"#440154\"],[0.1111111111111111,\"#482878\"],[0.2222222222222222,\"#3e4989\"],[0.3333333333333333,\"#31688e\"],[0.4444444444444444,\"#26828e\"],[0.5555555555555556,\"#1f9e89\"],[0.6666666666666666,\"#35b779\"],[0.7777777777777778,\"#6ece58\"],[0.8888888888888888,\"#b5de2b\"],[1.0,\"#fde725\"]],\"sequentialminus\":[[0.0,\"#440154\"],[0.1111111111111111,\"#482878\"],[0.2222222222222222,\"#3e4989\"],[0.3333333333333333,\"#31688e\"],[0.4444444444444444,\"#26828e\"],[0.5555555555555556,\"#1f9e89\"],[0.6666666666666666,\"#35b779\"],[0.7777777777777778,\"#6ece58\"],[0.8888888888888888,\"#b5de2b\"],[1.0,\"#fde725\"]]},\"colorway\":[\"#1F77B4\",\"#FF7F0E\",\"#2CA02C\",\"#D62728\",\"#9467BD\",\"#8C564B\",\"#E377C2\",\"#7F7F7F\",\"#BCBD22\",\"#17BECF\"],\"font\":{\"color\":\"rgb(36,36,36)\"},\"geo\":{\"bgcolor\":\"white\",\"lakecolor\":\"white\",\"landcolor\":\"white\",\"showlakes\":true,\"showland\":true,\"subunitcolor\":\"white\"},\"hoverlabel\":{\"align\":\"left\"},\"hovermode\":\"closest\",\"mapbox\":{\"style\":\"light\"},\"paper_bgcolor\":\"white\",\"plot_bgcolor\":\"white\",\"polar\":{\"angularaxis\":{\"gridcolor\":\"rgb(232,232,232)\",\"linecolor\":\"rgb(36,36,36)\",\"showgrid\":false,\"showline\":true,\"ticks\":\"outside\"},\"bgcolor\":\"white\",\"radialaxis\":{\"gridcolor\":\"rgb(232,232,232)\",\"linecolor\":\"rgb(36,36,36)\",\"showgrid\":false,\"showline\":true,\"ticks\":\"outside\"}},\"scene\":{\"xaxis\":{\"backgroundcolor\":\"white\",\"gridcolor\":\"rgb(232,232,232)\",\"gridwidth\":2,\"linecolor\":\"rgb(36,36,36)\",\"showbackground\":true,\"showgrid\":false,\"showline\":true,\"ticks\":\"outside\",\"zeroline\":false,\"zerolinecolor\":\"rgb(36,36,36)\"},\"yaxis\":{\"backgroundcolor\":\"white\",\"gridcolor\":\"rgb(232,232,232)\",\"gridwidth\":2,\"linecolor\":\"rgb(36,36,36)\",\"showbackground\":true,\"showgrid\":false,\"showline\":true,\"ticks\":\"outside\",\"zeroline\":false,\"zerolinecolor\":\"rgb(36,36,36)\"},\"zaxis\":{\"backgroundcolor\":\"white\",\"gridcolor\":\"rgb(232,232,232)\",\"gridwidth\":2,\"linecolor\":\"rgb(36,36,36)\",\"showbackground\":true,\"showgrid\":false,\"showline\":true,\"ticks\":\"outside\",\"zeroline\":false,\"zerolinecolor\":\"rgb(36,36,36)\"}},\"shapedefaults\":{\"fillcolor\":\"black\",\"line\":{\"width\":0},\"opacity\":0.3},\"ternary\":{\"aaxis\":{\"gridcolor\":\"rgb(232,232,232)\",\"linecolor\":\"rgb(36,36,36)\",\"showgrid\":false,\"showline\":true,\"ticks\":\"outside\"},\"baxis\":{\"gridcolor\":\"rgb(232,232,232)\",\"linecolor\":\"rgb(36,36,36)\",\"showgrid\":false,\"showline\":true,\"ticks\":\"outside\"},\"bgcolor\":\"white\",\"caxis\":{\"gridcolor\":\"rgb(232,232,232)\",\"linecolor\":\"rgb(36,36,36)\",\"showgrid\":false,\"showline\":true,\"ticks\":\"outside\"}},\"title\":{\"x\":0.05},\"xaxis\":{\"automargin\":true,\"gridcolor\":\"rgb(232,232,232)\",\"linecolor\":\"rgb(36,36,36)\",\"showgrid\":false,\"showline\":true,\"ticks\":\"outside\",\"title\":{\"standoff\":15},\"zeroline\":false,\"zerolinecolor\":\"rgb(36,36,36)\"},\"yaxis\":{\"automargin\":true,\"gridcolor\":\"rgb(232,232,232)\",\"linecolor\":\"rgb(36,36,36)\",\"showgrid\":false,\"showline\":true,\"ticks\":\"outside\",\"title\":{\"standoff\":15},\"zeroline\":false,\"zerolinecolor\":\"rgb(36,36,36)\"},\"margin\":{\"b\":0,\"l\":20,\"r\":20,\"t\":40}}}},                        {\"responsive\": true}                    ).then(function(){\n",
       "                            \n",
       "var gd = document.getElementById('40adf52c-3442-4990-83fe-66f68ba7a9bc');\n",
       "var x = new MutationObserver(function (mutations, observer) {{\n",
       "        var display = window.getComputedStyle(gd).display;\n",
       "        if (!display || display === 'none') {{\n",
       "            console.log([gd, 'removed!']);\n",
       "            Plotly.purge(gd);\n",
       "            observer.disconnect();\n",
       "        }}\n",
       "}});\n",
       "\n",
       "// Listen for the removal of the full notebook cells\n",
       "var notebookContainer = gd.closest('#notebook-container');\n",
       "if (notebookContainer) {{\n",
       "    x.observe(notebookContainer, {childList: true});\n",
       "}}\n",
       "\n",
       "// Listen for the clearing of the current output cell\n",
       "var outputEl = gd.closest('.output');\n",
       "if (outputEl) {{\n",
       "    x.observe(outputEl, {childList: true});\n",
       "}}\n",
       "\n",
       "                        })                };                });            </script>        </div>"
      ]
     },
     "metadata": {},
     "output_type": "display_data"
    }
   ],
   "source": [
    "y_hat = model.predict(x.reshape(-1,1))\n",
    "\n",
    "fig.data = [fig.data[0], fig.data[1]]\n",
    "fig.update_layout(title=r\"$\\text{(3) Fitted Model Over Noisy Data}$\")\n",
    "fig.add_traces([go.Scatter(x=x, y=y_hat, mode=\"markers\", name=\"Predicted Responses\", marker=dict(color=\"blue\")),\n",
    "                go.Scatter(x=x, y=y_hat, mode=\"lines\", name=\"Fitted Model\", line=dict(color=\"blue\", width=1))])\n",
    "fig.show()\n"
   ]
  },
  {
   "cell_type": "markdown",
   "metadata": {
    "pycharm": {
     "name": "#%% md\n"
    }
   },
   "source": [
    "Let us better understand what took place. Schematically, we started with some model\n",
    "$$ Y=w_1X+w_0 \\quad s.t. w_1=2,w_0=1 $$\n",
    "\n",
    "and obtained a dataset from this model \n",
    "$$ Y=w_1X + w_0 + \\mathcal{N}\\left(0,\\sigma^2\\right) $$ \n",
    "\n",
    "Then, using the dataset we estimated the model parameters to obtain $\\widehat{w_1},\\widehat{w_0}$. However, we should look\n",
    "at these steps from two different points of view: the \"observer\" and the \"all-knowing\".\n",
    "- The \"observer\" is us whenever we work with data. We somehow obtained samples/observations that we assume to be generated\n",
    "from some \"true\" function/model $f$. As in reality data is noisy, when we assume something about the \"true\" function we \n",
    "also make assumptions about the noise. Then, as we do not know $f$ we try to learn it based on the observations.\n",
    "- The \"all-knowing\", unlike the \"observer\", knows exactly how $f$ looks and for each sample what is the noise.  \n",
    "\n",
    "In the graph above the <span style=\"color:Black\">**Real Model**</span> is only known to the \"all-knowing\". We, as the \n",
    "\"observer\" only witness the <span style=\"color:red\">**Observed Points**</span>. We **assumed** the data came from a linear\n",
    "model with Gaussian Noise and therefore fitted the OLS estimators $\\widehat{w}_1, \\widehat{w}_0$. These estimators give\n",
    "us the <span style=\"color:blue\">**Fitted Model**</span> and a <span style=\"color:blue\">**Predicted Response**</span> to \n",
    "each observation."
   ]
  },
  {
   "cell_type": "markdown",
   "metadata": {
    "pycharm": {
     "name": "#%% md\n"
    }
   },
   "source": [
    "Using these estimators of the model coefficients we can do two things:\n",
    "- **Inference**: We can study the estimated model. What are the statistical properties of our estimators? How confident are\n",
    "we in the estimation? Are the features associated with the helpful/relevant for predicting/explaining the response? Etc.\n",
    "- **Prediction**: We can use this estimated model to predict the responses of new data-points. How accurate are our predictions? How does the training set (and its size) influence this accuracy? \n",
    "\n",
    "In the scope of this course we are mainly interested in using the fitted model for prediction, with only slightly \n",
    "investigating the properties of our fitted model."
   ]
  },
  {
   "cell_type": "markdown",
   "metadata": {
    "pycharm": {
     "name": "#%% md\n"
    }
   },
   "source": [
    "## Multivatiate Linaer Regression\n",
    "Lastly, using a more complicated model, we fit a model and answer some inference and prediction questions. \n",
    "To gain a better understanding, please look at the graph below and answer the question before reading the code.\n"
   ]
  },
  {
   "cell_type": "code",
   "execution_count": 70,
   "metadata": {
    "pycharm": {
     "is_executing": false,
     "name": "#%%\n"
    },
    "scrolled": true
   },
   "outputs": [
    {
     "data": {
      "text/html": [
       "<div>\n",
       "<style scoped>\n",
       "    .dataframe tbody tr th:only-of-type {\n",
       "        vertical-align: middle;\n",
       "    }\n",
       "\n",
       "    .dataframe tbody tr th {\n",
       "        vertical-align: top;\n",
       "    }\n",
       "\n",
       "    .dataframe thead th {\n",
       "        text-align: right;\n",
       "    }\n",
       "</style>\n",
       "<table border=\"1\" class=\"dataframe\">\n",
       "  <thead>\n",
       "    <tr style=\"text-align: right;\">\n",
       "      <th></th>\n",
       "      <th>Coefficient</th>\n",
       "      <th>Estimated Value</th>\n",
       "    </tr>\n",
       "  </thead>\n",
       "  <tbody>\n",
       "    <tr>\n",
       "      <th>0</th>\n",
       "      <td>$w_0$</td>\n",
       "      <td>5.581768</td>\n",
       "    </tr>\n",
       "    <tr>\n",
       "      <th>1</th>\n",
       "      <td>$w_1$</td>\n",
       "      <td>4.896353</td>\n",
       "    </tr>\n",
       "    <tr>\n",
       "      <th>2</th>\n",
       "      <td>$w_2$</td>\n",
       "      <td>1.227724</td>\n",
       "    </tr>\n",
       "  </tbody>\n",
       "</table>\n",
       "</div>"
      ],
      "text/plain": [
       "  Coefficient  Estimated Value\n",
       "0       $w_0$         5.581768\n",
       "1       $w_1$         4.896353\n",
       "2       $w_2$         1.227724"
      ]
     },
     "execution_count": 70,
     "metadata": {},
     "output_type": "execute_result"
    }
   ],
   "source": [
    "response = lambda x1, x2: 5*x1 + .1*x2 + 3\n",
    "\n",
    "min_x1, min_x2, max_x1, max_x2 = -10, -10, 10, 10\n",
    "xv1, xv2 = np.meshgrid(np.linspace(min_x1, max_x1, 10), np.linspace(min_x2, max_x2, 10))\n",
    "surface = response(xv1, xv2)\n",
    "\n",
    "x = np.random.uniform((min_x1, min_x2), (max_x1, max_x2), (100, 2))\n",
    "y_ = response(x[:,0], x[:,1])\n",
    "y = y_ + np.random.normal(0, 30, len(x))\n",
    "\n",
    "model = LinearRegression().fit(x, y)\n",
    "y_hat = model.predict(x)\n",
    "\n",
    "DataFrame({\"Coefficient\": [rf\"$w_{{0}}$\".format(i) for i in range(len(model.coef_)+1)],\n",
    "           \"Estimated Value\": np.concatenate([[model.intercept_], model.coef_])})\n"
   ]
  },
  {
   "cell_type": "code",
   "execution_count": 71,
   "metadata": {
    "pycharm": {
     "is_executing": false,
     "name": "#%%\n"
    },
    "scrolled": true
   },
   "outputs": [
    {
     "data": {
      "application/vnd.plotly.v1+json": {
       "config": {
        "plotlyServerURL": "https://plot.ly"
       },
       "data": [
        {
         "opacity": 0.5,
         "showscale": false,
         "type": "surface",
         "x": [
          [
           -10,
           -7.777777777777778,
           -5.555555555555555,
           -3.333333333333333,
           -1.1111111111111107,
           1.1111111111111107,
           3.333333333333334,
           5.555555555555557,
           7.777777777777779,
           10
          ],
          [
           -10,
           -7.777777777777778,
           -5.555555555555555,
           -3.333333333333333,
           -1.1111111111111107,
           1.1111111111111107,
           3.333333333333334,
           5.555555555555557,
           7.777777777777779,
           10
          ],
          [
           -10,
           -7.777777777777778,
           -5.555555555555555,
           -3.333333333333333,
           -1.1111111111111107,
           1.1111111111111107,
           3.333333333333334,
           5.555555555555557,
           7.777777777777779,
           10
          ],
          [
           -10,
           -7.777777777777778,
           -5.555555555555555,
           -3.333333333333333,
           -1.1111111111111107,
           1.1111111111111107,
           3.333333333333334,
           5.555555555555557,
           7.777777777777779,
           10
          ],
          [
           -10,
           -7.777777777777778,
           -5.555555555555555,
           -3.333333333333333,
           -1.1111111111111107,
           1.1111111111111107,
           3.333333333333334,
           5.555555555555557,
           7.777777777777779,
           10
          ],
          [
           -10,
           -7.777777777777778,
           -5.555555555555555,
           -3.333333333333333,
           -1.1111111111111107,
           1.1111111111111107,
           3.333333333333334,
           5.555555555555557,
           7.777777777777779,
           10
          ],
          [
           -10,
           -7.777777777777778,
           -5.555555555555555,
           -3.333333333333333,
           -1.1111111111111107,
           1.1111111111111107,
           3.333333333333334,
           5.555555555555557,
           7.777777777777779,
           10
          ],
          [
           -10,
           -7.777777777777778,
           -5.555555555555555,
           -3.333333333333333,
           -1.1111111111111107,
           1.1111111111111107,
           3.333333333333334,
           5.555555555555557,
           7.777777777777779,
           10
          ],
          [
           -10,
           -7.777777777777778,
           -5.555555555555555,
           -3.333333333333333,
           -1.1111111111111107,
           1.1111111111111107,
           3.333333333333334,
           5.555555555555557,
           7.777777777777779,
           10
          ],
          [
           -10,
           -7.777777777777778,
           -5.555555555555555,
           -3.333333333333333,
           -1.1111111111111107,
           1.1111111111111107,
           3.333333333333334,
           5.555555555555557,
           7.777777777777779,
           10
          ]
         ],
         "y": [
          [
           -10,
           -10,
           -10,
           -10,
           -10,
           -10,
           -10,
           -10,
           -10,
           -10
          ],
          [
           -7.777777777777778,
           -7.777777777777778,
           -7.777777777777778,
           -7.777777777777778,
           -7.777777777777778,
           -7.777777777777778,
           -7.777777777777778,
           -7.777777777777778,
           -7.777777777777778,
           -7.777777777777778
          ],
          [
           -5.555555555555555,
           -5.555555555555555,
           -5.555555555555555,
           -5.555555555555555,
           -5.555555555555555,
           -5.555555555555555,
           -5.555555555555555,
           -5.555555555555555,
           -5.555555555555555,
           -5.555555555555555
          ],
          [
           -3.333333333333333,
           -3.333333333333333,
           -3.333333333333333,
           -3.333333333333333,
           -3.333333333333333,
           -3.333333333333333,
           -3.333333333333333,
           -3.333333333333333,
           -3.333333333333333,
           -3.333333333333333
          ],
          [
           -1.1111111111111107,
           -1.1111111111111107,
           -1.1111111111111107,
           -1.1111111111111107,
           -1.1111111111111107,
           -1.1111111111111107,
           -1.1111111111111107,
           -1.1111111111111107,
           -1.1111111111111107,
           -1.1111111111111107
          ],
          [
           1.1111111111111107,
           1.1111111111111107,
           1.1111111111111107,
           1.1111111111111107,
           1.1111111111111107,
           1.1111111111111107,
           1.1111111111111107,
           1.1111111111111107,
           1.1111111111111107,
           1.1111111111111107
          ],
          [
           3.333333333333334,
           3.333333333333334,
           3.333333333333334,
           3.333333333333334,
           3.333333333333334,
           3.333333333333334,
           3.333333333333334,
           3.333333333333334,
           3.333333333333334,
           3.333333333333334
          ],
          [
           5.555555555555557,
           5.555555555555557,
           5.555555555555557,
           5.555555555555557,
           5.555555555555557,
           5.555555555555557,
           5.555555555555557,
           5.555555555555557,
           5.555555555555557,
           5.555555555555557
          ],
          [
           7.777777777777779,
           7.777777777777779,
           7.777777777777779,
           7.777777777777779,
           7.777777777777779,
           7.777777777777779,
           7.777777777777779,
           7.777777777777779,
           7.777777777777779,
           7.777777777777779
          ],
          [
           10,
           10,
           10,
           10,
           10,
           10,
           10,
           10,
           10,
           10
          ]
         ],
         "z": [
          [
           -48,
           -36.888888888888886,
           -25.77777777777778,
           -14.666666666666664,
           -3.5555555555555536,
           7.555555555555554,
           18.66666666666667,
           29.777777777777786,
           40.88888888888889,
           52
          ],
          [
           -47.77777777777778,
           -36.666666666666664,
           -25.555555555555557,
           -14.444444444444443,
           -3.3333333333333313,
           7.777777777777776,
           18.888888888888893,
           30.000000000000007,
           41.111111111111114,
           52.22222222222222
          ],
          [
           -47.55555555555556,
           -36.44444444444444,
           -25.333333333333336,
           -14.222222222222221,
           -3.111111111111109,
           7.999999999999998,
           19.111111111111114,
           30.22222222222223,
           41.333333333333336,
           52.44444444444444
          ],
          [
           -47.333333333333336,
           -36.22222222222222,
           -25.11111111111111,
           -13.999999999999996,
           -2.8888888888888866,
           8.222222222222221,
           19.33333333333334,
           30.444444444444454,
           41.55555555555556,
           52.666666666666664
          ],
          [
           -47.111111111111114,
           -36,
           -24.88888888888889,
           -13.777777777777775,
           -2.6666666666666643,
           8.444444444444443,
           19.55555555555556,
           30.666666666666675,
           41.77777777777778,
           52.888888888888886
          ],
          [
           -46.888888888888886,
           -35.77777777777777,
           -24.666666666666668,
           -13.555555555555554,
           -2.444444444444443,
           8.666666666666664,
           19.777777777777782,
           30.888888888888896,
           42.00000000000001,
           53.111111111111114
          ],
          [
           -46.666666666666664,
           -35.55555555555555,
           -24.444444444444446,
           -13.333333333333332,
           -2.2222222222222205,
           8.888888888888886,
           20.000000000000004,
           31.111111111111118,
           42.22222222222223,
           53.333333333333336
          ],
          [
           -46.44444444444444,
           -35.33333333333333,
           -24.22222222222222,
           -13.111111111111107,
           -1.9999999999999982,
           9.111111111111109,
           20.22222222222223,
           31.333333333333343,
           42.44444444444445,
           53.55555555555556
          ],
          [
           -46.22222222222222,
           -35.11111111111111,
           -24,
           -12.888888888888886,
           -1.777777777777776,
           9.333333333333332,
           20.44444444444445,
           31.555555555555564,
           42.66666666666667,
           53.77777777777778
          ],
          [
           -46,
           -34.888888888888886,
           -23.77777777777778,
           -12.666666666666664,
           -1.5555555555555536,
           9.555555555555554,
           20.66666666666667,
           31.777777777777786,
           42.88888888888889,
           54
          ]
         ]
        },
        {
         "marker": {
          "color": "black",
          "size": 2
         },
         "mode": "markers",
         "name": "Real (noise-less) Points",
         "type": "scatter3d",
         "x": [
          -1.6229902173804227,
          -7.444833963900333,
          5.559226984755153,
          3.5264909642889357,
          7.075827832306235,
          -7.772830592592288,
          3.8222487389333892,
          3.3842934815353836,
          2.2115961863742015,
          4.433971932092323,
          -1.942875034080327,
          0.4138493730646591,
          0.17503706605582892,
          -1.150896619400715,
          -8.877970653813268,
          -2.2404723462723712,
          4.995690536967363,
          8.685419626115031,
          -1.5460505986602548,
          3.3941687505064877,
          2.149942682269323,
          -1.3537616967883288,
          -5.09913375923063,
          7.396832430268809,
          3.553120610614215,
          -6.941474092494413,
          8.727702065493919,
          6.059251863943292,
          8.424124047189423,
          5.693036074264363,
          8.05490444577357,
          -5.525783176791556,
          -7.844608655406871,
          -7.557087259640252,
          9.959047320863053,
          8.886437138463801,
          -2.487672043545592,
          1.423274788956988,
          -6.2322051129982,
          -5.020745130997359,
          -2.2929435531153803,
          -2.868675845362983,
          -1.6328042480632838,
          7.517346501497176,
          4.50792707450956,
          -0.26312966197220433,
          6.078908695576224,
          0.6283429687747955,
          7.08824849619522,
          -1.1847789076898927,
          -6.0388022288303,
          2.828237945308034,
          -8.047816345033073,
          -3.6981827814709796,
          9.156655494325317,
          9.337459207757512,
          5.683960935484304,
          8.882877322480482,
          -9.895760429131395,
          1.487276235547812,
          6.410391543702673,
          5.121585978393821,
          7.073195104002657,
          3.425500198351399,
          5.07638062986403,
          -2.313070117010028,
          5.468871806686153,
          7.385926121848534,
          -2.082870168943325,
          -0.5038776668979672,
          -4.441640072437352,
          0.14242381897162915,
          7.401236341064511,
          -4.616381082063212,
          -5.635644364227989,
          9.685126174352447,
          -3.0465873922962388,
          6.188962934295795,
          -0.4532185636617996,
          0.17207980829305924,
          -9.347163065210683,
          1.039750609491799,
          -4.955167589234959,
          -7.088503638795986,
          -0.48463057836871215,
          1.4221976504875666,
          1.510915376841444,
          1.9857345827050104,
          1.7081789358490447,
          5.035169413994199,
          7.751365229191201,
          8.973651741039781,
          -0.2691590794638916,
          6.296055043174626,
          -7.871898379026662,
          1.9479175893959937,
          3.3455128212614653,
          9.756544631001777,
          3.3495419717112256,
          7.767782239779809
         ],
         "y": [
          -5.860339972850563,
          -9.349089920913583,
          8.68564138206365,
          6.576311099206698,
          -1.3047128446431344,
          6.731018664560079,
          0.44774347960782634,
          -0.7742727969507861,
          4.541853278439444,
          1.8562972262290813,
          -7.500436530765051,
          -0.6413634753252158,
          1.4864883942650593,
          2.7008159510091545,
          -8.738438594337612,
          1.0520239646566019,
          -2.6363637050956346,
          5.079621546494984,
          -7.029713706508511,
          3.9750975558612573,
          -2.901049560373128,
          4.668667634882658,
          -5.854975178731056,
          6.193925055034619,
          -6.700851115744744,
          -7.366622389280768,
          -7.753404627812486,
          6.727791160490547,
          5.138585284059587,
          0.9423576358748385,
          -4.11847233971518,
          -0.6001033329034975,
          -6.932355022426262,
          -9.644087177099053,
          -2.236831962108539,
          -2.5448765729836715,
          -7.01740259475222,
          -1.160385442715441,
          -2.4445137929057186,
          6.00941775243599,
          5.697137344224508,
          -7.94979297028428,
          2.2103633785838195,
          -1.8049793581877278,
          -7.469090959401676,
          7.517137637826391,
          -6.584473344957433,
          9.50659454518718,
          8.078352981291431,
          -5.771863148676637,
          4.9853119590140516,
          2.1829193126406885,
          -9.454948098526142,
          7.721973228335624,
          -4.725717127626117,
          7.34042259071833,
          -2.5902842548763605,
          -5.760111396147116,
          -8.001743763087319,
          6.101009168767536,
          8.98875423136116,
          8.71418715501748,
          -2.7008177035230396,
          9.025474127017247,
          7.500663197346324,
          2.51236403762344,
          0.6087532643754763,
          -5.581484631609477,
          1.5543935734675642,
          -7.329646751868102,
          -7.289875499921601,
          4.5875793901935324,
          1.7537519761390392,
          9.345572510203223,
          -7.364260116480779,
          2.567437947264956,
          -9.990584425424103,
          -6.037454148433692,
          -7.209333640240862,
          -1.7447893985482956,
          3.494194658180252,
          -6.2020042461528675,
          -9.89436486587966,
          6.858473483471602,
          2.130017632237685,
          -3.342675849839045,
          -5.290539800869157,
          2.9027337592100633,
          -9.924614140737376,
          -0.8109403494873249,
          -4.141231058080215,
          -9.866283825639574,
          5.603024276706709,
          -4.590151648851184,
          -7.116244024044667,
          1.128941848636602,
          7.3039363191550635,
          -7.791986973275915,
          4.228175156714684,
          -6.51968610104997
         ],
         "z": [
          -5.70098508418717,
          -35.15907881159303,
          31.66469906198213,
          21.290085931365347,
          38.24866787706686,
          -35.19105109650543,
          22.15601804262773,
          19.844040127981838,
          14.512166259714952,
          25.355489383084524,
          -7.464418823478139,
          5.005110517790774,
          4.02383416970565,
          -2.48440150190266,
          -42.2636971285001,
          -8.097159334896196,
          27.71481631432725,
          46.93506028522466,
          -5.4332243639521245,
          20.368353508118563,
          13.459608455309302,
          -3.301941720453378,
          -23.08116631402625,
          40.60355465684751,
          20.095517941496603,
          -32.44403270140015,
          45.86316986468834,
          33.96903843576551,
          45.63447876435308,
          31.5594161349093,
          42.86267499489633,
          -24.68892621724813,
          -36.916278779276986,
          -35.74984501591117,
          52.57155340810441,
          47.17769803502064,
          -10.140100477203182,
          10.000335400513396,
          -28.40547694428157,
          -21.5027838797432,
          -7.895004031154452,
          -12.138358523843342,
          -4.942984902458037,
          40.406234571667106,
          24.79272627660763,
          2.4360654539216173,
          32.73609614338538,
          7.092374298392695,
          39.24907777910524,
          -3.501080853317127,
          -26.695479948250096,
          17.35948165780424,
          -38.184576535017975,
          -14.718716584521335,
          48.31070575886398,
          50.42133829785939,
          31.160776251933886,
          46.838375472787696,
          -47.2789765219657,
          11.046482094615813,
          35.95083314164948,
          29.47934860747085,
          38.09589374966098,
          21.03004840445872,
          29.13196946905478,
          -8.314114181287795,
          30.40523435986831,
          39.371482146081725,
          -7.258911487369868,
          -0.2523530096766464,
          -19.937187912178917,
          4.170877033877499,
          40.18155690293646,
          -19.14734815929574,
          -25.914647832788024,
          51.682374666488734,
          -13.231995404023603,
          33.341069256635606,
          0.012973817666916077,
          3.6859201016104666,
          -43.38639586023539,
          7.578552622843708,
          -22.765274432762762,
          -31.75667084563277,
          0.7898488713802077,
          9.77672066745393,
          10.025522904120304,
          13.218946289446059,
          10.548433265171486,
          28.094753035022258,
          41.34270304014798,
          46.88163032263495,
          2.214507030351213,
          34.021260050988005,
          -37.07111629753778,
          12.85248213184363,
          20.457957738222834,
          51.00352445768129,
          20.170527374227596,
          41.18694258879405
         ]
        },
        {
         "marker": {
          "color": "red",
          "size": 2
         },
         "mode": "markers",
         "name": "Observed Points",
         "type": "scatter3d",
         "x": [
          -1.6229902173804227,
          -7.444833963900333,
          5.559226984755153,
          3.5264909642889357,
          7.075827832306235,
          -7.772830592592288,
          3.8222487389333892,
          3.3842934815353836,
          2.2115961863742015,
          4.433971932092323,
          -1.942875034080327,
          0.4138493730646591,
          0.17503706605582892,
          -1.150896619400715,
          -8.877970653813268,
          -2.2404723462723712,
          4.995690536967363,
          8.685419626115031,
          -1.5460505986602548,
          3.3941687505064877,
          2.149942682269323,
          -1.3537616967883288,
          -5.09913375923063,
          7.396832430268809,
          3.553120610614215,
          -6.941474092494413,
          8.727702065493919,
          6.059251863943292,
          8.424124047189423,
          5.693036074264363,
          8.05490444577357,
          -5.525783176791556,
          -7.844608655406871,
          -7.557087259640252,
          9.959047320863053,
          8.886437138463801,
          -2.487672043545592,
          1.423274788956988,
          -6.2322051129982,
          -5.020745130997359,
          -2.2929435531153803,
          -2.868675845362983,
          -1.6328042480632838,
          7.517346501497176,
          4.50792707450956,
          -0.26312966197220433,
          6.078908695576224,
          0.6283429687747955,
          7.08824849619522,
          -1.1847789076898927,
          -6.0388022288303,
          2.828237945308034,
          -8.047816345033073,
          -3.6981827814709796,
          9.156655494325317,
          9.337459207757512,
          5.683960935484304,
          8.882877322480482,
          -9.895760429131395,
          1.487276235547812,
          6.410391543702673,
          5.121585978393821,
          7.073195104002657,
          3.425500198351399,
          5.07638062986403,
          -2.313070117010028,
          5.468871806686153,
          7.385926121848534,
          -2.082870168943325,
          -0.5038776668979672,
          -4.441640072437352,
          0.14242381897162915,
          7.401236341064511,
          -4.616381082063212,
          -5.635644364227989,
          9.685126174352447,
          -3.0465873922962388,
          6.188962934295795,
          -0.4532185636617996,
          0.17207980829305924,
          -9.347163065210683,
          1.039750609491799,
          -4.955167589234959,
          -7.088503638795986,
          -0.48463057836871215,
          1.4221976504875666,
          1.510915376841444,
          1.9857345827050104,
          1.7081789358490447,
          5.035169413994199,
          7.751365229191201,
          8.973651741039781,
          -0.2691590794638916,
          6.296055043174626,
          -7.871898379026662,
          1.9479175893959937,
          3.3455128212614653,
          9.756544631001777,
          3.3495419717112256,
          7.767782239779809
         ],
         "y": [
          -5.860339972850563,
          -9.349089920913583,
          8.68564138206365,
          6.576311099206698,
          -1.3047128446431344,
          6.731018664560079,
          0.44774347960782634,
          -0.7742727969507861,
          4.541853278439444,
          1.8562972262290813,
          -7.500436530765051,
          -0.6413634753252158,
          1.4864883942650593,
          2.7008159510091545,
          -8.738438594337612,
          1.0520239646566019,
          -2.6363637050956346,
          5.079621546494984,
          -7.029713706508511,
          3.9750975558612573,
          -2.901049560373128,
          4.668667634882658,
          -5.854975178731056,
          6.193925055034619,
          -6.700851115744744,
          -7.366622389280768,
          -7.753404627812486,
          6.727791160490547,
          5.138585284059587,
          0.9423576358748385,
          -4.11847233971518,
          -0.6001033329034975,
          -6.932355022426262,
          -9.644087177099053,
          -2.236831962108539,
          -2.5448765729836715,
          -7.01740259475222,
          -1.160385442715441,
          -2.4445137929057186,
          6.00941775243599,
          5.697137344224508,
          -7.94979297028428,
          2.2103633785838195,
          -1.8049793581877278,
          -7.469090959401676,
          7.517137637826391,
          -6.584473344957433,
          9.50659454518718,
          8.078352981291431,
          -5.771863148676637,
          4.9853119590140516,
          2.1829193126406885,
          -9.454948098526142,
          7.721973228335624,
          -4.725717127626117,
          7.34042259071833,
          -2.5902842548763605,
          -5.760111396147116,
          -8.001743763087319,
          6.101009168767536,
          8.98875423136116,
          8.71418715501748,
          -2.7008177035230396,
          9.025474127017247,
          7.500663197346324,
          2.51236403762344,
          0.6087532643754763,
          -5.581484631609477,
          1.5543935734675642,
          -7.329646751868102,
          -7.289875499921601,
          4.5875793901935324,
          1.7537519761390392,
          9.345572510203223,
          -7.364260116480779,
          2.567437947264956,
          -9.990584425424103,
          -6.037454148433692,
          -7.209333640240862,
          -1.7447893985482956,
          3.494194658180252,
          -6.2020042461528675,
          -9.89436486587966,
          6.858473483471602,
          2.130017632237685,
          -3.342675849839045,
          -5.290539800869157,
          2.9027337592100633,
          -9.924614140737376,
          -0.8109403494873249,
          -4.141231058080215,
          -9.866283825639574,
          5.603024276706709,
          -4.590151648851184,
          -7.116244024044667,
          1.128941848636602,
          7.3039363191550635,
          -7.791986973275915,
          4.228175156714684,
          -6.51968610104997
         ],
         "z": [
          -39.86391359237257,
          3.4453848924582218,
          83.04435932252714,
          62.99822088725727,
          15.465939552651761,
          -15.780219261253915,
          -17.686650421965318,
          55.70832186524402,
          40.88893623643014,
          17.379460131453378,
          -12.012298092109129,
          -21.148083870893906,
          15.250944988509115,
          -48.98234580467949,
          -22.23513223448832,
          30.883259554229177,
          26.314445920032934,
          22.269062097338857,
          -1.8415950235525793,
          27.543071324645844,
          33.04666372490524,
          20.063995141612,
          -37.12397451072687,
          46.93214587188098,
          48.185398396009674,
          2.0796884043749984,
          31.268259808075836,
          53.92317433451342,
          98.00637464743681,
          24.969463678404136,
          36.96798955996239,
          2.083961346748662,
          -80.17755445049967,
          -49.95938140858412,
          70.72218956939776,
          9.95882647926792,
          -36.77781117751542,
          96.16648356731082,
          -31.9166767214006,
          43.3017539313629,
          -26.001805761980457,
          -94.18973029043718,
          -34.5152823825575,
          35.075168069854705,
          43.006568928527486,
          -7.507181025100957,
          34.275566351241345,
          35.63464429871081,
          53.61858146720633,
          -10.70997313107366,
          -10.962966675642956,
          10.432683641854762,
          -80.2137429859917,
          -12.186866115857628,
          63.49678682240434,
          48.06105406703289,
          105.49009564668602,
          81.14014968796218,
          -69.39928220268223,
          61.73076093737562,
          21.121580889840324,
          38.92507509489475,
          66.07635410347764,
          33.815393546515125,
          -29.293864123652035,
          -10.863591607594376,
          -19.642763893390693,
          59.49646691339747,
          -5.612900890673668,
          37.09481512236867,
          -50.77935562467613,
          4.687521195628742,
          -13.443657869425671,
          -1.9967640808876332,
          -19.940782291184163,
          28.50938148808507,
          -28.4733728900247,
          22.495540080393823,
          -5.562607311972917,
          -8.172272469159553,
          -34.15622183747902,
          11.710069810018304,
          -67.8519828700096,
          -29.70258065419658,
          68.60477740823809,
          -4.002336536317442,
          -48.59887913221074,
          8.863665522706565,
          11.673176567269783,
          5.341226401162853,
          38.1875212932374,
          11.584280866762683,
          29.915819200239266,
          61.72715631734707,
          -23.13401249366666,
          -11.6608395242385,
          28.69950189675735,
          45.14895513240748,
          28.970865481500358,
          54.803752797258696
         ]
        },
        {
         "marker": {
          "color": "blue",
          "size": 2
         },
         "mode": "markers",
         "name": "Predicted Points",
         "type": "scatter3d",
         "x": [
          -1.6229902173804227,
          -7.444833963900333,
          5.559226984755153,
          3.5264909642889357,
          7.075827832306235,
          -7.772830592592288,
          3.8222487389333892,
          3.3842934815353836,
          2.2115961863742015,
          4.433971932092323,
          -1.942875034080327,
          0.4138493730646591,
          0.17503706605582892,
          -1.150896619400715,
          -8.877970653813268,
          -2.2404723462723712,
          4.995690536967363,
          8.685419626115031,
          -1.5460505986602548,
          3.3941687505064877,
          2.149942682269323,
          -1.3537616967883288,
          -5.09913375923063,
          7.396832430268809,
          3.553120610614215,
          -6.941474092494413,
          8.727702065493919,
          6.059251863943292,
          8.424124047189423,
          5.693036074264363,
          8.05490444577357,
          -5.525783176791556,
          -7.844608655406871,
          -7.557087259640252,
          9.959047320863053,
          8.886437138463801,
          -2.487672043545592,
          1.423274788956988,
          -6.2322051129982,
          -5.020745130997359,
          -2.2929435531153803,
          -2.868675845362983,
          -1.6328042480632838,
          7.517346501497176,
          4.50792707450956,
          -0.26312966197220433,
          6.078908695576224,
          0.6283429687747955,
          7.08824849619522,
          -1.1847789076898927,
          -6.0388022288303,
          2.828237945308034,
          -8.047816345033073,
          -3.6981827814709796,
          9.156655494325317,
          9.337459207757512,
          5.683960935484304,
          8.882877322480482,
          -9.895760429131395,
          1.487276235547812,
          6.410391543702673,
          5.121585978393821,
          7.073195104002657,
          3.425500198351399,
          5.07638062986403,
          -2.313070117010028,
          5.468871806686153,
          7.385926121848534,
          -2.082870168943325,
          -0.5038776668979672,
          -4.441640072437352,
          0.14242381897162915,
          7.401236341064511,
          -4.616381082063212,
          -5.635644364227989,
          9.685126174352447,
          -3.0465873922962388,
          6.188962934295795,
          -0.4532185636617996,
          0.17207980829305924,
          -9.347163065210683,
          1.039750609491799,
          -4.955167589234959,
          -7.088503638795986,
          -0.48463057836871215,
          1.4221976504875666,
          1.510915376841444,
          1.9857345827050104,
          1.7081789358490447,
          5.035169413994199,
          7.751365229191201,
          8.973651741039781,
          -0.2691590794638916,
          6.296055043174626,
          -7.871898379026662,
          1.9479175893959937,
          3.3455128212614653,
          9.756544631001777,
          3.3495419717112256,
          7.767782239779809
         ],
         "y": [
          -5.860339972850563,
          -9.349089920913583,
          8.68564138206365,
          6.576311099206698,
          -1.3047128446431344,
          6.731018664560079,
          0.44774347960782634,
          -0.7742727969507861,
          4.541853278439444,
          1.8562972262290813,
          -7.500436530765051,
          -0.6413634753252158,
          1.4864883942650593,
          2.7008159510091545,
          -8.738438594337612,
          1.0520239646566019,
          -2.6363637050956346,
          5.079621546494984,
          -7.029713706508511,
          3.9750975558612573,
          -2.901049560373128,
          4.668667634882658,
          -5.854975178731056,
          6.193925055034619,
          -6.700851115744744,
          -7.366622389280768,
          -7.753404627812486,
          6.727791160490547,
          5.138585284059587,
          0.9423576358748385,
          -4.11847233971518,
          -0.6001033329034975,
          -6.932355022426262,
          -9.644087177099053,
          -2.236831962108539,
          -2.5448765729836715,
          -7.01740259475222,
          -1.160385442715441,
          -2.4445137929057186,
          6.00941775243599,
          5.697137344224508,
          -7.94979297028428,
          2.2103633785838195,
          -1.8049793581877278,
          -7.469090959401676,
          7.517137637826391,
          -6.584473344957433,
          9.50659454518718,
          8.078352981291431,
          -5.771863148676637,
          4.9853119590140516,
          2.1829193126406885,
          -9.454948098526142,
          7.721973228335624,
          -4.725717127626117,
          7.34042259071833,
          -2.5902842548763605,
          -5.760111396147116,
          -8.001743763087319,
          6.101009168767536,
          8.98875423136116,
          8.71418715501748,
          -2.7008177035230396,
          9.025474127017247,
          7.500663197346324,
          2.51236403762344,
          0.6087532643754763,
          -5.581484631609477,
          1.5543935734675642,
          -7.329646751868102,
          -7.289875499921601,
          4.5875793901935324,
          1.7537519761390392,
          9.345572510203223,
          -7.364260116480779,
          2.567437947264956,
          -9.990584425424103,
          -6.037454148433692,
          -7.209333640240862,
          -1.7447893985482956,
          3.494194658180252,
          -6.2020042461528675,
          -9.89436486587966,
          6.858473483471602,
          2.130017632237685,
          -3.342675849839045,
          -5.290539800869157,
          2.9027337592100633,
          -9.924614140737376,
          -0.8109403494873249,
          -4.141231058080215,
          -9.866283825639574,
          5.603024276706709,
          -4.590151648851184,
          -7.116244024044667,
          1.128941848636602,
          7.3039363191550635,
          -7.791986973275915,
          4.228175156714684,
          -6.51968610104997
         ],
         "z": [
          -9.559844171093335,
          -42.34886631212846,
          43.4652730567318,
          30.92260535661638,
          38.62568955820552,
          -24.212920579089094,
          24.84655107503609,
          21.201869113170456,
          21.98666430175321,
          29.57107864802365,
          -13.139698742083565,
          6.820702898225591,
          8.263808107059145,
          3.2624279796463154,
          -48.61629787391069,
          -4.096780375929384,
          26.805704075432146,
          54.34501839368953,
          -10.618788687888147,
          27.081137199076586,
          12.54695762082817,
          4.685107459804342,
          -26.573682653228538,
          49.403697942933334,
          14.752304700303112,
          -37.45031614145538,
          38.79663574622546,
          43.509871821237375,
          53.13801425623603,
          34.61383537626805,
          39.96507436202717,
          -22.211177171338676,
          -41.33922112990689,
          -43.26067321371531,
          51.59856433342064,
          45.96849280650458,
          -15.214184787266573,
          11.125990151244338,
          -27.934494879693155,
          -11.623666033623222,
          1.3492185988179477,
          -18.224431705199173,
          0.3006979162842187,
          40.173331572099464,
          18.484187565702143,
          13.522361192791145,
          27.262333885114444,
          20.329829360766077,
          50.20631927169326,
          -7.305581914879811,
          -17.865751811797082,
          22.109840364090026,
          -45.43124535831901,
          -3.0453890317266357,
          44.6141072183686,
          60.31327356495475,
          30.232291569794597,
          42.00364219504303,
          -52.69529781327377,
          20.354351205955126,
          48.005013856385304,
          41.35747464103426,
          36.89876755030584,
          33.43501482049718,
          39.64626099545147,
          -2.659350323640391,
          33.1066740041933,
          34.89334541721185,
          -2.708333369059371,
          -5.884177349421611,
          -25.11602299212995,
          11.911405542159402,
          43.97395462761061,
          -5.547880228113682,
          -31.053612950271003,
          56.15566655709648,
          -21.60107775177555,
          28.472786776345913,
          -5.4884212329123905,
          4.2822114966252975,
          -35.89533375252326,
          3.05840480247977,
          -30.828028586487548,
          -20.705735099626878,
          5.8239188243233535,
          8.44146610666835,
          6.484420347565102,
          18.86838008153896,
          1.7609286959658323,
          29.240122385197466,
          38.45089786468044,
          37.406859917728895,
          11.14283640038757,
          30.774035323795253,
          -41.69860615725961,
          16.505488097490506,
          30.9297953706291,
          43.78684339849077,
          27.17333815640793,
          35.61119534160605
         ]
        }
       ],
       "layout": {
        "scene": {
         "camera": {
          "eye": {
           "x": -1,
           "y": -2,
           "z": 0.5
          }
         },
         "xaxis": {
          "title": {
           "text": "Feature 1"
          }
         },
         "yaxis": {
          "title": {
           "text": "Feature 2"
          }
         },
         "zaxis": {
          "title": {
           "text": "Response"
          }
         }
        },
        "template": {
         "data": {
          "bar": [
           {
            "error_x": {
             "color": "rgb(36,36,36)"
            },
            "error_y": {
             "color": "rgb(36,36,36)"
            },
            "marker": {
             "line": {
              "color": "white",
              "width": 0.5
             },
             "pattern": {
              "fillmode": "overlay",
              "size": 10,
              "solidity": 0.2
             }
            },
            "type": "bar"
           }
          ],
          "barpolar": [
           {
            "marker": {
             "line": {
              "color": "white",
              "width": 0.5
             },
             "pattern": {
              "fillmode": "overlay",
              "size": 10,
              "solidity": 0.2
             }
            },
            "type": "barpolar"
           }
          ],
          "carpet": [
           {
            "aaxis": {
             "endlinecolor": "rgb(36,36,36)",
             "gridcolor": "white",
             "linecolor": "white",
             "minorgridcolor": "white",
             "startlinecolor": "rgb(36,36,36)"
            },
            "baxis": {
             "endlinecolor": "rgb(36,36,36)",
             "gridcolor": "white",
             "linecolor": "white",
             "minorgridcolor": "white",
             "startlinecolor": "rgb(36,36,36)"
            },
            "type": "carpet"
           }
          ],
          "choropleth": [
           {
            "colorbar": {
             "outlinewidth": 1,
             "tickcolor": "rgb(36,36,36)",
             "ticks": "outside"
            },
            "type": "choropleth"
           }
          ],
          "contour": [
           {
            "colorbar": {
             "outlinewidth": 1,
             "tickcolor": "rgb(36,36,36)",
             "ticks": "outside"
            },
            "colorscale": [
             [
              0,
              "#440154"
             ],
             [
              0.1111111111111111,
              "#482878"
             ],
             [
              0.2222222222222222,
              "#3e4989"
             ],
             [
              0.3333333333333333,
              "#31688e"
             ],
             [
              0.4444444444444444,
              "#26828e"
             ],
             [
              0.5555555555555556,
              "#1f9e89"
             ],
             [
              0.6666666666666666,
              "#35b779"
             ],
             [
              0.7777777777777778,
              "#6ece58"
             ],
             [
              0.8888888888888888,
              "#b5de2b"
             ],
             [
              1,
              "#fde725"
             ]
            ],
            "type": "contour"
           }
          ],
          "contourcarpet": [
           {
            "colorbar": {
             "outlinewidth": 1,
             "tickcolor": "rgb(36,36,36)",
             "ticks": "outside"
            },
            "type": "contourcarpet"
           }
          ],
          "heatmap": [
           {
            "colorbar": {
             "outlinewidth": 1,
             "tickcolor": "rgb(36,36,36)",
             "ticks": "outside"
            },
            "colorscale": [
             [
              0,
              "#440154"
             ],
             [
              0.1111111111111111,
              "#482878"
             ],
             [
              0.2222222222222222,
              "#3e4989"
             ],
             [
              0.3333333333333333,
              "#31688e"
             ],
             [
              0.4444444444444444,
              "#26828e"
             ],
             [
              0.5555555555555556,
              "#1f9e89"
             ],
             [
              0.6666666666666666,
              "#35b779"
             ],
             [
              0.7777777777777778,
              "#6ece58"
             ],
             [
              0.8888888888888888,
              "#b5de2b"
             ],
             [
              1,
              "#fde725"
             ]
            ],
            "type": "heatmap"
           }
          ],
          "heatmapgl": [
           {
            "colorbar": {
             "outlinewidth": 1,
             "tickcolor": "rgb(36,36,36)",
             "ticks": "outside"
            },
            "colorscale": [
             [
              0,
              "#440154"
             ],
             [
              0.1111111111111111,
              "#482878"
             ],
             [
              0.2222222222222222,
              "#3e4989"
             ],
             [
              0.3333333333333333,
              "#31688e"
             ],
             [
              0.4444444444444444,
              "#26828e"
             ],
             [
              0.5555555555555556,
              "#1f9e89"
             ],
             [
              0.6666666666666666,
              "#35b779"
             ],
             [
              0.7777777777777778,
              "#6ece58"
             ],
             [
              0.8888888888888888,
              "#b5de2b"
             ],
             [
              1,
              "#fde725"
             ]
            ],
            "type": "heatmapgl"
           }
          ],
          "histogram": [
           {
            "marker": {
             "line": {
              "color": "white",
              "width": 0.6
             }
            },
            "type": "histogram"
           }
          ],
          "histogram2d": [
           {
            "colorbar": {
             "outlinewidth": 1,
             "tickcolor": "rgb(36,36,36)",
             "ticks": "outside"
            },
            "colorscale": [
             [
              0,
              "#440154"
             ],
             [
              0.1111111111111111,
              "#482878"
             ],
             [
              0.2222222222222222,
              "#3e4989"
             ],
             [
              0.3333333333333333,
              "#31688e"
             ],
             [
              0.4444444444444444,
              "#26828e"
             ],
             [
              0.5555555555555556,
              "#1f9e89"
             ],
             [
              0.6666666666666666,
              "#35b779"
             ],
             [
              0.7777777777777778,
              "#6ece58"
             ],
             [
              0.8888888888888888,
              "#b5de2b"
             ],
             [
              1,
              "#fde725"
             ]
            ],
            "type": "histogram2d"
           }
          ],
          "histogram2dcontour": [
           {
            "colorbar": {
             "outlinewidth": 1,
             "tickcolor": "rgb(36,36,36)",
             "ticks": "outside"
            },
            "colorscale": [
             [
              0,
              "#440154"
             ],
             [
              0.1111111111111111,
              "#482878"
             ],
             [
              0.2222222222222222,
              "#3e4989"
             ],
             [
              0.3333333333333333,
              "#31688e"
             ],
             [
              0.4444444444444444,
              "#26828e"
             ],
             [
              0.5555555555555556,
              "#1f9e89"
             ],
             [
              0.6666666666666666,
              "#35b779"
             ],
             [
              0.7777777777777778,
              "#6ece58"
             ],
             [
              0.8888888888888888,
              "#b5de2b"
             ],
             [
              1,
              "#fde725"
             ]
            ],
            "type": "histogram2dcontour"
           }
          ],
          "mesh3d": [
           {
            "colorbar": {
             "outlinewidth": 1,
             "tickcolor": "rgb(36,36,36)",
             "ticks": "outside"
            },
            "type": "mesh3d"
           }
          ],
          "parcoords": [
           {
            "line": {
             "colorbar": {
              "outlinewidth": 1,
              "tickcolor": "rgb(36,36,36)",
              "ticks": "outside"
             }
            },
            "type": "parcoords"
           }
          ],
          "pie": [
           {
            "automargin": true,
            "type": "pie"
           }
          ],
          "scatter": [
           {
            "marker": {
             "colorbar": {
              "outlinewidth": 1,
              "tickcolor": "rgb(36,36,36)",
              "ticks": "outside"
             }
            },
            "type": "scatter"
           }
          ],
          "scatter3d": [
           {
            "line": {
             "colorbar": {
              "outlinewidth": 1,
              "tickcolor": "rgb(36,36,36)",
              "ticks": "outside"
             }
            },
            "marker": {
             "colorbar": {
              "outlinewidth": 1,
              "tickcolor": "rgb(36,36,36)",
              "ticks": "outside"
             }
            },
            "type": "scatter3d"
           }
          ],
          "scattercarpet": [
           {
            "marker": {
             "colorbar": {
              "outlinewidth": 1,
              "tickcolor": "rgb(36,36,36)",
              "ticks": "outside"
             }
            },
            "type": "scattercarpet"
           }
          ],
          "scattergeo": [
           {
            "marker": {
             "colorbar": {
              "outlinewidth": 1,
              "tickcolor": "rgb(36,36,36)",
              "ticks": "outside"
             }
            },
            "type": "scattergeo"
           }
          ],
          "scattergl": [
           {
            "marker": {
             "colorbar": {
              "outlinewidth": 1,
              "tickcolor": "rgb(36,36,36)",
              "ticks": "outside"
             }
            },
            "type": "scattergl"
           }
          ],
          "scattermapbox": [
           {
            "marker": {
             "colorbar": {
              "outlinewidth": 1,
              "tickcolor": "rgb(36,36,36)",
              "ticks": "outside"
             }
            },
            "type": "scattermapbox"
           }
          ],
          "scatterpolar": [
           {
            "marker": {
             "colorbar": {
              "outlinewidth": 1,
              "tickcolor": "rgb(36,36,36)",
              "ticks": "outside"
             }
            },
            "type": "scatterpolar"
           }
          ],
          "scatterpolargl": [
           {
            "marker": {
             "colorbar": {
              "outlinewidth": 1,
              "tickcolor": "rgb(36,36,36)",
              "ticks": "outside"
             }
            },
            "type": "scatterpolargl"
           }
          ],
          "scatterternary": [
           {
            "marker": {
             "colorbar": {
              "outlinewidth": 1,
              "tickcolor": "rgb(36,36,36)",
              "ticks": "outside"
             }
            },
            "type": "scatterternary"
           }
          ],
          "surface": [
           {
            "colorbar": {
             "outlinewidth": 1,
             "tickcolor": "rgb(36,36,36)",
             "ticks": "outside"
            },
            "colorscale": [
             [
              0,
              "#440154"
             ],
             [
              0.1111111111111111,
              "#482878"
             ],
             [
              0.2222222222222222,
              "#3e4989"
             ],
             [
              0.3333333333333333,
              "#31688e"
             ],
             [
              0.4444444444444444,
              "#26828e"
             ],
             [
              0.5555555555555556,
              "#1f9e89"
             ],
             [
              0.6666666666666666,
              "#35b779"
             ],
             [
              0.7777777777777778,
              "#6ece58"
             ],
             [
              0.8888888888888888,
              "#b5de2b"
             ],
             [
              1,
              "#fde725"
             ]
            ],
            "type": "surface"
           }
          ],
          "table": [
           {
            "cells": {
             "fill": {
              "color": "rgb(237,237,237)"
             },
             "line": {
              "color": "white"
             }
            },
            "header": {
             "fill": {
              "color": "rgb(217,217,217)"
             },
             "line": {
              "color": "white"
             }
            },
            "type": "table"
           }
          ]
         },
         "layout": {
          "annotationdefaults": {
           "arrowhead": 0,
           "arrowwidth": 1
          },
          "autotypenumbers": "strict",
          "coloraxis": {
           "colorbar": {
            "outlinewidth": 1,
            "tickcolor": "rgb(36,36,36)",
            "ticks": "outside"
           }
          },
          "colorscale": {
           "diverging": [
            [
             0,
             "rgb(103,0,31)"
            ],
            [
             0.1,
             "rgb(178,24,43)"
            ],
            [
             0.2,
             "rgb(214,96,77)"
            ],
            [
             0.3,
             "rgb(244,165,130)"
            ],
            [
             0.4,
             "rgb(253,219,199)"
            ],
            [
             0.5,
             "rgb(247,247,247)"
            ],
            [
             0.6,
             "rgb(209,229,240)"
            ],
            [
             0.7,
             "rgb(146,197,222)"
            ],
            [
             0.8,
             "rgb(67,147,195)"
            ],
            [
             0.9,
             "rgb(33,102,172)"
            ],
            [
             1,
             "rgb(5,48,97)"
            ]
           ],
           "sequential": [
            [
             0,
             "#440154"
            ],
            [
             0.1111111111111111,
             "#482878"
            ],
            [
             0.2222222222222222,
             "#3e4989"
            ],
            [
             0.3333333333333333,
             "#31688e"
            ],
            [
             0.4444444444444444,
             "#26828e"
            ],
            [
             0.5555555555555556,
             "#1f9e89"
            ],
            [
             0.6666666666666666,
             "#35b779"
            ],
            [
             0.7777777777777778,
             "#6ece58"
            ],
            [
             0.8888888888888888,
             "#b5de2b"
            ],
            [
             1,
             "#fde725"
            ]
           ],
           "sequentialminus": [
            [
             0,
             "#440154"
            ],
            [
             0.1111111111111111,
             "#482878"
            ],
            [
             0.2222222222222222,
             "#3e4989"
            ],
            [
             0.3333333333333333,
             "#31688e"
            ],
            [
             0.4444444444444444,
             "#26828e"
            ],
            [
             0.5555555555555556,
             "#1f9e89"
            ],
            [
             0.6666666666666666,
             "#35b779"
            ],
            [
             0.7777777777777778,
             "#6ece58"
            ],
            [
             0.8888888888888888,
             "#b5de2b"
            ],
            [
             1,
             "#fde725"
            ]
           ]
          },
          "colorway": [
           "#1F77B4",
           "#FF7F0E",
           "#2CA02C",
           "#D62728",
           "#9467BD",
           "#8C564B",
           "#E377C2",
           "#7F7F7F",
           "#BCBD22",
           "#17BECF"
          ],
          "font": {
           "color": "rgb(36,36,36)"
          },
          "geo": {
           "bgcolor": "white",
           "lakecolor": "white",
           "landcolor": "white",
           "showlakes": true,
           "showland": true,
           "subunitcolor": "white"
          },
          "hoverlabel": {
           "align": "left"
          },
          "hovermode": "closest",
          "mapbox": {
           "style": "light"
          },
          "margin": {
           "b": 0,
           "l": 20,
           "r": 20,
           "t": 40
          },
          "paper_bgcolor": "white",
          "plot_bgcolor": "white",
          "polar": {
           "angularaxis": {
            "gridcolor": "rgb(232,232,232)",
            "linecolor": "rgb(36,36,36)",
            "showgrid": false,
            "showline": true,
            "ticks": "outside"
           },
           "bgcolor": "white",
           "radialaxis": {
            "gridcolor": "rgb(232,232,232)",
            "linecolor": "rgb(36,36,36)",
            "showgrid": false,
            "showline": true,
            "ticks": "outside"
           }
          },
          "scene": {
           "xaxis": {
            "backgroundcolor": "white",
            "gridcolor": "rgb(232,232,232)",
            "gridwidth": 2,
            "linecolor": "rgb(36,36,36)",
            "showbackground": true,
            "showgrid": false,
            "showline": true,
            "ticks": "outside",
            "zeroline": false,
            "zerolinecolor": "rgb(36,36,36)"
           },
           "yaxis": {
            "backgroundcolor": "white",
            "gridcolor": "rgb(232,232,232)",
            "gridwidth": 2,
            "linecolor": "rgb(36,36,36)",
            "showbackground": true,
            "showgrid": false,
            "showline": true,
            "ticks": "outside",
            "zeroline": false,
            "zerolinecolor": "rgb(36,36,36)"
           },
           "zaxis": {
            "backgroundcolor": "white",
            "gridcolor": "rgb(232,232,232)",
            "gridwidth": 2,
            "linecolor": "rgb(36,36,36)",
            "showbackground": true,
            "showgrid": false,
            "showline": true,
            "ticks": "outside",
            "zeroline": false,
            "zerolinecolor": "rgb(36,36,36)"
           }
          },
          "shapedefaults": {
           "fillcolor": "black",
           "line": {
            "width": 0
           },
           "opacity": 0.3
          },
          "ternary": {
           "aaxis": {
            "gridcolor": "rgb(232,232,232)",
            "linecolor": "rgb(36,36,36)",
            "showgrid": false,
            "showline": true,
            "ticks": "outside"
           },
           "baxis": {
            "gridcolor": "rgb(232,232,232)",
            "linecolor": "rgb(36,36,36)",
            "showgrid": false,
            "showline": true,
            "ticks": "outside"
           },
           "bgcolor": "white",
           "caxis": {
            "gridcolor": "rgb(232,232,232)",
            "linecolor": "rgb(36,36,36)",
            "showgrid": false,
            "showline": true,
            "ticks": "outside"
           }
          },
          "title": {
           "x": 0.05
          },
          "xaxis": {
           "automargin": true,
           "gridcolor": "rgb(232,232,232)",
           "linecolor": "rgb(36,36,36)",
           "showgrid": false,
           "showline": true,
           "ticks": "outside",
           "title": {
            "standoff": 15
           },
           "zeroline": false,
           "zerolinecolor": "rgb(36,36,36)"
          },
          "yaxis": {
           "automargin": true,
           "gridcolor": "rgb(232,232,232)",
           "linecolor": "rgb(36,36,36)",
           "showgrid": false,
           "showline": true,
           "ticks": "outside",
           "title": {
            "standoff": 15
           },
           "zeroline": false,
           "zerolinecolor": "rgb(36,36,36)"
          }
         }
        },
        "title": {
         "text": "$\\text{(4) Bivariate Linear Regression}$"
        }
       }
      },
      "text/html": [
       "<div>                            <div id=\"78ec1b50-3230-4065-b525-29b3567e8d09\" class=\"plotly-graph-div\" style=\"height:525px; width:100%;\"></div>            <script type=\"text/javascript\">                require([\"plotly\"], function(Plotly) {                    window.PLOTLYENV=window.PLOTLYENV || {};                                    if (document.getElementById(\"78ec1b50-3230-4065-b525-29b3567e8d09\")) {                    Plotly.newPlot(                        \"78ec1b50-3230-4065-b525-29b3567e8d09\",                        [{\"opacity\":0.5,\"showscale\":false,\"x\":[[-10.0,-7.777777777777778,-5.555555555555555,-3.333333333333333,-1.1111111111111107,1.1111111111111107,3.333333333333334,5.555555555555557,7.777777777777779,10.0],[-10.0,-7.777777777777778,-5.555555555555555,-3.333333333333333,-1.1111111111111107,1.1111111111111107,3.333333333333334,5.555555555555557,7.777777777777779,10.0],[-10.0,-7.777777777777778,-5.555555555555555,-3.333333333333333,-1.1111111111111107,1.1111111111111107,3.333333333333334,5.555555555555557,7.777777777777779,10.0],[-10.0,-7.777777777777778,-5.555555555555555,-3.333333333333333,-1.1111111111111107,1.1111111111111107,3.333333333333334,5.555555555555557,7.777777777777779,10.0],[-10.0,-7.777777777777778,-5.555555555555555,-3.333333333333333,-1.1111111111111107,1.1111111111111107,3.333333333333334,5.555555555555557,7.777777777777779,10.0],[-10.0,-7.777777777777778,-5.555555555555555,-3.333333333333333,-1.1111111111111107,1.1111111111111107,3.333333333333334,5.555555555555557,7.777777777777779,10.0],[-10.0,-7.777777777777778,-5.555555555555555,-3.333333333333333,-1.1111111111111107,1.1111111111111107,3.333333333333334,5.555555555555557,7.777777777777779,10.0],[-10.0,-7.777777777777778,-5.555555555555555,-3.333333333333333,-1.1111111111111107,1.1111111111111107,3.333333333333334,5.555555555555557,7.777777777777779,10.0],[-10.0,-7.777777777777778,-5.555555555555555,-3.333333333333333,-1.1111111111111107,1.1111111111111107,3.333333333333334,5.555555555555557,7.777777777777779,10.0],[-10.0,-7.777777777777778,-5.555555555555555,-3.333333333333333,-1.1111111111111107,1.1111111111111107,3.333333333333334,5.555555555555557,7.777777777777779,10.0]],\"y\":[[-10.0,-10.0,-10.0,-10.0,-10.0,-10.0,-10.0,-10.0,-10.0,-10.0],[-7.777777777777778,-7.777777777777778,-7.777777777777778,-7.777777777777778,-7.777777777777778,-7.777777777777778,-7.777777777777778,-7.777777777777778,-7.777777777777778,-7.777777777777778],[-5.555555555555555,-5.555555555555555,-5.555555555555555,-5.555555555555555,-5.555555555555555,-5.555555555555555,-5.555555555555555,-5.555555555555555,-5.555555555555555,-5.555555555555555],[-3.333333333333333,-3.333333333333333,-3.333333333333333,-3.333333333333333,-3.333333333333333,-3.333333333333333,-3.333333333333333,-3.333333333333333,-3.333333333333333,-3.333333333333333],[-1.1111111111111107,-1.1111111111111107,-1.1111111111111107,-1.1111111111111107,-1.1111111111111107,-1.1111111111111107,-1.1111111111111107,-1.1111111111111107,-1.1111111111111107,-1.1111111111111107],[1.1111111111111107,1.1111111111111107,1.1111111111111107,1.1111111111111107,1.1111111111111107,1.1111111111111107,1.1111111111111107,1.1111111111111107,1.1111111111111107,1.1111111111111107],[3.333333333333334,3.333333333333334,3.333333333333334,3.333333333333334,3.333333333333334,3.333333333333334,3.333333333333334,3.333333333333334,3.333333333333334,3.333333333333334],[5.555555555555557,5.555555555555557,5.555555555555557,5.555555555555557,5.555555555555557,5.555555555555557,5.555555555555557,5.555555555555557,5.555555555555557,5.555555555555557],[7.777777777777779,7.777777777777779,7.777777777777779,7.777777777777779,7.777777777777779,7.777777777777779,7.777777777777779,7.777777777777779,7.777777777777779,7.777777777777779],[10.0,10.0,10.0,10.0,10.0,10.0,10.0,10.0,10.0,10.0]],\"z\":[[-48.0,-36.888888888888886,-25.77777777777778,-14.666666666666664,-3.5555555555555536,7.555555555555554,18.66666666666667,29.777777777777786,40.88888888888889,52.0],[-47.77777777777778,-36.666666666666664,-25.555555555555557,-14.444444444444443,-3.3333333333333313,7.777777777777776,18.888888888888893,30.000000000000007,41.111111111111114,52.22222222222222],[-47.55555555555556,-36.44444444444444,-25.333333333333336,-14.222222222222221,-3.111111111111109,7.999999999999998,19.111111111111114,30.22222222222223,41.333333333333336,52.44444444444444],[-47.333333333333336,-36.22222222222222,-25.11111111111111,-13.999999999999996,-2.8888888888888866,8.222222222222221,19.33333333333334,30.444444444444454,41.55555555555556,52.666666666666664],[-47.111111111111114,-36.0,-24.88888888888889,-13.777777777777775,-2.6666666666666643,8.444444444444443,19.55555555555556,30.666666666666675,41.77777777777778,52.888888888888886],[-46.888888888888886,-35.77777777777777,-24.666666666666668,-13.555555555555554,-2.444444444444443,8.666666666666664,19.777777777777782,30.888888888888896,42.00000000000001,53.111111111111114],[-46.666666666666664,-35.55555555555555,-24.444444444444446,-13.333333333333332,-2.2222222222222205,8.888888888888886,20.000000000000004,31.111111111111118,42.22222222222223,53.333333333333336],[-46.44444444444444,-35.33333333333333,-24.22222222222222,-13.111111111111107,-1.9999999999999982,9.111111111111109,20.22222222222223,31.333333333333343,42.44444444444445,53.55555555555556],[-46.22222222222222,-35.11111111111111,-24.0,-12.888888888888886,-1.777777777777776,9.333333333333332,20.44444444444445,31.555555555555564,42.66666666666667,53.77777777777778],[-46.0,-34.888888888888886,-23.77777777777778,-12.666666666666664,-1.5555555555555536,9.555555555555554,20.66666666666667,31.777777777777786,42.88888888888889,54.0]],\"type\":\"surface\"},{\"marker\":{\"color\":\"black\",\"size\":2},\"mode\":\"markers\",\"name\":\"Real (noise-less) Points\",\"x\":[-1.6229902173804227,-7.444833963900333,5.559226984755153,3.5264909642889357,7.075827832306235,-7.772830592592288,3.8222487389333892,3.3842934815353836,2.2115961863742015,4.433971932092323,-1.942875034080327,0.4138493730646591,0.17503706605582892,-1.150896619400715,-8.877970653813268,-2.2404723462723712,4.995690536967363,8.685419626115031,-1.5460505986602548,3.3941687505064877,2.149942682269323,-1.3537616967883288,-5.09913375923063,7.396832430268809,3.553120610614215,-6.941474092494413,8.727702065493919,6.059251863943292,8.424124047189423,5.693036074264363,8.05490444577357,-5.525783176791556,-7.844608655406871,-7.557087259640252,9.959047320863053,8.886437138463801,-2.487672043545592,1.423274788956988,-6.2322051129982,-5.020745130997359,-2.2929435531153803,-2.868675845362983,-1.6328042480632838,7.517346501497176,4.50792707450956,-0.26312966197220433,6.078908695576224,0.6283429687747955,7.08824849619522,-1.1847789076898927,-6.0388022288303,2.828237945308034,-8.047816345033073,-3.6981827814709796,9.156655494325317,9.337459207757512,5.683960935484304,8.882877322480482,-9.895760429131395,1.487276235547812,6.410391543702673,5.121585978393821,7.073195104002657,3.425500198351399,5.07638062986403,-2.313070117010028,5.468871806686153,7.385926121848534,-2.082870168943325,-0.5038776668979672,-4.441640072437352,0.14242381897162915,7.401236341064511,-4.616381082063212,-5.635644364227989,9.685126174352447,-3.0465873922962388,6.188962934295795,-0.4532185636617996,0.17207980829305924,-9.347163065210683,1.039750609491799,-4.955167589234959,-7.088503638795986,-0.48463057836871215,1.4221976504875666,1.510915376841444,1.9857345827050104,1.7081789358490447,5.035169413994199,7.751365229191201,8.973651741039781,-0.2691590794638916,6.296055043174626,-7.871898379026662,1.9479175893959937,3.3455128212614653,9.756544631001777,3.3495419717112256,7.767782239779809],\"y\":[-5.860339972850563,-9.349089920913583,8.68564138206365,6.576311099206698,-1.3047128446431344,6.731018664560079,0.44774347960782634,-0.7742727969507861,4.541853278439444,1.8562972262290813,-7.500436530765051,-0.6413634753252158,1.4864883942650593,2.7008159510091545,-8.738438594337612,1.0520239646566019,-2.6363637050956346,5.079621546494984,-7.029713706508511,3.9750975558612573,-2.901049560373128,4.668667634882658,-5.854975178731056,6.193925055034619,-6.700851115744744,-7.366622389280768,-7.753404627812486,6.727791160490547,5.138585284059587,0.9423576358748385,-4.11847233971518,-0.6001033329034975,-6.932355022426262,-9.644087177099053,-2.236831962108539,-2.5448765729836715,-7.01740259475222,-1.160385442715441,-2.4445137929057186,6.00941775243599,5.697137344224508,-7.94979297028428,2.2103633785838195,-1.8049793581877278,-7.469090959401676,7.517137637826391,-6.584473344957433,9.50659454518718,8.078352981291431,-5.771863148676637,4.9853119590140516,2.1829193126406885,-9.454948098526142,7.721973228335624,-4.725717127626117,7.34042259071833,-2.5902842548763605,-5.760111396147116,-8.001743763087319,6.101009168767536,8.98875423136116,8.71418715501748,-2.7008177035230396,9.025474127017247,7.500663197346324,2.51236403762344,0.6087532643754763,-5.581484631609477,1.5543935734675642,-7.329646751868102,-7.289875499921601,4.5875793901935324,1.7537519761390392,9.345572510203223,-7.364260116480779,2.567437947264956,-9.990584425424103,-6.037454148433692,-7.209333640240862,-1.7447893985482956,3.494194658180252,-6.2020042461528675,-9.89436486587966,6.858473483471602,2.130017632237685,-3.342675849839045,-5.290539800869157,2.9027337592100633,-9.924614140737376,-0.8109403494873249,-4.141231058080215,-9.866283825639574,5.603024276706709,-4.590151648851184,-7.116244024044667,1.128941848636602,7.3039363191550635,-7.791986973275915,4.228175156714684,-6.51968610104997],\"z\":[-5.70098508418717,-35.15907881159303,31.66469906198213,21.290085931365347,38.24866787706686,-35.19105109650543,22.15601804262773,19.844040127981838,14.512166259714952,25.355489383084524,-7.464418823478139,5.005110517790774,4.02383416970565,-2.48440150190266,-42.2636971285001,-8.097159334896196,27.71481631432725,46.93506028522466,-5.4332243639521245,20.368353508118563,13.459608455309302,-3.301941720453378,-23.08116631402625,40.60355465684751,20.095517941496603,-32.44403270140015,45.86316986468834,33.96903843576551,45.63447876435308,31.5594161349093,42.86267499489633,-24.68892621724813,-36.916278779276986,-35.74984501591117,52.57155340810441,47.17769803502064,-10.140100477203182,10.000335400513396,-28.40547694428157,-21.5027838797432,-7.895004031154452,-12.138358523843342,-4.942984902458037,40.406234571667106,24.79272627660763,2.4360654539216173,32.73609614338538,7.092374298392695,39.24907777910524,-3.501080853317127,-26.695479948250096,17.35948165780424,-38.184576535017975,-14.718716584521335,48.31070575886398,50.42133829785939,31.160776251933886,46.838375472787696,-47.2789765219657,11.046482094615813,35.95083314164948,29.47934860747085,38.09589374966098,21.03004840445872,29.13196946905478,-8.314114181287795,30.40523435986831,39.371482146081725,-7.258911487369868,-0.2523530096766464,-19.937187912178917,4.170877033877499,40.18155690293646,-19.14734815929574,-25.914647832788024,51.682374666488734,-13.231995404023603,33.341069256635606,0.012973817666916077,3.6859201016104666,-43.38639586023539,7.578552622843708,-22.765274432762762,-31.75667084563277,0.7898488713802077,9.77672066745393,10.025522904120304,13.218946289446059,10.548433265171486,28.094753035022258,41.34270304014798,46.88163032263495,2.214507030351213,34.021260050988005,-37.07111629753778,12.85248213184363,20.457957738222834,51.00352445768129,20.170527374227596,41.18694258879405],\"type\":\"scatter3d\"},{\"marker\":{\"color\":\"red\",\"size\":2},\"mode\":\"markers\",\"name\":\"Observed Points\",\"x\":[-1.6229902173804227,-7.444833963900333,5.559226984755153,3.5264909642889357,7.075827832306235,-7.772830592592288,3.8222487389333892,3.3842934815353836,2.2115961863742015,4.433971932092323,-1.942875034080327,0.4138493730646591,0.17503706605582892,-1.150896619400715,-8.877970653813268,-2.2404723462723712,4.995690536967363,8.685419626115031,-1.5460505986602548,3.3941687505064877,2.149942682269323,-1.3537616967883288,-5.09913375923063,7.396832430268809,3.553120610614215,-6.941474092494413,8.727702065493919,6.059251863943292,8.424124047189423,5.693036074264363,8.05490444577357,-5.525783176791556,-7.844608655406871,-7.557087259640252,9.959047320863053,8.886437138463801,-2.487672043545592,1.423274788956988,-6.2322051129982,-5.020745130997359,-2.2929435531153803,-2.868675845362983,-1.6328042480632838,7.517346501497176,4.50792707450956,-0.26312966197220433,6.078908695576224,0.6283429687747955,7.08824849619522,-1.1847789076898927,-6.0388022288303,2.828237945308034,-8.047816345033073,-3.6981827814709796,9.156655494325317,9.337459207757512,5.683960935484304,8.882877322480482,-9.895760429131395,1.487276235547812,6.410391543702673,5.121585978393821,7.073195104002657,3.425500198351399,5.07638062986403,-2.313070117010028,5.468871806686153,7.385926121848534,-2.082870168943325,-0.5038776668979672,-4.441640072437352,0.14242381897162915,7.401236341064511,-4.616381082063212,-5.635644364227989,9.685126174352447,-3.0465873922962388,6.188962934295795,-0.4532185636617996,0.17207980829305924,-9.347163065210683,1.039750609491799,-4.955167589234959,-7.088503638795986,-0.48463057836871215,1.4221976504875666,1.510915376841444,1.9857345827050104,1.7081789358490447,5.035169413994199,7.751365229191201,8.973651741039781,-0.2691590794638916,6.296055043174626,-7.871898379026662,1.9479175893959937,3.3455128212614653,9.756544631001777,3.3495419717112256,7.767782239779809],\"y\":[-5.860339972850563,-9.349089920913583,8.68564138206365,6.576311099206698,-1.3047128446431344,6.731018664560079,0.44774347960782634,-0.7742727969507861,4.541853278439444,1.8562972262290813,-7.500436530765051,-0.6413634753252158,1.4864883942650593,2.7008159510091545,-8.738438594337612,1.0520239646566019,-2.6363637050956346,5.079621546494984,-7.029713706508511,3.9750975558612573,-2.901049560373128,4.668667634882658,-5.854975178731056,6.193925055034619,-6.700851115744744,-7.366622389280768,-7.753404627812486,6.727791160490547,5.138585284059587,0.9423576358748385,-4.11847233971518,-0.6001033329034975,-6.932355022426262,-9.644087177099053,-2.236831962108539,-2.5448765729836715,-7.01740259475222,-1.160385442715441,-2.4445137929057186,6.00941775243599,5.697137344224508,-7.94979297028428,2.2103633785838195,-1.8049793581877278,-7.469090959401676,7.517137637826391,-6.584473344957433,9.50659454518718,8.078352981291431,-5.771863148676637,4.9853119590140516,2.1829193126406885,-9.454948098526142,7.721973228335624,-4.725717127626117,7.34042259071833,-2.5902842548763605,-5.760111396147116,-8.001743763087319,6.101009168767536,8.98875423136116,8.71418715501748,-2.7008177035230396,9.025474127017247,7.500663197346324,2.51236403762344,0.6087532643754763,-5.581484631609477,1.5543935734675642,-7.329646751868102,-7.289875499921601,4.5875793901935324,1.7537519761390392,9.345572510203223,-7.364260116480779,2.567437947264956,-9.990584425424103,-6.037454148433692,-7.209333640240862,-1.7447893985482956,3.494194658180252,-6.2020042461528675,-9.89436486587966,6.858473483471602,2.130017632237685,-3.342675849839045,-5.290539800869157,2.9027337592100633,-9.924614140737376,-0.8109403494873249,-4.141231058080215,-9.866283825639574,5.603024276706709,-4.590151648851184,-7.116244024044667,1.128941848636602,7.3039363191550635,-7.791986973275915,4.228175156714684,-6.51968610104997],\"z\":[-39.86391359237257,3.4453848924582218,83.04435932252714,62.99822088725727,15.465939552651761,-15.780219261253915,-17.686650421965318,55.70832186524402,40.88893623643014,17.379460131453378,-12.012298092109129,-21.148083870893906,15.250944988509115,-48.98234580467949,-22.23513223448832,30.883259554229177,26.314445920032934,22.269062097338857,-1.8415950235525793,27.543071324645844,33.04666372490524,20.063995141612,-37.12397451072687,46.93214587188098,48.185398396009674,2.0796884043749984,31.268259808075836,53.92317433451342,98.00637464743681,24.969463678404136,36.96798955996239,2.083961346748662,-80.17755445049967,-49.95938140858412,70.72218956939776,9.95882647926792,-36.77781117751542,96.16648356731082,-31.9166767214006,43.3017539313629,-26.001805761980457,-94.18973029043718,-34.5152823825575,35.075168069854705,43.006568928527486,-7.507181025100957,34.275566351241345,35.63464429871081,53.61858146720633,-10.70997313107366,-10.962966675642956,10.432683641854762,-80.2137429859917,-12.186866115857628,63.49678682240434,48.06105406703289,105.49009564668602,81.14014968796218,-69.39928220268223,61.73076093737562,21.121580889840324,38.92507509489475,66.07635410347764,33.815393546515125,-29.293864123652035,-10.863591607594376,-19.642763893390693,59.49646691339747,-5.612900890673668,37.09481512236867,-50.77935562467613,4.687521195628742,-13.443657869425671,-1.9967640808876332,-19.940782291184163,28.50938148808507,-28.4733728900247,22.495540080393823,-5.562607311972917,-8.172272469159553,-34.15622183747902,11.710069810018304,-67.8519828700096,-29.70258065419658,68.60477740823809,-4.002336536317442,-48.59887913221074,8.863665522706565,11.673176567269783,5.341226401162853,38.1875212932374,11.584280866762683,29.915819200239266,61.72715631734707,-23.13401249366666,-11.6608395242385,28.69950189675735,45.14895513240748,28.970865481500358,54.803752797258696],\"type\":\"scatter3d\"},{\"marker\":{\"color\":\"blue\",\"size\":2},\"mode\":\"markers\",\"name\":\"Predicted Points\",\"x\":[-1.6229902173804227,-7.444833963900333,5.559226984755153,3.5264909642889357,7.075827832306235,-7.772830592592288,3.8222487389333892,3.3842934815353836,2.2115961863742015,4.433971932092323,-1.942875034080327,0.4138493730646591,0.17503706605582892,-1.150896619400715,-8.877970653813268,-2.2404723462723712,4.995690536967363,8.685419626115031,-1.5460505986602548,3.3941687505064877,2.149942682269323,-1.3537616967883288,-5.09913375923063,7.396832430268809,3.553120610614215,-6.941474092494413,8.727702065493919,6.059251863943292,8.424124047189423,5.693036074264363,8.05490444577357,-5.525783176791556,-7.844608655406871,-7.557087259640252,9.959047320863053,8.886437138463801,-2.487672043545592,1.423274788956988,-6.2322051129982,-5.020745130997359,-2.2929435531153803,-2.868675845362983,-1.6328042480632838,7.517346501497176,4.50792707450956,-0.26312966197220433,6.078908695576224,0.6283429687747955,7.08824849619522,-1.1847789076898927,-6.0388022288303,2.828237945308034,-8.047816345033073,-3.6981827814709796,9.156655494325317,9.337459207757512,5.683960935484304,8.882877322480482,-9.895760429131395,1.487276235547812,6.410391543702673,5.121585978393821,7.073195104002657,3.425500198351399,5.07638062986403,-2.313070117010028,5.468871806686153,7.385926121848534,-2.082870168943325,-0.5038776668979672,-4.441640072437352,0.14242381897162915,7.401236341064511,-4.616381082063212,-5.635644364227989,9.685126174352447,-3.0465873922962388,6.188962934295795,-0.4532185636617996,0.17207980829305924,-9.347163065210683,1.039750609491799,-4.955167589234959,-7.088503638795986,-0.48463057836871215,1.4221976504875666,1.510915376841444,1.9857345827050104,1.7081789358490447,5.035169413994199,7.751365229191201,8.973651741039781,-0.2691590794638916,6.296055043174626,-7.871898379026662,1.9479175893959937,3.3455128212614653,9.756544631001777,3.3495419717112256,7.767782239779809],\"y\":[-5.860339972850563,-9.349089920913583,8.68564138206365,6.576311099206698,-1.3047128446431344,6.731018664560079,0.44774347960782634,-0.7742727969507861,4.541853278439444,1.8562972262290813,-7.500436530765051,-0.6413634753252158,1.4864883942650593,2.7008159510091545,-8.738438594337612,1.0520239646566019,-2.6363637050956346,5.079621546494984,-7.029713706508511,3.9750975558612573,-2.901049560373128,4.668667634882658,-5.854975178731056,6.193925055034619,-6.700851115744744,-7.366622389280768,-7.753404627812486,6.727791160490547,5.138585284059587,0.9423576358748385,-4.11847233971518,-0.6001033329034975,-6.932355022426262,-9.644087177099053,-2.236831962108539,-2.5448765729836715,-7.01740259475222,-1.160385442715441,-2.4445137929057186,6.00941775243599,5.697137344224508,-7.94979297028428,2.2103633785838195,-1.8049793581877278,-7.469090959401676,7.517137637826391,-6.584473344957433,9.50659454518718,8.078352981291431,-5.771863148676637,4.9853119590140516,2.1829193126406885,-9.454948098526142,7.721973228335624,-4.725717127626117,7.34042259071833,-2.5902842548763605,-5.760111396147116,-8.001743763087319,6.101009168767536,8.98875423136116,8.71418715501748,-2.7008177035230396,9.025474127017247,7.500663197346324,2.51236403762344,0.6087532643754763,-5.581484631609477,1.5543935734675642,-7.329646751868102,-7.289875499921601,4.5875793901935324,1.7537519761390392,9.345572510203223,-7.364260116480779,2.567437947264956,-9.990584425424103,-6.037454148433692,-7.209333640240862,-1.7447893985482956,3.494194658180252,-6.2020042461528675,-9.89436486587966,6.858473483471602,2.130017632237685,-3.342675849839045,-5.290539800869157,2.9027337592100633,-9.924614140737376,-0.8109403494873249,-4.141231058080215,-9.866283825639574,5.603024276706709,-4.590151648851184,-7.116244024044667,1.128941848636602,7.3039363191550635,-7.791986973275915,4.228175156714684,-6.51968610104997],\"z\":[-9.559844171093335,-42.34886631212846,43.4652730567318,30.92260535661638,38.62568955820552,-24.212920579089094,24.84655107503609,21.201869113170456,21.98666430175321,29.57107864802365,-13.139698742083565,6.820702898225591,8.263808107059145,3.2624279796463154,-48.61629787391069,-4.096780375929384,26.805704075432146,54.34501839368953,-10.618788687888147,27.081137199076586,12.54695762082817,4.685107459804342,-26.573682653228538,49.403697942933334,14.752304700303112,-37.45031614145538,38.79663574622546,43.509871821237375,53.13801425623603,34.61383537626805,39.96507436202717,-22.211177171338676,-41.33922112990689,-43.26067321371531,51.59856433342064,45.96849280650458,-15.214184787266573,11.125990151244338,-27.934494879693155,-11.623666033623222,1.3492185988179477,-18.224431705199173,0.3006979162842187,40.173331572099464,18.484187565702143,13.522361192791145,27.262333885114444,20.329829360766077,50.20631927169326,-7.305581914879811,-17.865751811797082,22.109840364090026,-45.43124535831901,-3.0453890317266357,44.6141072183686,60.31327356495475,30.232291569794597,42.00364219504303,-52.69529781327377,20.354351205955126,48.005013856385304,41.35747464103426,36.89876755030584,33.43501482049718,39.64626099545147,-2.659350323640391,33.1066740041933,34.89334541721185,-2.708333369059371,-5.884177349421611,-25.11602299212995,11.911405542159402,43.97395462761061,-5.547880228113682,-31.053612950271003,56.15566655709648,-21.60107775177555,28.472786776345913,-5.4884212329123905,4.2822114966252975,-35.89533375252326,3.05840480247977,-30.828028586487548,-20.705735099626878,5.8239188243233535,8.44146610666835,6.484420347565102,18.86838008153896,1.7609286959658323,29.240122385197466,38.45089786468044,37.406859917728895,11.14283640038757,30.774035323795253,-41.69860615725961,16.505488097490506,30.9297953706291,43.78684339849077,27.17333815640793,35.61119534160605],\"type\":\"scatter3d\"}],                        {\"scene\":{\"camera\":{\"eye\":{\"x\":-1,\"y\":-2,\"z\":0.5}},\"xaxis\":{\"title\":{\"text\":\"Feature 1\"}},\"yaxis\":{\"title\":{\"text\":\"Feature 2\"}},\"zaxis\":{\"title\":{\"text\":\"Response\"}}},\"title\":{\"text\":\"$\\\\text{(4) Bivariate Linear Regression}$\"},\"template\":{\"data\":{\"barpolar\":[{\"marker\":{\"line\":{\"color\":\"white\",\"width\":0.5},\"pattern\":{\"fillmode\":\"overlay\",\"size\":10,\"solidity\":0.2}},\"type\":\"barpolar\"}],\"bar\":[{\"error_x\":{\"color\":\"rgb(36,36,36)\"},\"error_y\":{\"color\":\"rgb(36,36,36)\"},\"marker\":{\"line\":{\"color\":\"white\",\"width\":0.5},\"pattern\":{\"fillmode\":\"overlay\",\"size\":10,\"solidity\":0.2}},\"type\":\"bar\"}],\"carpet\":[{\"aaxis\":{\"endlinecolor\":\"rgb(36,36,36)\",\"gridcolor\":\"white\",\"linecolor\":\"white\",\"minorgridcolor\":\"white\",\"startlinecolor\":\"rgb(36,36,36)\"},\"baxis\":{\"endlinecolor\":\"rgb(36,36,36)\",\"gridcolor\":\"white\",\"linecolor\":\"white\",\"minorgridcolor\":\"white\",\"startlinecolor\":\"rgb(36,36,36)\"},\"type\":\"carpet\"}],\"choropleth\":[{\"colorbar\":{\"outlinewidth\":1,\"tickcolor\":\"rgb(36,36,36)\",\"ticks\":\"outside\"},\"type\":\"choropleth\"}],\"contourcarpet\":[{\"colorbar\":{\"outlinewidth\":1,\"tickcolor\":\"rgb(36,36,36)\",\"ticks\":\"outside\"},\"type\":\"contourcarpet\"}],\"contour\":[{\"colorbar\":{\"outlinewidth\":1,\"tickcolor\":\"rgb(36,36,36)\",\"ticks\":\"outside\"},\"colorscale\":[[0.0,\"#440154\"],[0.1111111111111111,\"#482878\"],[0.2222222222222222,\"#3e4989\"],[0.3333333333333333,\"#31688e\"],[0.4444444444444444,\"#26828e\"],[0.5555555555555556,\"#1f9e89\"],[0.6666666666666666,\"#35b779\"],[0.7777777777777778,\"#6ece58\"],[0.8888888888888888,\"#b5de2b\"],[1.0,\"#fde725\"]],\"type\":\"contour\"}],\"heatmapgl\":[{\"colorbar\":{\"outlinewidth\":1,\"tickcolor\":\"rgb(36,36,36)\",\"ticks\":\"outside\"},\"colorscale\":[[0.0,\"#440154\"],[0.1111111111111111,\"#482878\"],[0.2222222222222222,\"#3e4989\"],[0.3333333333333333,\"#31688e\"],[0.4444444444444444,\"#26828e\"],[0.5555555555555556,\"#1f9e89\"],[0.6666666666666666,\"#35b779\"],[0.7777777777777778,\"#6ece58\"],[0.8888888888888888,\"#b5de2b\"],[1.0,\"#fde725\"]],\"type\":\"heatmapgl\"}],\"heatmap\":[{\"colorbar\":{\"outlinewidth\":1,\"tickcolor\":\"rgb(36,36,36)\",\"ticks\":\"outside\"},\"colorscale\":[[0.0,\"#440154\"],[0.1111111111111111,\"#482878\"],[0.2222222222222222,\"#3e4989\"],[0.3333333333333333,\"#31688e\"],[0.4444444444444444,\"#26828e\"],[0.5555555555555556,\"#1f9e89\"],[0.6666666666666666,\"#35b779\"],[0.7777777777777778,\"#6ece58\"],[0.8888888888888888,\"#b5de2b\"],[1.0,\"#fde725\"]],\"type\":\"heatmap\"}],\"histogram2dcontour\":[{\"colorbar\":{\"outlinewidth\":1,\"tickcolor\":\"rgb(36,36,36)\",\"ticks\":\"outside\"},\"colorscale\":[[0.0,\"#440154\"],[0.1111111111111111,\"#482878\"],[0.2222222222222222,\"#3e4989\"],[0.3333333333333333,\"#31688e\"],[0.4444444444444444,\"#26828e\"],[0.5555555555555556,\"#1f9e89\"],[0.6666666666666666,\"#35b779\"],[0.7777777777777778,\"#6ece58\"],[0.8888888888888888,\"#b5de2b\"],[1.0,\"#fde725\"]],\"type\":\"histogram2dcontour\"}],\"histogram2d\":[{\"colorbar\":{\"outlinewidth\":1,\"tickcolor\":\"rgb(36,36,36)\",\"ticks\":\"outside\"},\"colorscale\":[[0.0,\"#440154\"],[0.1111111111111111,\"#482878\"],[0.2222222222222222,\"#3e4989\"],[0.3333333333333333,\"#31688e\"],[0.4444444444444444,\"#26828e\"],[0.5555555555555556,\"#1f9e89\"],[0.6666666666666666,\"#35b779\"],[0.7777777777777778,\"#6ece58\"],[0.8888888888888888,\"#b5de2b\"],[1.0,\"#fde725\"]],\"type\":\"histogram2d\"}],\"histogram\":[{\"marker\":{\"line\":{\"color\":\"white\",\"width\":0.6}},\"type\":\"histogram\"}],\"mesh3d\":[{\"colorbar\":{\"outlinewidth\":1,\"tickcolor\":\"rgb(36,36,36)\",\"ticks\":\"outside\"},\"type\":\"mesh3d\"}],\"parcoords\":[{\"line\":{\"colorbar\":{\"outlinewidth\":1,\"tickcolor\":\"rgb(36,36,36)\",\"ticks\":\"outside\"}},\"type\":\"parcoords\"}],\"pie\":[{\"automargin\":true,\"type\":\"pie\"}],\"scatter3d\":[{\"line\":{\"colorbar\":{\"outlinewidth\":1,\"tickcolor\":\"rgb(36,36,36)\",\"ticks\":\"outside\"}},\"marker\":{\"colorbar\":{\"outlinewidth\":1,\"tickcolor\":\"rgb(36,36,36)\",\"ticks\":\"outside\"}},\"type\":\"scatter3d\"}],\"scattercarpet\":[{\"marker\":{\"colorbar\":{\"outlinewidth\":1,\"tickcolor\":\"rgb(36,36,36)\",\"ticks\":\"outside\"}},\"type\":\"scattercarpet\"}],\"scattergeo\":[{\"marker\":{\"colorbar\":{\"outlinewidth\":1,\"tickcolor\":\"rgb(36,36,36)\",\"ticks\":\"outside\"}},\"type\":\"scattergeo\"}],\"scattergl\":[{\"marker\":{\"colorbar\":{\"outlinewidth\":1,\"tickcolor\":\"rgb(36,36,36)\",\"ticks\":\"outside\"}},\"type\":\"scattergl\"}],\"scattermapbox\":[{\"marker\":{\"colorbar\":{\"outlinewidth\":1,\"tickcolor\":\"rgb(36,36,36)\",\"ticks\":\"outside\"}},\"type\":\"scattermapbox\"}],\"scatterpolargl\":[{\"marker\":{\"colorbar\":{\"outlinewidth\":1,\"tickcolor\":\"rgb(36,36,36)\",\"ticks\":\"outside\"}},\"type\":\"scatterpolargl\"}],\"scatterpolar\":[{\"marker\":{\"colorbar\":{\"outlinewidth\":1,\"tickcolor\":\"rgb(36,36,36)\",\"ticks\":\"outside\"}},\"type\":\"scatterpolar\"}],\"scatter\":[{\"marker\":{\"colorbar\":{\"outlinewidth\":1,\"tickcolor\":\"rgb(36,36,36)\",\"ticks\":\"outside\"}},\"type\":\"scatter\"}],\"scatterternary\":[{\"marker\":{\"colorbar\":{\"outlinewidth\":1,\"tickcolor\":\"rgb(36,36,36)\",\"ticks\":\"outside\"}},\"type\":\"scatterternary\"}],\"surface\":[{\"colorbar\":{\"outlinewidth\":1,\"tickcolor\":\"rgb(36,36,36)\",\"ticks\":\"outside\"},\"colorscale\":[[0.0,\"#440154\"],[0.1111111111111111,\"#482878\"],[0.2222222222222222,\"#3e4989\"],[0.3333333333333333,\"#31688e\"],[0.4444444444444444,\"#26828e\"],[0.5555555555555556,\"#1f9e89\"],[0.6666666666666666,\"#35b779\"],[0.7777777777777778,\"#6ece58\"],[0.8888888888888888,\"#b5de2b\"],[1.0,\"#fde725\"]],\"type\":\"surface\"}],\"table\":[{\"cells\":{\"fill\":{\"color\":\"rgb(237,237,237)\"},\"line\":{\"color\":\"white\"}},\"header\":{\"fill\":{\"color\":\"rgb(217,217,217)\"},\"line\":{\"color\":\"white\"}},\"type\":\"table\"}]},\"layout\":{\"annotationdefaults\":{\"arrowhead\":0,\"arrowwidth\":1},\"autotypenumbers\":\"strict\",\"coloraxis\":{\"colorbar\":{\"outlinewidth\":1,\"tickcolor\":\"rgb(36,36,36)\",\"ticks\":\"outside\"}},\"colorscale\":{\"diverging\":[[0.0,\"rgb(103,0,31)\"],[0.1,\"rgb(178,24,43)\"],[0.2,\"rgb(214,96,77)\"],[0.3,\"rgb(244,165,130)\"],[0.4,\"rgb(253,219,199)\"],[0.5,\"rgb(247,247,247)\"],[0.6,\"rgb(209,229,240)\"],[0.7,\"rgb(146,197,222)\"],[0.8,\"rgb(67,147,195)\"],[0.9,\"rgb(33,102,172)\"],[1.0,\"rgb(5,48,97)\"]],\"sequential\":[[0.0,\"#440154\"],[0.1111111111111111,\"#482878\"],[0.2222222222222222,\"#3e4989\"],[0.3333333333333333,\"#31688e\"],[0.4444444444444444,\"#26828e\"],[0.5555555555555556,\"#1f9e89\"],[0.6666666666666666,\"#35b779\"],[0.7777777777777778,\"#6ece58\"],[0.8888888888888888,\"#b5de2b\"],[1.0,\"#fde725\"]],\"sequentialminus\":[[0.0,\"#440154\"],[0.1111111111111111,\"#482878\"],[0.2222222222222222,\"#3e4989\"],[0.3333333333333333,\"#31688e\"],[0.4444444444444444,\"#26828e\"],[0.5555555555555556,\"#1f9e89\"],[0.6666666666666666,\"#35b779\"],[0.7777777777777778,\"#6ece58\"],[0.8888888888888888,\"#b5de2b\"],[1.0,\"#fde725\"]]},\"colorway\":[\"#1F77B4\",\"#FF7F0E\",\"#2CA02C\",\"#D62728\",\"#9467BD\",\"#8C564B\",\"#E377C2\",\"#7F7F7F\",\"#BCBD22\",\"#17BECF\"],\"font\":{\"color\":\"rgb(36,36,36)\"},\"geo\":{\"bgcolor\":\"white\",\"lakecolor\":\"white\",\"landcolor\":\"white\",\"showlakes\":true,\"showland\":true,\"subunitcolor\":\"white\"},\"hoverlabel\":{\"align\":\"left\"},\"hovermode\":\"closest\",\"mapbox\":{\"style\":\"light\"},\"paper_bgcolor\":\"white\",\"plot_bgcolor\":\"white\",\"polar\":{\"angularaxis\":{\"gridcolor\":\"rgb(232,232,232)\",\"linecolor\":\"rgb(36,36,36)\",\"showgrid\":false,\"showline\":true,\"ticks\":\"outside\"},\"bgcolor\":\"white\",\"radialaxis\":{\"gridcolor\":\"rgb(232,232,232)\",\"linecolor\":\"rgb(36,36,36)\",\"showgrid\":false,\"showline\":true,\"ticks\":\"outside\"}},\"scene\":{\"xaxis\":{\"backgroundcolor\":\"white\",\"gridcolor\":\"rgb(232,232,232)\",\"gridwidth\":2,\"linecolor\":\"rgb(36,36,36)\",\"showbackground\":true,\"showgrid\":false,\"showline\":true,\"ticks\":\"outside\",\"zeroline\":false,\"zerolinecolor\":\"rgb(36,36,36)\"},\"yaxis\":{\"backgroundcolor\":\"white\",\"gridcolor\":\"rgb(232,232,232)\",\"gridwidth\":2,\"linecolor\":\"rgb(36,36,36)\",\"showbackground\":true,\"showgrid\":false,\"showline\":true,\"ticks\":\"outside\",\"zeroline\":false,\"zerolinecolor\":\"rgb(36,36,36)\"},\"zaxis\":{\"backgroundcolor\":\"white\",\"gridcolor\":\"rgb(232,232,232)\",\"gridwidth\":2,\"linecolor\":\"rgb(36,36,36)\",\"showbackground\":true,\"showgrid\":false,\"showline\":true,\"ticks\":\"outside\",\"zeroline\":false,\"zerolinecolor\":\"rgb(36,36,36)\"}},\"shapedefaults\":{\"fillcolor\":\"black\",\"line\":{\"width\":0},\"opacity\":0.3},\"ternary\":{\"aaxis\":{\"gridcolor\":\"rgb(232,232,232)\",\"linecolor\":\"rgb(36,36,36)\",\"showgrid\":false,\"showline\":true,\"ticks\":\"outside\"},\"baxis\":{\"gridcolor\":\"rgb(232,232,232)\",\"linecolor\":\"rgb(36,36,36)\",\"showgrid\":false,\"showline\":true,\"ticks\":\"outside\"},\"bgcolor\":\"white\",\"caxis\":{\"gridcolor\":\"rgb(232,232,232)\",\"linecolor\":\"rgb(36,36,36)\",\"showgrid\":false,\"showline\":true,\"ticks\":\"outside\"}},\"title\":{\"x\":0.05},\"xaxis\":{\"automargin\":true,\"gridcolor\":\"rgb(232,232,232)\",\"linecolor\":\"rgb(36,36,36)\",\"showgrid\":false,\"showline\":true,\"ticks\":\"outside\",\"title\":{\"standoff\":15},\"zeroline\":false,\"zerolinecolor\":\"rgb(36,36,36)\"},\"yaxis\":{\"automargin\":true,\"gridcolor\":\"rgb(232,232,232)\",\"linecolor\":\"rgb(36,36,36)\",\"showgrid\":false,\"showline\":true,\"ticks\":\"outside\",\"title\":{\"standoff\":15},\"zeroline\":false,\"zerolinecolor\":\"rgb(36,36,36)\"},\"margin\":{\"b\":0,\"l\":20,\"r\":20,\"t\":40}}}},                        {\"responsive\": true}                    ).then(function(){\n",
       "                            \n",
       "var gd = document.getElementById('78ec1b50-3230-4065-b525-29b3567e8d09');\n",
       "var x = new MutationObserver(function (mutations, observer) {{\n",
       "        var display = window.getComputedStyle(gd).display;\n",
       "        if (!display || display === 'none') {{\n",
       "            console.log([gd, 'removed!']);\n",
       "            Plotly.purge(gd);\n",
       "            observer.disconnect();\n",
       "        }}\n",
       "}});\n",
       "\n",
       "// Listen for the removal of the full notebook cells\n",
       "var notebookContainer = gd.closest('#notebook-container');\n",
       "if (notebookContainer) {{\n",
       "    x.observe(notebookContainer, {childList: true});\n",
       "}}\n",
       "\n",
       "// Listen for the clearing of the current output cell\n",
       "var outputEl = gd.closest('.output');\n",
       "if (outputEl) {{\n",
       "    x.observe(outputEl, {childList: true});\n",
       "}}\n",
       "\n",
       "                        })                };                });            </script>        </div>"
      ]
     },
     "metadata": {},
     "output_type": "display_data"
    }
   ],
   "source": [
    "go.Figure([go.Surface(x=xv1, y=xv2, z=surface, opacity=.5, showscale=False),\n",
    "           go.Scatter3d(name=\"Real (noise-less) Points\", x=x[:,0], y=x[:,1], z=y_,    mode=\"markers\", marker=dict(color=\"black\", size=2)),\n",
    "           go.Scatter3d(name=\"Observed Points\",          x=x[:,0], y=x[:,1], z=y,     mode=\"markers\", marker=dict(color=\"red\", size=2)),\n",
    "           go.Scatter3d(name=\"Predicted Points\",         x=x[:,0], y=x[:,1], z=y_hat, mode=\"markers\", marker=dict(color=\"blue\", size=2))],\n",
    "          layout=go.Layout(\n",
    "              title=r\"$\\text{(4) Bivariate Linear Regression}$\",\n",
    "              scene=dict(xaxis=dict(title=\"Feature 1\"),\n",
    "                         yaxis=dict(title=\"Feature 2\"),\n",
    "                         zaxis=dict(title=\"Response\"),\n",
    "                         camera=dict(eye=dict(x=-1, y=-2, z=.5)))\n",
    "          )).show()"
   ]
  },
  {
   "cell_type": "markdown",
   "metadata": {
    "pycharm": {
     "name": "#%% md\n"
    }
   },
   "source": [
    "# Time To Think...\n",
    "In the scenario above we performed a linear regression over observations with more than two features (i.e multi-variate\n",
    "linear regression). In gradient color we see the subspace from which our data-points are drawn. As we have 2 features, the subspace is a 2D plane.\n",
    "\n",
    "Try rotating the figure above and look at the plane from its different axes (such that it looks like a line rather than a plane). This view allows you to see the fit between the one specific feature and the response, similar to the case of fitting a simple linear regression using that feature. \n",
    "\n",
    "Run the code generating the data and graph with more/less samples and high/lower noise levels. How do these changes influence the quality of the fit? "
   ]
  },
  {
   "cell_type": "code",
   "execution_count": null,
   "metadata": {},
   "outputs": [],
   "source": []
  },
  {
   "cell_type": "code",
   "execution_count": null,
   "metadata": {},
   "outputs": [],
   "source": []
  },
  {
   "cell_type": "code",
   "execution_count": null,
   "metadata": {},
   "outputs": [],
   "source": []
  }
 ],
 "metadata": {
  "kernelspec": {
   "display_name": "Python 3 (ipykernel)",
   "language": "python",
   "name": "python3"
  },
  "language_info": {
   "codemirror_mode": {
    "name": "ipython",
    "version": 3
   },
   "file_extension": ".py",
   "mimetype": "text/x-python",
   "name": "python",
   "nbconvert_exporter": "python",
   "pygments_lexer": "ipython3",
   "version": "3.7.11"
  },
  "pycharm": {
   "stem_cell": {
    "cell_type": "raw",
    "metadata": {
     "collapsed": false
    },
    "source": []
   }
  }
 },
 "nbformat": 4,
 "nbformat_minor": 1
}
